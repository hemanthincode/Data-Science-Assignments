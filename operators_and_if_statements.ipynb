{
  "nbformat": 4,
  "nbformat_minor": 0,
  "metadata": {
    "colab": {
      "provenance": []
    },
    "kernelspec": {
      "name": "python3",
      "display_name": "Python 3"
    },
    "language_info": {
      "name": "python"
    }
  },
  "cells": [
    {
      "cell_type": "code",
      "source": [
        "text = 'one one was a rase horse, two two was one too'   # replace\n",
        "text.replace('one','three')"
      ],
      "metadata": {
        "id": "ReK1OE6pvIB2",
        "colab": {
          "base_uri": "https://localhost:8080/",
          "height": 35
        },
        "outputId": "b68668e9-702c-44a7-b204-d16b2a4feaf6"
      },
      "execution_count": 4,
      "outputs": [
        {
          "output_type": "execute_result",
          "data": {
            "text/plain": [
              "'three three was a rase horse, two two was three too'"
            ],
            "application/vnd.google.colaboratory.intrinsic+json": {
              "type": "string"
            }
          },
          "metadata": {},
          "execution_count": 4
        }
      ]
    },
    {
      "cell_type": "code",
      "source": [
        "txt = 'i am hemanth kumar'         # find\n",
        "txt.find('e')"
      ],
      "metadata": {
        "id": "qkFfA5NvvHvn",
        "colab": {
          "base_uri": "https://localhost:8080/"
        },
        "outputId": "c1a18075-494f-4ed8-921b-dc0e09c41f16"
      },
      "execution_count": 5,
      "outputs": [
        {
          "output_type": "execute_result",
          "data": {
            "text/plain": [
              "6"
            ]
          },
          "metadata": {},
          "execution_count": 5
        }
      ]
    },
    {
      "cell_type": "code",
      "source": [
        "txt = 'company12'                # isalnum\n",
        "txt.isalnum()"
      ],
      "metadata": {
        "colab": {
          "base_uri": "https://localhost:8080/"
        },
        "id": "oHCA4CTFx9gi",
        "outputId": "535e2f37-f7d7-4840-8686-a01328c0e1db"
      },
      "execution_count": 6,
      "outputs": [
        {
          "output_type": "execute_result",
          "data": {
            "text/plain": [
              "True"
            ]
          },
          "metadata": {},
          "execution_count": 6
        }
      ]
    },
    {
      "cell_type": "code",
      "source": [
        "txt = 'i am hemanth kumar, i am 23 years old, i am learning python' # split\n",
        "txt.split(',')"
      ],
      "metadata": {
        "colab": {
          "base_uri": "https://localhost:8080/"
        },
        "id": "lZcy0Ae-yS-_",
        "outputId": "a3eb188e-5534-46af-9802-1d49330cfdcd"
      },
      "execution_count": 7,
      "outputs": [
        {
          "output_type": "execute_result",
          "data": {
            "text/plain": [
              "['i am hemanth kumar', ' i am 23 years old', ' i am learning python']"
            ]
          },
          "metadata": {},
          "execution_count": 7
        }
      ]
    },
    {
      "cell_type": "code",
      "source": [
        "mytuple = ('john','peter','vicky')         #join\n",
        "'#'.join(mytuple)"
      ],
      "metadata": {
        "colab": {
          "base_uri": "https://localhost:8080/",
          "height": 35
        },
        "id": "a18G1SmOykXQ",
        "outputId": "78a359b6-a8b3-4cf9-9f8c-60b89b8616bf"
      },
      "execution_count": 8,
      "outputs": [
        {
          "output_type": "execute_result",
          "data": {
            "text/plain": [
              "'john#peter#vicky'"
            ],
            "application/vnd.google.colaboratory.intrinsic+json": {
              "type": "string"
            }
          },
          "metadata": {},
          "execution_count": 8
        }
      ]
    },
    {
      "cell_type": "code",
      "source": [
        "s = 'aaaa,bbbbb,cccc      '        # rstrip\n",
        "s.rstrip()"
      ],
      "metadata": {
        "colab": {
          "base_uri": "https://localhost:8080/",
          "height": 35
        },
        "id": "fOdtzYP9y0pX",
        "outputId": "82716d37-31ae-4190-d30a-ca178ba8d78c"
      },
      "execution_count": 9,
      "outputs": [
        {
          "output_type": "execute_result",
          "data": {
            "text/plain": [
              "'aaaa,bbbbb,cccc'"
            ],
            "application/vnd.google.colaboratory.intrinsic+json": {
              "type": "string"
            }
          },
          "metadata": {},
          "execution_count": 9
        }
      ]
    },
    {
      "cell_type": "code",
      "source": [
        "s = '           aaaa,bbbbb,cccc'        # lstrip\n",
        "s.lstrip()"
      ],
      "metadata": {
        "colab": {
          "base_uri": "https://localhost:8080/",
          "height": 35
        },
        "id": "UK-i6S-8zaUF",
        "outputId": "3ec6f05f-e4b0-475e-904a-82fd718ae5fe"
      },
      "execution_count": 10,
      "outputs": [
        {
          "output_type": "execute_result",
          "data": {
            "text/plain": [
              "'aaaa,bbbbb,cccc'"
            ],
            "application/vnd.google.colaboratory.intrinsic+json": {
              "type": "string"
            }
          },
          "metadata": {},
          "execution_count": 10
        }
      ]
    },
    {
      "cell_type": "code",
      "source": [
        "s = '   aaaa,bbbbb,cccc   '        # strip\n",
        "s.strip()"
      ],
      "metadata": {
        "colab": {
          "base_uri": "https://localhost:8080/",
          "height": 35
        },
        "id": "9jZcfDIizxvg",
        "outputId": "853a29df-7334-4b39-84c6-9ccc99067669"
      },
      "execution_count": 11,
      "outputs": [
        {
          "output_type": "execute_result",
          "data": {
            "text/plain": [
              "'aaaa,bbbbb,cccc'"
            ],
            "application/vnd.google.colaboratory.intrinsic+json": {
              "type": "string"
            }
          },
          "metadata": {},
          "execution_count": 11
        }
      ]
    },
    {
      "cell_type": "code",
      "source": [
        "s = \"I love India\"         # startswith\n",
        "s.startswith('a')"
      ],
      "metadata": {
        "colab": {
          "base_uri": "https://localhost:8080/"
        },
        "id": "_e_Zcl4uz4WG",
        "outputId": "dc7c37ad-2a46-41b9-ba48-1016b520400b"
      },
      "execution_count": 1,
      "outputs": [
        {
          "output_type": "execute_result",
          "data": {
            "text/plain": [
              "False"
            ]
          },
          "metadata": {},
          "execution_count": 1
        }
      ]
    },
    {
      "cell_type": "code",
      "source": [
        "s = \"I love India\"         # endwith\n",
        "s.endswith('a')"
      ],
      "metadata": {
        "colab": {
          "base_uri": "https://localhost:8080/"
        },
        "id": "3ehr8NtE0c13",
        "outputId": "8db3b6a8-a3e9-4948-db3b-908f3990e06f"
      },
      "execution_count": 2,
      "outputs": [
        {
          "output_type": "execute_result",
          "data": {
            "text/plain": [
              "True"
            ]
          },
          "metadata": {},
          "execution_count": 2
        }
      ]
    },
    {
      "cell_type": "code",
      "source": [
        "txt = 'banana'\n",
        "x = txt.center(80)\n",
        "x"
      ],
      "metadata": {
        "colab": {
          "base_uri": "https://localhost:8080/",
          "height": 35
        },
        "id": "gHpRaboc0qs1",
        "outputId": "c4ab3544-30da-44d6-ad78-af015625f2f7"
      },
      "execution_count": 3,
      "outputs": [
        {
          "output_type": "execute_result",
          "data": {
            "text/plain": [
              "'                                     banana                                     '"
            ],
            "application/vnd.google.colaboratory.intrinsic+json": {
              "type": "string"
            }
          },
          "metadata": {},
          "execution_count": 3
        }
      ]
    },
    {
      "cell_type": "code",
      "source": [
        "txt = 'banana'\n",
        "x = txt.center(80,'0')         # center\n",
        "x"
      ],
      "metadata": {
        "colab": {
          "base_uri": "https://localhost:8080/",
          "height": 35
        },
        "id": "5yZXQsGl1CJz",
        "outputId": "31068b78-2b5f-4527-cb47-8f00685404fe"
      },
      "execution_count": 12,
      "outputs": [
        {
          "output_type": "execute_result",
          "data": {
            "text/plain": [
              "'0000000000000000000000000000000000000banana0000000000000000000000000000000000000'"
            ],
            "application/vnd.google.colaboratory.intrinsic+json": {
              "type": "string"
            }
          },
          "metadata": {},
          "execution_count": 12
        }
      ]
    },
    {
      "cell_type": "code",
      "source": [
        "s = 'i love apple, apple is my favourite fruit'  # count\n",
        "s.count('apple')"
      ],
      "metadata": {
        "colab": {
          "base_uri": "https://localhost:8080/"
        },
        "id": "JNYmaaJI1N06",
        "outputId": "2f030d83-316a-4f13-c383-83dbc3a0a74a"
      },
      "execution_count": 20,
      "outputs": [
        {
          "output_type": "execute_result",
          "data": {
            "text/plain": [
              "2"
            ]
          },
          "metadata": {},
          "execution_count": 20
        }
      ]
    },
    {
      "cell_type": "code",
      "source": [
        "s = 'i love apple, apple is my favourite fruit'  # count\n",
        "s.count('apple',10,24)"
      ],
      "metadata": {
        "colab": {
          "base_uri": "https://localhost:8080/"
        },
        "id": "nOikBUkP1syI",
        "outputId": "6afd6729-d6fd-4ac2-bc85-3997d9c0c314"
      },
      "execution_count": 22,
      "outputs": [
        {
          "output_type": "execute_result",
          "data": {
            "text/plain": [
              "1"
            ]
          },
          "metadata": {},
          "execution_count": 22
        }
      ]
    },
    {
      "cell_type": "code",
      "source": [
        "s = 'i love applesss, apple is my favourate fruit'\n",
        "s.count('apple')"
      ],
      "metadata": {
        "colab": {
          "base_uri": "https://localhost:8080/"
        },
        "id": "HhAmPOpK135v",
        "outputId": "ab133f11-e692-4d40-b5a1-262381555d39"
      },
      "execution_count": 23,
      "outputs": [
        {
          "output_type": "execute_result",
          "data": {
            "text/plain": [
              "2"
            ]
          },
          "metadata": {},
          "execution_count": 23
        }
      ]
    },
    {
      "cell_type": "code",
      "source": [
        "age =int(input('enter age'))                             # if\n",
        "if age >= 18:\n",
        "  print('you can vote')\n"
      ],
      "metadata": {
        "colab": {
          "base_uri": "https://localhost:8080/"
        },
        "id": "EPJlu6Y92-PH",
        "outputId": "2e0dfdf1-033e-4927-908e-8af19f608af7"
      },
      "execution_count": 25,
      "outputs": [
        {
          "output_type": "stream",
          "name": "stdout",
          "text": [
            "enter age18\n",
            "you can vote\n"
          ]
        }
      ]
    },
    {
      "cell_type": "code",
      "source": [
        "age =int(input('enter age'))                             # if\n",
        "if age >= 18:\n",
        "  print('you can vote')\n",
        "else:\n",
        "  print('you can not vote')"
      ],
      "metadata": {
        "colab": {
          "base_uri": "https://localhost:8080/"
        },
        "id": "eUNjfMO243IH",
        "outputId": "4ede7cbb-d46c-4870-952d-a20293ad9e27"
      },
      "execution_count": 26,
      "outputs": [
        {
          "output_type": "stream",
          "name": "stdout",
          "text": [
            "enter age14\n",
            "you can not vote\n"
          ]
        }
      ]
    },
    {
      "cell_type": "code",
      "source": [
        "number = int(input('enter a number'))\n",
        "if number == 0:\n",
        "  print('number is zero')\n",
        "elif number %2 == 0:\n",
        "  print('number is even')\n",
        "elif number >= 0:\n",
        "  print('positive number')\n",
        "elif number <0:\n",
        "  print('negative number')\n",
        "else:\n",
        "  print('odd number')"
      ],
      "metadata": {
        "colab": {
          "base_uri": "https://localhost:8080/"
        },
        "id": "xQmetHP55Evd",
        "outputId": "61d5ba5c-7b20-4aa1-ff9d-da0cb951c10d"
      },
      "execution_count": 29,
      "outputs": [
        {
          "output_type": "stream",
          "name": "stdout",
          "text": [
            "enter a number12\n",
            "number is even\n"
          ]
        }
      ]
    },
    {
      "cell_type": "code",
      "source": [
        "number = int(input('enter a number'))\n",
        "if number == 0:\n",
        "  print('number is zero')\n",
        "if number %2 == 0:\n",
        "  print('number is even')\n",
        "if number >= 0:\n",
        "  print('positive number')\n",
        "if number <0:\n",
        "  print('negative number')\n",
        "if number %2 != 0:\n",
        "  print('odd number')"
      ],
      "metadata": {
        "colab": {
          "base_uri": "https://localhost:8080/"
        },
        "id": "yqzDZ0V89mZt",
        "outputId": "25466be6-b012-44a8-f284-8a7a15e5b866"
      },
      "execution_count": 33,
      "outputs": [
        {
          "output_type": "stream",
          "name": "stdout",
          "text": [
            "enter a number12\n",
            "number is even\n",
            "positive number\n"
          ]
        }
      ]
    },
    {
      "cell_type": "code",
      "source": [
        "number = int(input('enter a nummber'))\n",
        "if number >0 :                                 # nested if\n",
        "  print('positive number')\n",
        "  if number %2 == 0:\n",
        "    print('even number')\n",
        "  elif number <0:\n",
        "    print('negative number')\n",
        "else:\n",
        "  print('odd numbers')"
      ],
      "metadata": {
        "colab": {
          "base_uri": "https://localhost:8080/"
        },
        "id": "LI5YeeMX-w2O",
        "outputId": "9968c5da-d869-4eed-e27e-0d9847b617aa"
      },
      "execution_count": 37,
      "outputs": [
        {
          "output_type": "stream",
          "name": "stdout",
          "text": [
            "enter a nummber1234\n",
            "positive number\n",
            "even number\n"
          ]
        }
      ]
    },
    {
      "cell_type": "code",
      "source": [
        "number = int(input())\n",
        "if(number <=3):\n",
        "  print('strong acid')\n",
        "elif (number <=6):\n",
        "  print('weak acid')\n",
        "elif (number ==7):\n",
        "  print('neautral')\n",
        "elif (number <=11):\n",
        "  print('weak base')\n",
        "elif (number <=14):\n",
        "  print('strong base')\n",
        "else:\n",
        "  print('not valid ph level')"
      ],
      "metadata": {
        "colab": {
          "base_uri": "https://localhost:8080/"
        },
        "id": "1T8RBZzzBEJJ",
        "outputId": "92903a5a-376c-4dd0-d4de-97fa380d9cbe"
      },
      "execution_count": 52,
      "outputs": [
        {
          "output_type": "stream",
          "name": "stdout",
          "text": [
            "9\n",
            "weak base\n"
          ]
        }
      ]
    },
    {
      "cell_type": "code",
      "source": [],
      "metadata": {
        "id": "ww_9cadmDhqn"
      },
      "execution_count": null,
      "outputs": []
    }
  ]
}