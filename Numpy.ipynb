{
 "cells": [
  {
   "cell_type": "code",
   "execution_count": null,
   "metadata": {
    "id": "0jCwLwNEWUiK"
   },
   "outputs": [],
   "source": [
    "import numpy as np"
   ]
  },
  {
   "cell_type": "code",
   "execution_count": null,
   "metadata": {
    "colab": {
     "base_uri": "https://localhost:8080/"
    },
    "id": "aispfzilWZFw",
    "outputId": "6bd53176-ef43-4533-9f0b-78f2fa7d6036"
   },
   "outputs": [
    {
     "name": "stdout",
     "output_type": "stream",
     "text": [
      "Size of list:8000056 bytes\n",
      "Size of array: 8000000 bytes\n",
      "Time to sum list: 32.84 milliseconds\n",
      "Time to sum array: 1.84 milliseconds\n"
     ]
    }
   ],
   "source": [
    "import sys\n",
    "\n",
    "# Create a list of 1000000 integers\n",
    "list_1000000 = list(range(1000000))\n",
    "\n",
    "# Create a Numpy array of 1000000 integers\n",
    "array_1000000 = np.arange(1000000)\n",
    "\n",
    "# Print the size of the list and the array in bytes\n",
    "print(f'Size of list:{sys.getsizeof(list_1000000)} bytes')\n",
    "print(f'Size of array: {array_1000000.nbytes} bytes')\n",
    "\n",
    "# Time how long it takes to sum the list and the array\n",
    "import time\n",
    "\n",
    "# Sum the list\n",
    "start_time = time.time()\n",
    "sum_list = sum(list_1000000)\n",
    "end_time = time.time()\n",
    "list_sum_time = (end_time - start_time) * 1000\n",
    "\n",
    "# Sum the array\n",
    "start_time = time.time()\n",
    "sum_array = np.sum(array_1000000)\n",
    "end_time = time.time()\n",
    "array_sum_time = (end_time - start_time) * 1000\n",
    "\n",
    "# Print the time it took to sum the list and the array\n",
    "print(f'Time to sum list: {list_sum_time:.2f} milliseconds')\n",
    "print(f'Time to sum array: {array_sum_time:.2f} milliseconds')"
   ]
  },
  {
   "cell_type": "code",
   "execution_count": null,
   "metadata": {
    "id": "Bp2kOVjfZzID"
   },
   "outputs": [],
   "source": [
    "arr = np.arange(10)"
   ]
  },
  {
   "cell_type": "code",
   "execution_count": null,
   "metadata": {
    "colab": {
     "base_uri": "https://localhost:8080/"
    },
    "id": "lMJPlFn2aj4t",
    "outputId": "85ecd1b6-a73b-41e1-e08f-eeee2264a3f6"
   },
   "outputs": [
    {
     "data": {
      "text/plain": [
       "array([0, 1, 2, 3, 4, 5, 6, 7, 8, 9])"
      ]
     },
     "execution_count": 9,
     "metadata": {},
     "output_type": "execute_result"
    }
   ],
   "source": [
    "arr"
   ]
  },
  {
   "cell_type": "code",
   "execution_count": null,
   "metadata": {
    "colab": {
     "base_uri": "https://localhost:8080/"
    },
    "id": "mfaQfegzakhj",
    "outputId": "ce9be2cb-43a3-4eae-d74e-d60816436ad8"
   },
   "outputs": [
    {
     "data": {
      "text/plain": [
       "array([4, 6, 8])"
      ]
     },
     "execution_count": 10,
     "metadata": {},
     "output_type": "execute_result"
    }
   ],
   "source": [
    "ar = np.arange(4,10,2)\n",
    "ar"
   ]
  },
  {
   "cell_type": "code",
   "execution_count": null,
   "metadata": {
    "colab": {
     "base_uri": "https://localhost:8080/"
    },
    "id": "DO1j4jImatYr",
    "outputId": "a36496b6-00f7-4b73-81bc-4ff90f247dd8"
   },
   "outputs": [
    {
     "name": "stdout",
     "output_type": "stream",
     "text": [
      "[1 2 3 4 5]\n",
      "1\n"
     ]
    }
   ],
   "source": [
    "# Create a 1D array\n",
    "\n",
    "arr_1d = np.array([1,2,3,4,5])\n",
    "print(arr_1d)\n",
    "print(arr_1d[0])"
   ]
  },
  {
   "cell_type": "code",
   "execution_count": null,
   "metadata": {
    "colab": {
     "base_uri": "https://localhost:8080/"
    },
    "id": "dAGHAhvLbR7f",
    "outputId": "a6075f12-2beb-4b5f-8a60-1f73bd093dbc"
   },
   "outputs": [
    {
     "name": "stdout",
     "output_type": "stream",
     "text": [
      "[[1 2 3]\n",
      " [4 5 6]\n",
      " [7 8 9]]\n"
     ]
    }
   ],
   "source": [
    "# Create 2D array\n",
    "\n",
    "arr_2d = np.array([[1,2,3],\n",
    "                  [4,5,6],\n",
    "                  [7,8,9]])\n",
    "print(arr_2d)"
   ]
  },
  {
   "cell_type": "code",
   "execution_count": null,
   "metadata": {
    "colab": {
     "base_uri": "https://localhost:8080/"
    },
    "id": "0jST1mDnbncx",
    "outputId": "a1648138-80e4-4ec6-e68a-60dff02ba6ee"
   },
   "outputs": [
    {
     "data": {
      "text/plain": [
       "1"
      ]
     },
     "execution_count": 14,
     "metadata": {},
     "output_type": "execute_result"
    }
   ],
   "source": [
    "arr_1d.ndim"
   ]
  },
  {
   "cell_type": "code",
   "execution_count": null,
   "metadata": {
    "colab": {
     "base_uri": "https://localhost:8080/"
    },
    "id": "jYwkDhCfbv2C",
    "outputId": "57c883ff-2887-4ae2-f644-818167d4db3d"
   },
   "outputs": [
    {
     "data": {
      "text/plain": [
       "2"
      ]
     },
     "execution_count": 15,
     "metadata": {},
     "output_type": "execute_result"
    }
   ],
   "source": [
    "arr_2d.ndim"
   ]
  },
  {
   "cell_type": "code",
   "execution_count": null,
   "metadata": {
    "colab": {
     "base_uri": "https://localhost:8080/"
    },
    "id": "N9kvm-Znb0x3",
    "outputId": "a62377e7-e356-4564-c822-b24faa7506ff"
   },
   "outputs": [
    {
     "name": "stdout",
     "output_type": "stream",
     "text": [
      "Shape of arr_2d: (2, 3)\n"
     ]
    }
   ],
   "source": [
    "# Shape\n",
    "\n",
    "arr_2d = np.array([[1,2,3],\n",
    "                   [4,5,6]])\n",
    "print(f'Shape of arr_2d: {arr_2d.shape}')"
   ]
  },
  {
   "cell_type": "code",
   "execution_count": null,
   "metadata": {
    "colab": {
     "base_uri": "https://localhost:8080/"
    },
    "id": "wtstwdjUcZCG",
    "outputId": "db010929-0ce1-4cc8-c6e6-76a593448729"
   },
   "outputs": [
    {
     "name": "stdout",
     "output_type": "stream",
     "text": [
      "[1.1 2.2 3.3]\n",
      "Data type of the array: [1.1 2.2 3.3]\n"
     ]
    }
   ],
   "source": [
    "# Data type(dtype)\n",
    "\n",
    "arr_float = np.array([1.1,2.2,3.3], dtype = np.float64)\n",
    "print(arr_float)                                            # float32 or float64\n",
    "#print the data type\n",
    "print(f'Data type of the array: {arr_float}')"
   ]
  },
  {
   "cell_type": "code",
   "execution_count": null,
   "metadata": {
    "colab": {
     "base_uri": "https://localhost:8080/"
    },
    "id": "bJ_cRohEdsC_",
    "outputId": "e101dc6d-fd67-4548-d996-2e5b506fd56c"
   },
   "outputs": [
    {
     "name": "stdout",
     "output_type": "stream",
     "text": [
      "[1 2 3]\n",
      "Data type of the array: [1 2 3]\n"
     ]
    }
   ],
   "source": [
    "# Data type(dtype)\n",
    "\n",
    "arr_float = np.array([1.1,2.2,3.3], dtype = np.int64)\n",
    "print(arr_float)                                            # int32 or int64\n",
    "#print the data type\n",
    "print(f'Data type of the array: {arr_float}')"
   ]
  },
  {
   "cell_type": "code",
   "execution_count": null,
   "metadata": {
    "colab": {
     "base_uri": "https://localhost:8080/"
    },
    "id": "3-HOa2TaeTu0",
    "outputId": "0ff1e067-0941-4d58-8c09-4a232ecb321d"
   },
   "outputs": [
    {
     "name": "stdout",
     "output_type": "stream",
     "text": [
      "[[[0. 0. 0. 0.]\n",
      "  [0. 0. 0. 0.]\n",
      "  [0. 0. 0. 0.]]\n",
      "\n",
      " [[0. 0. 0. 0.]\n",
      "  [0. 0. 0. 0.]\n",
      "  [0. 0. 0. 0.]]]\n",
      "float64\n",
      "Size of the array 24\n"
     ]
    }
   ],
   "source": [
    "# Create 3D array\n",
    "\n",
    "arr_3d = np.zeros([2,3,4])\n",
    "print(arr_3d)\n",
    "print(arr_3d.dtype)\n",
    "# print the size\n",
    "print('Size of the array', arr_3d.size)"
   ]
  },
  {
   "cell_type": "code",
   "execution_count": null,
   "metadata": {
    "colab": {
     "base_uri": "https://localhost:8080/"
    },
    "id": "lTueTfSgflvr",
    "outputId": "0b5caaf4-ce1f-457b-813a-7d657d1dc99a"
   },
   "outputs": [
    {
     "name": "stdout",
     "output_type": "stream",
     "text": [
      "[[[[1. 1. 1. 1. 1.]\n",
      "   [1. 1. 1. 1. 1.]\n",
      "   [1. 1. 1. 1. 1.]\n",
      "   [1. 1. 1. 1. 1.]]\n",
      "\n",
      "  [[1. 1. 1. 1. 1.]\n",
      "   [1. 1. 1. 1. 1.]\n",
      "   [1. 1. 1. 1. 1.]\n",
      "   [1. 1. 1. 1. 1.]]\n",
      "\n",
      "  [[1. 1. 1. 1. 1.]\n",
      "   [1. 1. 1. 1. 1.]\n",
      "   [1. 1. 1. 1. 1.]\n",
      "   [1. 1. 1. 1. 1.]]]\n",
      "\n",
      "\n",
      " [[[1. 1. 1. 1. 1.]\n",
      "   [1. 1. 1. 1. 1.]\n",
      "   [1. 1. 1. 1. 1.]\n",
      "   [1. 1. 1. 1. 1.]]\n",
      "\n",
      "  [[1. 1. 1. 1. 1.]\n",
      "   [1. 1. 1. 1. 1.]\n",
      "   [1. 1. 1. 1. 1.]\n",
      "   [1. 1. 1. 1. 1.]]\n",
      "\n",
      "  [[1. 1. 1. 1. 1.]\n",
      "   [1. 1. 1. 1. 1.]\n",
      "   [1. 1. 1. 1. 1.]\n",
      "   [1. 1. 1. 1. 1.]]]]\n",
      "No of dimensions: 4\n"
     ]
    }
   ],
   "source": [
    "# Create a 4D array\n",
    "\n",
    "arr_4d = np.ones((2,3,4,5))\n",
    "print(arr_4d)\n",
    "# print the number of dimensions\n",
    "print(f'No of dimensions: {arr_4d.ndim}')"
   ]
  },
  {
   "cell_type": "code",
   "execution_count": null,
   "metadata": {
    "colab": {
     "base_uri": "https://localhost:8080/"
    },
    "id": "CFtgb5R6gruj",
    "outputId": "d3ade2b5-df94-4e23-cc32-59f750dcf3d2"
   },
   "outputs": [
    {
     "name": "stdout",
     "output_type": "stream",
     "text": [
      "int64\n",
      "Size of the each element (in bytes): 8\n"
     ]
    }
   ],
   "source": [
    "# Create a array of integers\n",
    "arr_int = np.array((1,2,3))\n",
    "print(arr_int.dtype)\n",
    "# print the Item size\n",
    "print('Size of the each element (in bytes):', arr_int.itemsize)"
   ]
  },
  {
   "cell_type": "code",
   "execution_count": null,
   "metadata": {
    "colab": {
     "base_uri": "https://localhost:8080/"
    },
    "id": "W1wk_35Ohrqq",
    "outputId": "6ab37546-b72f-4a28-d69f-138388d4bf06"
   },
   "outputs": [
    {
     "name": "stdout",
     "output_type": "stream",
     "text": [
      "Data type of arr_int32: int32\n",
      "Data type of arr_float64: float64\n"
     ]
    }
   ],
   "source": [
    "# Create an array with a specific data type\n",
    "arr_int32 = np.array((1,2,3), dtype=np.int32)\n",
    "arr_float = np.array((1.1,2.2,3.3), dtype=np.float64)\n",
    "\n",
    "print('Data type of arr_int32:', arr_int32.dtype)\n",
    "print('Data type of arr_float64:', arr_float.dtype)"
   ]
  },
  {
   "cell_type": "code",
   "execution_count": null,
   "metadata": {
    "colab": {
     "base_uri": "https://localhost:8080/"
    },
    "id": "-n1HRS6oi_ud",
    "outputId": "f2a632e8-ed25-42c4-fe64-c37938e909b7"
   },
   "outputs": [
    {
     "name": "stdout",
     "output_type": "stream",
     "text": [
      "Data type of arr_int32: int32\n",
      "Data type of arr_int64: int64\n",
      "[1234567890 1234567890]\n"
     ]
    }
   ],
   "source": [
    "# Precision:\n",
    "\n",
    "# Create an array with different data types\n",
    "arr_int32 = np.array((1234567890, 1234567890), dtype=np.int32)\n",
    "arr_int64 = np.array((1234567890, 1234567890), dtype=np.int64)\n",
    "\n",
    "print('Data type of arr_int32:', arr_int32.dtype)\n",
    "print('Data type of arr_int64:', arr_int64.dtype)\n",
    "\n",
    "print(arr_int32)\n",
    "\n",
    "# in this example, the \"int32\" data type has limited precision compared to \"int64\", which can represent larger integers without loss of precision."
   ]
  },
  {
   "cell_type": "code",
   "execution_count": null,
   "metadata": {
    "colab": {
     "base_uri": "https://localhost:8080/"
    },
    "id": "-eS9mM1OkOhx",
    "outputId": "003cf7fe-9cc7-41e3-8e56-d55a91ee65c8"
   },
   "outputs": [
    {
     "name": "stdout",
     "output_type": "stream",
     "text": [
      "Memory usage of arr_float32: 12 bytes\n",
      "Memory usage of arr_float64: 24 bytes\n"
     ]
    }
   ],
   "source": [
    "# impact of precision on memory usage:\n",
    "# Create an array with different data types\n",
    "arr_float32 = np.array((1.1,2.2,3.3), dtype=np.float32)\n",
    "arr_float64 = np.array((1.1,2.2,3.3), dtype=np.float64)\n",
    "\n",
    "print('Memory usage of arr_float32:', arr_float32.itemsize * arr_float32.size,'bytes')    #(3 * 4 bytes/elements)\n",
    "print('Memory usage of arr_float64:', arr_float64.itemsize * arr_float64.size,'bytes')    #(3 * 8 bytes/elements)\n"
   ]
  },
  {
   "cell_type": "code",
   "execution_count": null,
   "metadata": {
    "colab": {
     "base_uri": "https://localhost:8080/"
    },
    "id": "YUSE3JIPmEfc",
    "outputId": "427d400f-7727-471f-e973-f5ee03307e26"
   },
   "outputs": [
    {
     "name": "stdout",
     "output_type": "stream",
     "text": [
      "Sum using float32: 499999800000.0\n",
      "Sum using float64: 499999500000.0\n"
     ]
    }
   ],
   "source": [
    "# Create a large array with float32 and float64 data types\n",
    "large_array_float32 = np.arange(1000000, dtype=np.float32)\n",
    "large_array_float64 = np.arange(1000000, dtype=np.float64)\n",
    "\n",
    "# Calculate the sum of elements\n",
    "sum_float32 = np.sum(large_array_float32)\n",
    "sum_float64 = np.sum(large_array_float64)\n",
    "\n",
    "print('Sum using float32:', sum_float32)\n",
    "print('Sum using float64:', sum_float64)"
   ]
  },
  {
   "cell_type": "code",
   "execution_count": null,
   "metadata": {
    "colab": {
     "base_uri": "https://localhost:8080/"
    },
    "id": "e6YXQb1Knu5O",
    "outputId": "ac6d8a9f-6faf-4495-ed7b-ff04d59f64a6"
   },
   "outputs": [
    {
     "name": "stdout",
     "output_type": "stream",
     "text": [
      "[[0. 0. 0.]\n",
      " [0. 0. 0.]]\n"
     ]
    }
   ],
   "source": [
    "# np.zeros, np.ones, np.full\n",
    "zeros_array = np.zeros((2,3))\n",
    "print(zeros_array)"
   ]
  },
  {
   "cell_type": "code",
   "execution_count": null,
   "metadata": {
    "colab": {
     "base_uri": "https://localhost:8080/"
    },
    "id": "2W47QEJyoVJu",
    "outputId": "14bae915-73f0-4f94-c236-cd4c091b888d"
   },
   "outputs": [
    {
     "name": "stdout",
     "output_type": "stream",
     "text": [
      "[[1. 1.]\n",
      " [1. 1.]\n",
      " [1. 1.]]\n"
     ]
    }
   ],
   "source": [
    "ones_array = np.ones((3,2))\n",
    "print(ones_array)"
   ]
  },
  {
   "cell_type": "code",
   "execution_count": null,
   "metadata": {
    "colab": {
     "base_uri": "https://localhost:8080/"
    },
    "id": "_sn2Sxtgoe5K",
    "outputId": "3824ee91-ad2e-464d-b551-6cc2134270ec"
   },
   "outputs": [
    {
     "name": "stdout",
     "output_type": "stream",
     "text": [
      "[[5 5]\n",
      " [5 5]]\n"
     ]
    }
   ],
   "source": [
    "full_array = np.full((2,2),5)\n",
    "print(full_array)"
   ]
  },
  {
   "cell_type": "code",
   "execution_count": null,
   "metadata": {
    "colab": {
     "base_uri": "https://localhost:8080/"
    },
    "id": "i4qMP64uo4le",
    "outputId": "fc7ddd39-d48f-4559-8790-fd76a2a2168e"
   },
   "outputs": [
    {
     "name": "stdout",
     "output_type": "stream",
     "text": [
      "Addition [5 7 9]\n",
      "Subtract [3 3 6]\n",
      "Division [2.5        2.4        2.33333333]\n",
      "Modulus [2 1 0]\n",
      "Power [  1  32 729]\n"
     ]
    }
   ],
   "source": [
    "# Arthemetic operations\n",
    "# add\n",
    "arr_sum = np.add([1,2,3],[4,5,6])\n",
    "print('Addition',arr_sum)\n",
    "\n",
    "# sub\n",
    "arr_diff = np.subtract([5,6,7],[2,3,1])\n",
    "print('Subtract',arr_diff)\n",
    "\n",
    "# div\n",
    "arr_div = np.divide([10,12,14],[4,5,6])\n",
    "print('Division',arr_div)\n",
    "\n",
    "# Modulus\n",
    "arr_mod = np.mod([10,11,12],[4,5,6])\n",
    "print('Modulus',arr_mod)\n",
    "\n",
    "# Exponential\n",
    "arr_pow = np.power([1,2,3],[4,5,6])\n",
    "print('Power',arr_pow)\n"
   ]
  },
  {
   "cell_type": "code",
   "execution_count": null,
   "metadata": {
    "colab": {
     "base_uri": "https://localhost:8080/"
    },
    "id": "9pAIUeYTqozY",
    "outputId": "aa629dba-75e1-4999-f4f1-23c68a271091"
   },
   "outputs": [
    {
     "name": "stdout",
     "output_type": "stream",
     "text": [
      "Equal: [False  True False False]\n",
      "Equal: [ True False  True  True]\n",
      "Equal: [False False False  True]\n",
      "Equal: [False  True False  True]\n",
      "Equal: [ True False  True False]\n",
      "Equal: [ True  True  True False]\n"
     ]
    }
   ],
   "source": [
    "# Relational operations\n",
    "# Create sample arrays\n",
    "arr1 = np.array((1,2,3,4))\n",
    "arr2 = np.array((2,2,4,3))\n",
    "\n",
    "# Equal\n",
    "print('Equal:', arr1==arr2)\n",
    "\n",
    "# Not equal\n",
    "print('Equal:', arr1 != arr2)\n",
    "\n",
    "# Greater than\n",
    "print('Equal:', arr1 > arr2)\n",
    "\n",
    "# Greater than or equal to\n",
    "print('Equal:', arr1 >= arr2)\n",
    "\n",
    "# Less than\n",
    "print('Equal:', arr1 < arr2)\n",
    "\n",
    "# Less than or equal to\n",
    "print('Equal:', arr1 <= arr2)"
   ]
  },
  {
   "cell_type": "code",
   "execution_count": null,
   "metadata": {
    "colab": {
     "base_uri": "https://localhost:8080/"
    },
    "id": "hdyxFOzTr2rR",
    "outputId": "da9f7a25-f13f-4460-f025-42c6b2201aa1"
   },
   "outputs": [
    {
     "name": "stdout",
     "output_type": "stream",
     "text": [
      "1\n",
      "2\n",
      "5\n"
     ]
    }
   ],
   "source": [
    "# Indexing and Slicing\n",
    "arr = np.array((1,2,3,4,5))\n",
    "\n",
    "print(arr[0])\n",
    "print(arr[1])\n",
    "print(arr[-1])"
   ]
  },
  {
   "cell_type": "code",
   "execution_count": null,
   "metadata": {
    "colab": {
     "base_uri": "https://localhost:8080/"
    },
    "id": "ePLGxuQlnM07",
    "outputId": "2c377365-4f44-46aa-f88c-947974120696"
   },
   "outputs": [
    {
     "name": "stdout",
     "output_type": "stream",
     "text": [
      "[2 3]\n",
      "[1 3]\n"
     ]
    }
   ],
   "source": [
    "arr = np.array((1,2,3,4,5))\n",
    "\n",
    "print(arr[1:3])\n",
    "print(arr[0:4:2])"
   ]
  },
  {
   "cell_type": "code",
   "execution_count": null,
   "metadata": {
    "colab": {
     "base_uri": "https://localhost:8080/"
    },
    "id": "u2_ZGlQInriE",
    "outputId": "f574fce1-d179-446f-de18-5849e326084f"
   },
   "outputs": [
    {
     "name": "stdout",
     "output_type": "stream",
     "text": [
      "5\n"
     ]
    }
   ],
   "source": [
    "# Negative Indexing\n",
    "arr = np.array((1,2,3,4,5))\n",
    "\n",
    "print(arr[-1])"
   ]
  },
  {
   "cell_type": "code",
   "execution_count": null,
   "metadata": {
    "colab": {
     "base_uri": "https://localhost:8080/"
    },
    "id": "DNVRAn70oTD7",
    "outputId": "d2fcd5da-f2dc-4cd6-e5f0-3294405c611b"
   },
   "outputs": [
    {
     "name": "stdout",
     "output_type": "stream",
     "text": [
      "[1 2 3]\n",
      "[3 4 5]\n",
      "[1 3 5]\n"
     ]
    }
   ],
   "source": [
    "# Slicing with Omitted Indices\n",
    "arr = np.array((1,2,3,4,5))\n",
    "\n",
    "print(arr[:3])\n",
    "print(arr[2:])\n",
    "print(arr[::2])"
   ]
  },
  {
   "cell_type": "code",
   "execution_count": null,
   "metadata": {
    "colab": {
     "base_uri": "https://localhost:8080/"
    },
    "id": "WO2oat9yo2VB",
    "outputId": "1dd522b0-b622-4d49-8ae8-a39b4976029f"
   },
   "outputs": [
    {
     "name": "stdout",
     "output_type": "stream",
     "text": [
      "1\n",
      "6\n"
     ]
    }
   ],
   "source": [
    "# Indexing and Slicing for 2D Arrays\n",
    "arr = np.array([[1,2,3],\n",
    "               [4,5,6],\n",
    "               [7,8,9]])\n",
    "print(arr[0,0])\n",
    "print(arr[1,2])"
   ]
  },
  {
   "cell_type": "code",
   "execution_count": null,
   "metadata": {
    "colab": {
     "base_uri": "https://localhost:8080/"
    },
    "id": "A-txHZwbphTi",
    "outputId": "25d41126-523a-45c2-d32a-4832154f24fb"
   },
   "outputs": [
    {
     "name": "stdout",
     "output_type": "stream",
     "text": [
      "[[2 3]\n",
      " [5 6]]\n"
     ]
    }
   ],
   "source": [
    "# Slicing\n",
    "arr = np.array([[1,2,3],\n",
    "               [4,5,6],\n",
    "               [7,8,9]])\n",
    "print(arr[0:2, 1:3])"
   ]
  },
  {
   "cell_type": "code",
   "execution_count": null,
   "metadata": {
    "id": "9PNRkcn1qAMM"
   },
   "outputs": [],
   "source": [
    "arr[0:2, 1:3] = [[10,20],[30,40]]"
   ]
  },
  {
   "cell_type": "code",
   "execution_count": null,
   "metadata": {
    "colab": {
     "base_uri": "https://localhost:8080/"
    },
    "id": "UTLkzPFuq05Q",
    "outputId": "85782053-6c64-4ef3-b8bc-be8fcdcf65d7"
   },
   "outputs": [
    {
     "data": {
      "text/plain": [
       "array([[ 1, 10, 20],\n",
       "       [ 4, 30, 40],\n",
       "       [ 7,  8,  9]])"
      ]
     },
     "execution_count": 12,
     "metadata": {},
     "output_type": "execute_result"
    }
   ],
   "source": [
    "arr"
   ]
  },
  {
   "cell_type": "code",
   "execution_count": null,
   "metadata": {
    "colab": {
     "base_uri": "https://localhost:8080/"
    },
    "id": "H31CEMMzq1wp",
    "outputId": "e75c75a3-7dd6-44db-ec3c-e5c51368d8b8"
   },
   "outputs": [
    {
     "name": "stdout",
     "output_type": "stream",
     "text": [
      "9\n"
     ]
    }
   ],
   "source": [
    "# Nagative Slicing\n",
    "arr = np.array([[1,2,3],\n",
    "               [4,5,6],\n",
    "               [7,8,9]])\n",
    "print(arr[-1, -1])"
   ]
  },
  {
   "cell_type": "code",
   "execution_count": null,
   "metadata": {
    "colab": {
     "base_uri": "https://localhost:8080/"
    },
    "id": "98wV-mRRrFgm",
    "outputId": "11791b1b-b096-47cb-f343-3bca1fa6a6c1"
   },
   "outputs": [
    {
     "name": "stdout",
     "output_type": "stream",
     "text": [
      "3\n"
     ]
    }
   ],
   "source": [
    "# Nagative Slicing\n",
    "arr = np.array([[1,2,3],\n",
    "               [4,5,6],\n",
    "               [7,8,9]])\n",
    "print(arr[-3, -1])"
   ]
  },
  {
   "cell_type": "code",
   "execution_count": null,
   "metadata": {
    "id": "c-RASZEUrUoN"
   },
   "outputs": [],
   "source": [
    "# Create a 1D array\n",
    "arr_1d = np.array((1,2,3,4,5))\n",
    "\n",
    "mask = arr_1d > 3\n",
    "\n",
    "selected_elements = arr_1d[mask]\n",
    "print('Selected elements',selected_elements)"
   ]
  },
  {
   "cell_type": "code",
   "execution_count": null,
   "metadata": {
    "id": "4AbdhpJsssyh"
   },
   "outputs": [],
   "source": [
    "# Create a 2D array\n",
    "arr_2d = np.array([[1,2,3],\n",
    "                [4,5,6],\n",
    "                [7,8,9]])\n",
    "result_2d = arr_2d[arr_2d > 2]\n",
    "print('Elements greater than 2 in 2D array:',result_2d)"
   ]
  },
  {
   "cell_type": "code",
   "execution_count": null,
   "metadata": {
    "colab": {
     "base_uri": "https://localhost:8080/"
    },
    "id": "Dd-IXexltR7n",
    "outputId": "6559bca4-464e-4041-e05f-a56125c4bbd1"
   },
   "outputs": [
    {
     "name": "stdout",
     "output_type": "stream",
     "text": [
      "(2, 3)\n",
      "[[1 4]\n",
      " [2 5]\n",
      " [3 6]]\n"
     ]
    }
   ],
   "source": [
    "# Create a 2D array\n",
    "arr_2d = np.array([[1,2,3],\n",
    "                   [4,5,6]])\n",
    "print(arr_2d.shape)\n",
    "\n",
    "transposed_arr = arr_2d.T\n",
    "print(transposed_arr)"
   ]
  },
  {
   "cell_type": "code",
   "execution_count": null,
   "metadata": {
    "colab": {
     "base_uri": "https://localhost:8080/"
    },
    "id": "sQvDTVYft9lB",
    "outputId": "bd0a1d65-5138-452c-a05b-57a44ad62395"
   },
   "outputs": [
    {
     "data": {
      "text/plain": [
       "array([5, 6, 2, 7, 3])"
      ]
     },
     "execution_count": 18,
     "metadata": {},
     "output_type": "execute_result"
    }
   ],
   "source": [
    "# Random Numbers\n",
    "random_integers = np.random.randint(1,10, size=5)\n",
    "random_integers"
   ]
  },
  {
   "cell_type": "code",
   "execution_count": null,
   "metadata": {
    "colab": {
     "base_uri": "https://localhost:8080/"
    },
    "id": "l5urBirRvWNH",
    "outputId": "54daa488-141c-4b1e-dc43-75a27ad6a513"
   },
   "outputs": [
    {
     "data": {
      "text/plain": [
       "array([-1.08264924, -1.63904701,  0.26456181, -1.15025248, -0.88261323])"
      ]
     },
     "execution_count": 19,
     "metadata": {},
     "output_type": "execute_result"
    }
   ],
   "source": [
    "random_normal = np.random.normal(size=5)\n",
    "random_normal"
   ]
  },
  {
   "cell_type": "code",
   "execution_count": null,
   "metadata": {
    "colab": {
     "base_uri": "https://localhost:8080/"
    },
    "id": "Enhq5Xk_voeK",
    "outputId": "8e86d353-289d-4caa-f5d1-9146d68ccb1b"
   },
   "outputs": [
    {
     "name": "stdout",
     "output_type": "stream",
     "text": [
      "Matrix Multiplication\n",
      "[[19 22]\n",
      " [43 50]]\n"
     ]
    }
   ],
   "source": [
    "# Matrix Multiplication\n",
    "matrix_a = np.array([[1,2],[3,4]])\n",
    "matrix_b = np.array([[5,6],[7,8]])\n",
    "\n",
    "result = np.matmul(matrix_a, matrix_b)\n",
    "print('Matrix Multiplication')\n",
    "print(result)"
   ]
  },
  {
   "cell_type": "code",
   "execution_count": null,
   "metadata": {
    "colab": {
     "base_uri": "https://localhost:8080/"
    },
    "id": "Vv6xbheww4ub",
    "outputId": "98a00e0b-4b68-4c78-e0d9-f39f6ff1451b"
   },
   "outputs": [
    {
     "name": "stdout",
     "output_type": "stream",
     "text": [
      "Reshaped array:\n",
      "[[1 2 3]\n",
      " [4 5 6]\n",
      " [7 8 9]]\n"
     ]
    }
   ],
   "source": [
    "# Reshaping(np.reshape())\n",
    "arr = np.arange(1, 10)\n",
    "reshaped_arr = arr.reshape((3,3))\n",
    "print('Reshaped array:')\n",
    "print(reshaped_arr)"
   ]
  },
  {
   "cell_type": "code",
   "execution_count": null,
   "metadata": {
    "colab": {
     "base_uri": "https://localhost:8080/"
    },
    "id": "lKe_STZ5xhT7",
    "outputId": "5ecd5cd6-3895-4cad-d9ab-462dee513715"
   },
   "outputs": [
    {
     "name": "stdout",
     "output_type": "stream",
     "text": [
      "Sum of all elements: 21\n",
      "Maximum elements: 6\n",
      "Minimum elements: 1\n",
      "mean of all elements: 3.5\n",
      "Standard Deviation: 1.707825127659933\n"
     ]
    }
   ],
   "source": [
    "# Aggregate Functions\n",
    "matrix = np.array([[1,2,3],\n",
    "                   [4,5,6]])\n",
    "print('Sum of all elements:',np.sum(matrix))\n",
    "print('Maximum elements:',np.max(matrix))\n",
    "print('Minimum elements:',np.min(matrix))\n",
    "print('mean of all elements:',np.mean(matrix))\n",
    "print('Standard Deviation:',np.std(matrix))"
   ]
  },
  {
   "cell_type": "code",
   "execution_count": null,
   "metadata": {
    "colab": {
     "base_uri": "https://localhost:8080/"
    },
    "id": "Qg7XHDStyV3s",
    "outputId": "d99c04fb-a429-419f-9cd1-9e311195043d"
   },
   "outputs": [
    {
     "name": "stdout",
     "output_type": "stream",
     "text": [
      "[[1 2 3]\n",
      " [4 5 6]]\n",
      "Flattened array: [1 2 3 4 5 6]\n"
     ]
    }
   ],
   "source": [
    "print(matrix)\n",
    "flat = matrix.ravel()\n",
    "print('Flattened array:',flat)"
   ]
  },
  {
   "cell_type": "code",
   "execution_count": null,
   "metadata": {
    "colab": {
     "base_uri": "https://localhost:8080/"
    },
    "id": "_uscaglO0FMN",
    "outputId": "707a2ec8-a5be-4ba4-be08-86d81bed5cf8"
   },
   "outputs": [
    {
     "name": "stdout",
     "output_type": "stream",
     "text": [
      "Split array: [array([0, 1, 2]), array([3, 4, 5]), array([6, 7, 8])]\n"
     ]
    }
   ],
   "source": [
    "# Spliting\n",
    "x = np.arange(9)\n",
    "\n",
    "x_split = np.split(x, 3)\n",
    "print(\"Split array:\",x_split)"
   ]
  },
  {
   "cell_type": "code",
   "execution_count": null,
   "metadata": {
    "colab": {
     "base_uri": "https://localhost:8080/"
    },
    "id": "PWQbZoaA0yRQ",
    "outputId": "4e303596-1ed0-4ed8-9f13-4d46ce86dabc"
   },
   "outputs": [
    {
     "name": "stdout",
     "output_type": "stream",
     "text": [
      "Array split into unequal parts: [array([0, 1, 2]), array([3, 4]), array([5, 6]), array([7, 8])]\n"
     ]
    }
   ],
   "source": [
    "x_array_split = np.array_split(x, 4)\n",
    "print('Array split into unequal parts:', x_array_split)"
   ]
  },
  {
   "cell_type": "code",
   "execution_count": null,
   "metadata": {
    "colab": {
     "base_uri": "https://localhost:8080/"
    },
    "id": "A6pFiVAW1UOS",
    "outputId": "78a67f09-4b8f-4389-9f80-abb7bb350447"
   },
   "outputs": [
    {
     "name": "stdout",
     "output_type": "stream",
     "text": [
      "[1 2 3 4 5 6]\n"
     ]
    }
   ],
   "source": [
    "a = np.array([1,2,3])\n",
    "b = np.array([4,5,6])\n",
    "\n",
    "concatenated = np.concatenate((a, b))\n",
    "print(concatenated)"
   ]
  },
  {
   "cell_type": "code",
   "execution_count": null,
   "metadata": {
    "id": "sreJjYd11qpx"
   },
   "outputs": [],
   "source": []
  }
 ],
 "metadata": {
  "colab": {
   "provenance": []
  },
  "kernelspec": {
   "display_name": "Python 3 (ipykernel)",
   "language": "python",
   "name": "python3"
  },
  "language_info": {
   "codemirror_mode": {
    "name": "ipython",
    "version": 3
   },
   "file_extension": ".py",
   "mimetype": "text/x-python",
   "name": "python",
   "nbconvert_exporter": "python",
   "pygments_lexer": "ipython3",
   "version": "3.12.4"
  }
 },
 "nbformat": 4,
 "nbformat_minor": 4
}
