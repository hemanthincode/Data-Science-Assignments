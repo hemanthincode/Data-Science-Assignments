{
  "nbformat": 4,
  "nbformat_minor": 0,
  "metadata": {
    "colab": {
      "provenance": []
    },
    "kernelspec": {
      "name": "python3",
      "display_name": "Python 3"
    },
    "language_info": {
      "name": "python"
    }
  },
  "cells": [
    {
      "cell_type": "code",
      "source": [
        "# conditional statements\n",
        "# if\n",
        "# if else\n",
        "# if elif else\n",
        "# if ternory operator\n",
        "# nested if statements"
      ],
      "metadata": {
        "id": "4_zup_K4TJwv"
      },
      "execution_count": null,
      "outputs": []
    },
    {
      "cell_type": "code",
      "source": [
        "''' # syntax for if statement\n",
        "if condition:\n",
        "    statements\n",
        "\n",
        "# syntax for if else statement\n",
        "if condition:\n",
        "    statements\n",
        "else:\n",
        "    statements\n",
        "\n",
        "# syntax for if elif else statement\n",
        "if condition:\n",
        "    statements\n",
        "elif condition:\n",
        "    statements\n",
        "else:\n",
        "    statements\n",
        "'''"
      ],
      "metadata": {
        "id": "H8CubCYUTly1"
      },
      "execution_count": null,
      "outputs": []
    },
    {
      "cell_type": "code",
      "source": [
        "a = 10\n",
        "b = 20"
      ],
      "metadata": {
        "id": "RwF4KWJRXZNq"
      },
      "execution_count": 1,
      "outputs": []
    },
    {
      "cell_type": "code",
      "source": [
        "a==b, a!=b, a>b, a<b, a>=b, a<=b"
      ],
      "metadata": {
        "colab": {
          "base_uri": "https://localhost:8080/"
        },
        "id": "WsJ9f91PYy8v",
        "outputId": "2a218c27-518c-4aaa-af2b-309f4b268cd9"
      },
      "execution_count": 2,
      "outputs": [
        {
          "output_type": "execute_result",
          "data": {
            "text/plain": [
              "(False, True, False, True, False, True)"
            ]
          },
          "metadata": {},
          "execution_count": 2
        }
      ]
    },
    {
      "cell_type": "code",
      "source": [
        "if a != b:\n",
        "    print('a is not equal to b')"
      ],
      "metadata": {
        "colab": {
          "base_uri": "https://localhost:8080/"
        },
        "id": "Ss_dDGfvY2Sa",
        "outputId": "da258420-396d-4312-85a9-0645fa3d0dd7"
      },
      "execution_count": 3,
      "outputs": [
        {
          "output_type": "stream",
          "name": "stdout",
          "text": [
            "a is not equal to b\n"
          ]
        }
      ]
    },
    {
      "cell_type": "code",
      "source": [
        "if a == b:\n",
        "    print('a is not equal to b')"
      ],
      "metadata": {
        "id": "Syr8lYLjZI18"
      },
      "execution_count": 4,
      "outputs": []
    },
    {
      "cell_type": "code",
      "source": [
        "if a >= b:\n",
        "    print('a is not greater then to b')"
      ],
      "metadata": {
        "id": "bvmv4jwkZY7p"
      },
      "execution_count": 5,
      "outputs": []
    },
    {
      "cell_type": "code",
      "source": [
        "if a <= b:\n",
        "    print('a is not less then to b')"
      ],
      "metadata": {
        "colab": {
          "base_uri": "https://localhost:8080/"
        },
        "id": "UpwaTmjBZodl",
        "outputId": "ca48c9a6-8d25-4e32-dc06-662133e7304c"
      },
      "execution_count": 6,
      "outputs": [
        {
          "output_type": "stream",
          "name": "stdout",
          "text": [
            "a is not less then to b\n"
          ]
        }
      ]
    },
    {
      "cell_type": "code",
      "source": [
        "age = int(input('Enter your age: '))\n",
        "if age >= 18:\n",
        "    print('You are eligible to vote')"
      ],
      "metadata": {
        "colab": {
          "base_uri": "https://localhost:8080/"
        },
        "id": "gWO73NRJZqUJ",
        "outputId": "71596904-361e-4ebe-ace5-f59be7a37b07"
      },
      "execution_count": 7,
      "outputs": [
        {
          "output_type": "stream",
          "name": "stdout",
          "text": [
            "Enter your age: 24\n",
            "You are eligible to vote\n"
          ]
        }
      ]
    },
    {
      "cell_type": "code",
      "source": [
        "age = int(input('Enter your age: '))\n",
        "if type(age) == int:\n",
        "    if age >= 18:\n",
        "        print('You are eligible to vote')\n",
        "    else:\n",
        "        print('You are not eligible to vote')\n",
        "else:\n",
        "    print('Invalid input')"
      ],
      "metadata": {
        "colab": {
          "base_uri": "https://localhost:8080/"
        },
        "id": "gEDjCguJamB8",
        "outputId": "8860cc61-6ac5-4813-da4e-13d7ac4e4ffa"
      },
      "execution_count": 8,
      "outputs": [
        {
          "output_type": "stream",
          "name": "stdout",
          "text": [
            "Enter your age: 24\n",
            "You are eligible to vote\n"
          ]
        }
      ]
    },
    {
      "cell_type": "code",
      "source": [
        "# check the given number is even or odd\n",
        "num = int(input('Enter a number: '))\n",
        "if num % 2 == 0:\n",
        "    print('The number is even')\n",
        "else:\n",
        "    print('The number is odd')"
      ],
      "metadata": {
        "colab": {
          "base_uri": "https://localhost:8080/"
        },
        "id": "9wNYKNVua_8Z",
        "outputId": "055f615e-4f14-47a7-e71c-46dc1258a14a"
      },
      "execution_count": 9,
      "outputs": [
        {
          "output_type": "stream",
          "name": "stdout",
          "text": [
            "Enter a number: 1234\n",
            "The number is even\n"
          ]
        }
      ]
    },
    {
      "cell_type": "code",
      "source": [
        "age = int(input('Enter your age: '))\n",
        "if type(age) == int and age >= 18:\n",
        "    print('The given is in integer and eligible for voting')"
      ],
      "metadata": {
        "colab": {
          "base_uri": "https://localhost:8080/"
        },
        "id": "YIkxewSgbYj8",
        "outputId": "b5f9f243-c8fb-4607-b81f-b163d3d2e577"
      },
      "execution_count": 10,
      "outputs": [
        {
          "output_type": "stream",
          "name": "stdout",
          "text": [
            "Enter your age: 24\n",
            "The given is in integer and eligible for voting\n"
          ]
        }
      ]
    },
    {
      "cell_type": "code",
      "source": [
        "a,b"
      ],
      "metadata": {
        "colab": {
          "base_uri": "https://localhost:8080/"
        },
        "id": "sH-RsHxRct6y",
        "outputId": "995d5cd8-88ac-485d-8a0a-6e209d3c4dde"
      },
      "execution_count": 11,
      "outputs": [
        {
          "output_type": "execute_result",
          "data": {
            "text/plain": [
              "(10, 20)"
            ]
          },
          "metadata": {},
          "execution_count": 11
        }
      ]
    },
    {
      "cell_type": "code",
      "source": [
        "a != 10 and b == 20"
      ],
      "metadata": {
        "colab": {
          "base_uri": "https://localhost:8080/"
        },
        "id": "E36bmxAtdHp3",
        "outputId": "f4e1d9a2-97af-4d6b-afeb-61b0df817322"
      },
      "execution_count": 12,
      "outputs": [
        {
          "output_type": "execute_result",
          "data": {
            "text/plain": [
              "False"
            ]
          },
          "metadata": {},
          "execution_count": 12
        }
      ]
    },
    {
      "cell_type": "code",
      "source": [
        "if a != 10 and b == 20:\n",
        "    print('a is not greater then to b')"
      ],
      "metadata": {
        "id": "dEB6Tkk2eEPC"
      },
      "execution_count": 13,
      "outputs": []
    },
    {
      "cell_type": "code",
      "source": [
        "if a == 10 or b == 20:\n",
        "    print('a is not greater then to b')"
      ],
      "metadata": {
        "colab": {
          "base_uri": "https://localhost:8080/"
        },
        "id": "KRpVY7s4eLXB",
        "outputId": "a84b5053-adb5-4ffb-e41f-3a7eb48111e0"
      },
      "execution_count": 14,
      "outputs": [
        {
          "output_type": "stream",
          "name": "stdout",
          "text": [
            "a is not greater then to b\n"
          ]
        }
      ]
    },
    {
      "cell_type": "code",
      "source": [
        "if not a==10:\n",
        "  print('a is not equal to b')"
      ],
      "metadata": {
        "id": "hGnV7TqGeYaS"
      },
      "execution_count": 15,
      "outputs": []
    },
    {
      "cell_type": "code",
      "source": [
        "if not a!=10:\n",
        "  print('a is equal to 10')"
      ],
      "metadata": {
        "colab": {
          "base_uri": "https://localhost:8080/"
        },
        "id": "265YyfN4elyJ",
        "outputId": "f63c5a42-4d15-4b1a-985b-c90afd84de27"
      },
      "execution_count": 16,
      "outputs": [
        {
          "output_type": "stream",
          "name": "stdout",
          "text": [
            "a is equal to 10\n"
          ]
        }
      ]
    },
    {
      "cell_type": "code",
      "source": [
        "if not a!= 10 and not b!= 20:\n",
        "  print('a is equal to 10, b is equal to 20')"
      ],
      "metadata": {
        "colab": {
          "base_uri": "https://localhost:8080/"
        },
        "id": "y6yQiKMOeqVt",
        "outputId": "b88ae8f0-12e2-4d99-97f9-f5ad75474252"
      },
      "execution_count": 17,
      "outputs": [
        {
          "output_type": "stream",
          "name": "stdout",
          "text": [
            "a is equal to 10, b is equal to 20\n"
          ]
        }
      ]
    },
    {
      "cell_type": "code",
      "source": [
        "age = int(input('Enter your age: '))\n",
        "if age >= 18:\n",
        "    print('You are eligible to vote')\n",
        "else:\n",
        "    print('You are not eligible to vote')"
      ],
      "metadata": {
        "colab": {
          "base_uri": "https://localhost:8080/"
        },
        "id": "gxJuG1zeisLd",
        "outputId": "a6f188e6-9de8-4e68-fe67-2dc04d55dd56"
      },
      "execution_count": 18,
      "outputs": [
        {
          "output_type": "stream",
          "name": "stdout",
          "text": [
            "Enter your age: 24\n",
            "You are eligible to vote\n"
          ]
        }
      ]
    },
    {
      "cell_type": "code",
      "source": [
        "age = int(input('Enter your age: '))\n",
        "gender = input('Enter your gender: ')\n",
        "if age >= 18 and gender == 'male':\n",
        "    print('You are eligible to vote in male booth')\n",
        "else:\n",
        "    print('You are not eligible to vote')\n",
        "#"
      ],
      "metadata": {
        "colab": {
          "base_uri": "https://localhost:8080/"
        },
        "id": "VtYO7T9zjqPE",
        "outputId": "ffbde26d-8428-4c05-ae3f-0ad1c8c9cbd2"
      },
      "execution_count": 19,
      "outputs": [
        {
          "output_type": "stream",
          "name": "stdout",
          "text": [
            "Enter your age: 24\n",
            "Enter your gender: male\n",
            "You are eligible to vote in male booth\n"
          ]
        }
      ]
    },
    {
      "cell_type": "code",
      "source": [
        "age = int(input('Enter your age: '))\n",
        "gender = input('Enter your gender: ')\n",
        "if age >= 18 and (gender == 'male' or gender == 'female'):\n",
        "    print('You are eligible to vote')\n",
        "else:\n",
        "    print('You are not eligible to vote')"
      ],
      "metadata": {
        "colab": {
          "base_uri": "https://localhost:8080/"
        },
        "id": "JsX1vWEqkLL7",
        "outputId": "cc2716e1-0a87-45da-ec3d-f170ff419963"
      },
      "execution_count": 20,
      "outputs": [
        {
          "output_type": "stream",
          "name": "stdout",
          "text": [
            "Enter your age: 24\n",
            "Enter your gender: male\n",
            "You are eligible to vote\n"
          ]
        }
      ]
    },
    {
      "cell_type": "code",
      "source": [
        "age = int(input('Enter your age: '))\n",
        "gender = input('Enter your gender: ')\n",
        "if age >= 18 and gender == 'male':\n",
        "    print('You are eligible to vote in male booth')\n",
        "elif age >= 18 and gender == 'female':\n",
        "    print('You are eligible to vote in female booth')\n",
        "    print('You are eligible to vote')\n",
        "else:\n",
        "    print('You are not eligible to vote')\n",
        "#"
      ],
      "metadata": {
        "colab": {
          "base_uri": "https://localhost:8080/"
        },
        "id": "8sAWuskoj5jo",
        "outputId": "a2740342-c201-4d7d-9c40-09ee69013e57"
      },
      "execution_count": 21,
      "outputs": [
        {
          "output_type": "stream",
          "name": "stdout",
          "text": [
            "Enter your age: 24\n",
            "Enter your gender: male\n",
            "You are eligible to vote in male booth\n"
          ]
        }
      ]
    },
    {
      "cell_type": "code",
      "source": [
        "# check the given user input value is divisible are not\n",
        "data = {'name': None,\n",
        "        'age' :  24,\n",
        "        'marks': [10,20,30,40,50,60,70,80,90]}\n",
        "\n",
        "if type(data['name']) == str and type(data['age']) == int and type(data['marks']) == list:\n",
        "    print('The given data is valid')\n",
        "else:\n",
        "    print('The given data is invalid')"
      ],
      "metadata": {
        "colab": {
          "base_uri": "https://localhost:8080/"
        },
        "id": "tUZt4fDtkerS",
        "outputId": "049a43f1-e8e4-466d-db34-d54f15755b12"
      },
      "execution_count": 22,
      "outputs": [
        {
          "output_type": "stream",
          "name": "stdout",
          "text": [
            "The given data is invalid\n"
          ]
        }
      ]
    },
    {
      "cell_type": "code",
      "source": [
        "# check the given user data value is divisible are not\n",
        "data = {'name': None,\n",
        "        'age' :  24,\n",
        "        'marks': [10,20,30,40,50,60,70,80,90]}\n",
        "\n",
        "if 'age' in data and type(data['age']) == int:\n",
        "  if data['age'] % 2 == 0:\n",
        "    print(\"The age is divisible by 2.\")\n",
        "  else:\n",
        "    print(\"The age is not divisible by 2.\")\n",
        "else:\n",
        "  print(\"Age is not found or not an integer.\")"
      ],
      "metadata": {
        "colab": {
          "base_uri": "https://localhost:8080/"
        },
        "id": "9xLSOwIGmsfx",
        "outputId": "8ac2d456-acbd-4f22-9425-193e9f27329f"
      },
      "execution_count": 23,
      "outputs": [
        {
          "output_type": "stream",
          "name": "stdout",
          "text": [
            "The age is divisible by 2.\n"
          ]
        }
      ]
    },
    {
      "cell_type": "code",
      "source": [
        "avg_st = round(sum(data['marks'])/len(data['marks']),2)\n",
        "avg_st"
      ],
      "metadata": {
        "colab": {
          "base_uri": "https://localhost:8080/"
        },
        "id": "vhGJ42kZpKOa",
        "outputId": "7d2e77f4-7102-491c-92a4-9fb51016e1e0"
      },
      "execution_count": 24,
      "outputs": [
        {
          "output_type": "execute_result",
          "data": {
            "text/plain": [
              "50.0"
            ]
          },
          "metadata": {},
          "execution_count": 24
        }
      ]
    },
    {
      "cell_type": "code",
      "source": [
        "if avg_st >= 90:\n",
        "    grade = 'A grade'\n",
        "    print(avg_st,grade, sep='-->')\n",
        "elif avg_st <90 and avg_st >=70:\n",
        "    grade = 'B grade'\n",
        "    print(avg_st,grade, sep='-->')\n",
        "elif avg_st <70 and avg_st >=50:\n",
        "    grade = 'C grade'\n",
        "    print(avg_st,grade, sep='-->')\n",
        "elif avg_st <50 and avg_st >=35:\n",
        "    grade = 'D grade'\n",
        "    print(avg_st,grade, sep='-->')\n",
        "else:\n",
        "    grade = 'Fail'\n",
        "    print(avg_st,grade,sep='-->')\n"
      ],
      "metadata": {
        "colab": {
          "base_uri": "https://localhost:8080/"
        },
        "id": "UUFjzMSYpQNJ",
        "outputId": "c65329d4-aacc-4dcd-e706-02433309ffb6"
      },
      "execution_count": 25,
      "outputs": [
        {
          "output_type": "stream",
          "name": "stdout",
          "text": [
            "50.0-->C grade\n"
          ]
        }
      ]
    },
    {
      "cell_type": "code",
      "source": [
        "# nested if else statements"
      ],
      "metadata": {
        "id": "K2YkJoRCrf22"
      },
      "execution_count": null,
      "outputs": []
    },
    {
      "cell_type": "code",
      "source": [
        "students_details = [{'name': 'Ram',\n",
        "                    'age' : 30,\n",
        "                    'course': ['DS', 'Stat', 'AWS'],\n",
        "                    'marks': [80, 90, 60]},\n",
        "\n",
        "                   {'name': 'Sam',\n",
        "                    'age' : 37,\n",
        "                    'course': ['DS', 'Stat', 'AWS'],\n",
        "                    'marks': [80, 95, 69]}\n",
        "                   ]"
      ],
      "metadata": {
        "id": "nMUkQJeZsgxr"
      },
      "execution_count": 26,
      "outputs": []
    },
    {
      "cell_type": "code",
      "source": [
        "'DS' in students_details[0]['course']"
      ],
      "metadata": {
        "colab": {
          "base_uri": "https://localhost:8080/"
        },
        "id": "-PmVm-AasiNy",
        "outputId": "9d46d5e9-fd48-44c5-e385-349b6ef58223"
      },
      "execution_count": 27,
      "outputs": [
        {
          "output_type": "execute_result",
          "data": {
            "text/plain": [
              "True"
            ]
          },
          "metadata": {},
          "execution_count": 27
        }
      ]
    },
    {
      "cell_type": "code",
      "source": [
        "if 'DS' in students_details[0]['course']:\n",
        "    if students_details[0]['name'] == 'Ram':\n",
        "        print('The ram candidate is taken DS session and the marks is',students_details[0]['marks'][0])\n",
        "    else:\n",
        "        print('Ram is not taken DS session')\n",
        "else:\n",
        "    print('The given student is not enrolled in DS course')"
      ],
      "metadata": {
        "colab": {
          "base_uri": "https://localhost:8080/"
        },
        "id": "DTfJST9DssMj",
        "outputId": "91911d92-ec03-42c6-d319-11d20b785a8d"
      },
      "execution_count": 28,
      "outputs": [
        {
          "output_type": "stream",
          "name": "stdout",
          "text": [
            "The ram candidate is taken DS session and the marks is 80\n"
          ]
        }
      ]
    },
    {
      "cell_type": "code",
      "source": [
        "students_height = [['Prajwal','juhaib','aryan','pyarellall','binit','venkatesh','tej','rajshri','tanuja','akankshya','sandhya'],\n",
        "                   [5.5,5.6,5.9,5.8,5.7,5.9,6.5,6.8,7.1,6.3,6.4,6.6,6.4]]"
      ],
      "metadata": {
        "id": "sARJurL_tD8l"
      },
      "execution_count": 29,
      "outputs": []
    },
    {
      "cell_type": "code",
      "source": [
        "if type(students_height[0][0]) == str and type(students_height[1][0]) == float:\n",
        "        print('minimum height of the student is: ',min(students_height[1]),'\\n'\n",
        "              'maximum height of the student is: ',max(students_height[1]))\n",
        "        print('average height of the student is: ',sum(students_height[1])/len(students_height[1]))\n",
        "else:\n",
        "    print('Invalid data')"
      ],
      "metadata": {
        "colab": {
          "base_uri": "https://localhost:8080/"
        },
        "id": "1wFSi3zowKrN",
        "outputId": "f3b1339c-2785-4327-b943-1dc571ddc9a9"
      },
      "execution_count": 30,
      "outputs": [
        {
          "output_type": "stream",
          "name": "stdout",
          "text": [
            "minimum height of the student is:  5.5 \n",
            "maximum height of the student is:  7.1\n",
            "average height of the student is:  6.1923076923076925\n"
          ]
        }
      ]
    },
    {
      "cell_type": "code",
      "source": [
        "if 'Prajwal' in students_height[0]:\n",
        "    if 5.5 in students_height[1]:\n",
        "        print('minimum height of the student is: ',min(students_height[1]),'\\n'\n",
        "              'maximum height of the student is: ',max(students_height[1]))\n",
        "        print('average height of the student is: ',sum(students_height[1])/len(students_height[1]))\n",
        "    else:\n",
        "        print('Prajwal is not in the list')\n",
        "else:\n",
        "    print('Prajwal is not in the list')"
      ],
      "metadata": {
        "colab": {
          "base_uri": "https://localhost:8080/"
        },
        "id": "UmhBldC2wgT5",
        "outputId": "b89a2265-ae8b-408b-9070-7b829f471b1a"
      },
      "execution_count": 31,
      "outputs": [
        {
          "output_type": "stream",
          "name": "stdout",
          "text": [
            "minimum height of the student is:  5.5 \n",
            "maximum height of the student is:  7.1\n",
            "average height of the student is:  6.1923076923076925\n"
          ]
        }
      ]
    },
    {
      "cell_type": "code",
      "source": [
        "# Ternory Operator\n",
        "\n",
        "# output = out if statement else statement"
      ],
      "metadata": {
        "id": "nVv3rZUjyPc2"
      },
      "execution_count": null,
      "outputs": []
    },
    {
      "cell_type": "code",
      "source": [
        "age = int(input('Enter your age: '))\n",
        "if age >= 18:\n",
        "    print('You are eligible to vote')\n",
        "else:\n",
        "    print('You are not eligible to vote')"
      ],
      "metadata": {
        "colab": {
          "base_uri": "https://localhost:8080/"
        },
        "id": "ZzSskD4F2sYe",
        "outputId": "49ef13bd-2ea2-47b0-c762-8da60bf4361a"
      },
      "execution_count": 32,
      "outputs": [
        {
          "output_type": "stream",
          "name": "stdout",
          "text": [
            "Enter your age: 24\n",
            "You are eligible to vote\n"
          ]
        }
      ]
    },
    {
      "cell_type": "code",
      "source": [
        "age = int(input('Enter your age: '))\n",
        "print('You are eligible to vote') if age >= 18 else print('You are not eligible to vote')"
      ],
      "metadata": {
        "colab": {
          "base_uri": "https://localhost:8080/"
        },
        "id": "Q5Xfe3Ya253z",
        "outputId": "504617bc-ff46-4d62-e076-e66faa465a64"
      },
      "execution_count": 33,
      "outputs": [
        {
          "output_type": "stream",
          "name": "stdout",
          "text": [
            "Enter your age: 24\n",
            "You are eligible to vote\n"
          ]
        }
      ]
    },
    {
      "cell_type": "markdown",
      "source": [
        "# Looping statements"
      ],
      "metadata": {
        "id": "7Vjtuw9v34wY"
      }
    },
    {
      "cell_type": "code",
      "source": [
        "# range(start, end, step), start: inclusive,  end: exclusive,  step: step count"
      ],
      "metadata": {
        "id": "PXGyXejn3Nsw"
      },
      "execution_count": null,
      "outputs": []
    },
    {
      "cell_type": "code",
      "source": [
        "for i in range(0,10):\n",
        "  print(i)"
      ],
      "metadata": {
        "colab": {
          "base_uri": "https://localhost:8080/"
        },
        "id": "aMMgaxpu4hp3",
        "outputId": "8b7b37b1-8847-4b57-a2fc-f821220e4482"
      },
      "execution_count": 34,
      "outputs": [
        {
          "output_type": "stream",
          "name": "stdout",
          "text": [
            "0\n",
            "1\n",
            "2\n",
            "3\n",
            "4\n",
            "5\n",
            "6\n",
            "7\n",
            "8\n",
            "9\n"
          ]
        }
      ]
    },
    {
      "cell_type": "code",
      "source": [
        "for i in range(0,10,2):\n",
        "  print(i)"
      ],
      "metadata": {
        "colab": {
          "base_uri": "https://localhost:8080/"
        },
        "id": "G7HCHh3T40NR",
        "outputId": "8ad93f90-08d5-4bc9-ece4-f9ac7915ce81"
      },
      "execution_count": 35,
      "outputs": [
        {
          "output_type": "stream",
          "name": "stdout",
          "text": [
            "0\n",
            "2\n",
            "4\n",
            "6\n",
            "8\n"
          ]
        }
      ]
    },
    {
      "cell_type": "code",
      "source": [
        "for i in range(10, 0, -1):\n",
        "  print(i)"
      ],
      "metadata": {
        "colab": {
          "base_uri": "https://localhost:8080/"
        },
        "id": "If67PGnJ45pV",
        "outputId": "62ec369b-db21-4420-e11c-3fee06bc00d0"
      },
      "execution_count": 36,
      "outputs": [
        {
          "output_type": "stream",
          "name": "stdout",
          "text": [
            "10\n",
            "9\n",
            "8\n",
            "7\n",
            "6\n",
            "5\n",
            "4\n",
            "3\n",
            "2\n",
            "1\n"
          ]
        }
      ]
    },
    {
      "cell_type": "code",
      "source": [
        "for i in range(5):\n",
        "  for j in range(i + 1):\n",
        "    print('*', end=' ')\n",
        "  print()"
      ],
      "metadata": {
        "colab": {
          "base_uri": "https://localhost:8080/"
        },
        "id": "vlcetT9e4_H2",
        "outputId": "fb073d6b-6066-4417-dbc1-737068b83483"
      },
      "execution_count": 37,
      "outputs": [
        {
          "output_type": "stream",
          "name": "stdout",
          "text": [
            "* \n",
            "* * \n",
            "* * * \n",
            "* * * * \n",
            "* * * * * \n"
          ]
        }
      ]
    },
    {
      "cell_type": "code",
      "source": [
        "for i in range(5):\n",
        "  for j in range(i + 1):\n",
        "    print('$', end=' ')\n",
        "  print()"
      ],
      "metadata": {
        "colab": {
          "base_uri": "https://localhost:8080/"
        },
        "id": "vuATYqcm5NHC",
        "outputId": "9042823c-1200-4344-ab20-5c2c1d34cecc"
      },
      "execution_count": 38,
      "outputs": [
        {
          "output_type": "stream",
          "name": "stdout",
          "text": [
            "$ \n",
            "$ $ \n",
            "$ $ $ \n",
            "$ $ $ $ \n",
            "$ $ $ $ $ \n"
          ]
        }
      ]
    },
    {
      "cell_type": "code",
      "source": [
        "data = [10,20,50,70,80,30]\n",
        "tuple_data = (50,60,70,80,13)\n",
        "set_data = {12,15,16,17,18,19,15,19}\n",
        "students_name = ['Prajwal','juhaib','aryan','pyarellall','binit','venkatesh','tej','rajshri','tanuja','akankshya','sandhya']"
      ],
      "metadata": {
        "id": "VpPrzAfd5mmN"
      },
      "execution_count": 39,
      "outputs": []
    },
    {
      "cell_type": "code",
      "source": [
        "for i in data:\n",
        "  print(i**2)"
      ],
      "metadata": {
        "colab": {
          "base_uri": "https://localhost:8080/"
        },
        "id": "1FyF69aN80y_",
        "outputId": "df1b723a-4c8d-4e16-f70d-dbb1c78d365c"
      },
      "execution_count": 40,
      "outputs": [
        {
          "output_type": "stream",
          "name": "stdout",
          "text": [
            "100\n",
            "400\n",
            "2500\n",
            "4900\n",
            "6400\n",
            "900\n"
          ]
        }
      ]
    },
    {
      "cell_type": "code",
      "source": [
        "for i in tuple_data:\n",
        "  print(i)"
      ],
      "metadata": {
        "colab": {
          "base_uri": "https://localhost:8080/"
        },
        "id": "aiGOIA08842y",
        "outputId": "9a974b06-3d5a-4d95-c80e-bbbbc6094f62"
      },
      "execution_count": 41,
      "outputs": [
        {
          "output_type": "stream",
          "name": "stdout",
          "text": [
            "50\n",
            "60\n",
            "70\n",
            "80\n",
            "13\n"
          ]
        }
      ]
    },
    {
      "cell_type": "code",
      "source": [
        "for i in set_data:\n",
        "  print(i)"
      ],
      "metadata": {
        "colab": {
          "base_uri": "https://localhost:8080/"
        },
        "id": "36d83js98-MV",
        "outputId": "e8723830-4932-4892-83b5-fde4f6add05f"
      },
      "execution_count": 42,
      "outputs": [
        {
          "output_type": "stream",
          "name": "stdout",
          "text": [
            "16\n",
            "17\n",
            "18\n",
            "19\n",
            "12\n",
            "15\n"
          ]
        }
      ]
    },
    {
      "cell_type": "code",
      "source": [
        "for i in students_name:\n",
        "  print(i.lower())"
      ],
      "metadata": {
        "colab": {
          "base_uri": "https://localhost:8080/"
        },
        "id": "fabfVFF-9Byn",
        "outputId": "008da255-f4b5-49c3-8d7e-6fbb054973ae"
      },
      "execution_count": 43,
      "outputs": [
        {
          "output_type": "stream",
          "name": "stdout",
          "text": [
            "prajwal\n",
            "juhaib\n",
            "aryan\n",
            "pyarellall\n",
            "binit\n",
            "venkatesh\n",
            "tej\n",
            "rajshri\n",
            "tanuja\n",
            "akankshya\n",
            "sandhya\n"
          ]
        }
      ]
    },
    {
      "cell_type": "code",
      "source": [
        "for i in range(len(students_name)):\n",
        "  print(i, students_name[i])"
      ],
      "metadata": {
        "colab": {
          "base_uri": "https://localhost:8080/"
        },
        "id": "u2mYYIWd9Xnh",
        "outputId": "8e0022b9-5190-41b1-9bc4-6f5b47e03a73"
      },
      "execution_count": 44,
      "outputs": [
        {
          "output_type": "stream",
          "name": "stdout",
          "text": [
            "0 Prajwal\n",
            "1 juhaib\n",
            "2 aryan\n",
            "3 pyarellall\n",
            "4 binit\n",
            "5 venkatesh\n",
            "6 tej\n",
            "7 rajshri\n",
            "8 tanuja\n",
            "9 akankshya\n",
            "10 sandhya\n"
          ]
        }
      ]
    },
    {
      "cell_type": "code",
      "source": [
        "for i in range(len(students_name)):\n",
        "    print(i, students_name[i].upper())"
      ],
      "metadata": {
        "colab": {
          "base_uri": "https://localhost:8080/"
        },
        "id": "ygyOkTi49cKf",
        "outputId": "3776b92d-d382-449b-eb64-46dac11ee9f1"
      },
      "execution_count": 45,
      "outputs": [
        {
          "output_type": "stream",
          "name": "stdout",
          "text": [
            "0 PRAJWAL\n",
            "1 JUHAIB\n",
            "2 ARYAN\n",
            "3 PYARELLALL\n",
            "4 BINIT\n",
            "5 VENKATESH\n",
            "6 TEJ\n",
            "7 RAJSHRI\n",
            "8 TANUJA\n",
            "9 AKANKSHYA\n",
            "10 SANDHYA\n"
          ]
        }
      ]
    },
    {
      "cell_type": "code",
      "source": [
        "for i in students_details[0]:\n",
        "  print(i)"
      ],
      "metadata": {
        "colab": {
          "base_uri": "https://localhost:8080/"
        },
        "id": "Eoc0GTyp9gQe",
        "outputId": "f0ec0fcb-7ddd-4873-e5d1-bc3ffc473e7b"
      },
      "execution_count": 46,
      "outputs": [
        {
          "output_type": "stream",
          "name": "stdout",
          "text": [
            "name\n",
            "age\n",
            "course\n",
            "marks\n"
          ]
        }
      ]
    },
    {
      "cell_type": "code",
      "source": [
        "for i in students_details[0].values():\n",
        "  print(i)"
      ],
      "metadata": {
        "colab": {
          "base_uri": "https://localhost:8080/"
        },
        "id": "j9QjvKvz95XB",
        "outputId": "cfc23deb-fe26-4274-8e90-46482579f90b"
      },
      "execution_count": 47,
      "outputs": [
        {
          "output_type": "stream",
          "name": "stdout",
          "text": [
            "Ram\n",
            "30\n",
            "['DS', 'Stat', 'AWS']\n",
            "[80, 90, 60]\n"
          ]
        }
      ]
    },
    {
      "cell_type": "code",
      "source": [
        "for i in students_details[0].items():\n",
        "  print(i)"
      ],
      "metadata": {
        "colab": {
          "base_uri": "https://localhost:8080/"
        },
        "id": "xaMPiYcF-F9E",
        "outputId": "df31b2c8-54db-4ab9-a6d1-d727526b5a3a"
      },
      "execution_count": 48,
      "outputs": [
        {
          "output_type": "stream",
          "name": "stdout",
          "text": [
            "('name', 'Ram')\n",
            "('age', 30)\n",
            "('course', ['DS', 'Stat', 'AWS'])\n",
            "('marks', [80, 90, 60])\n"
          ]
        }
      ]
    },
    {
      "cell_type": "code",
      "source": [
        "for i in students_name:\n",
        "  if 'binit' in students_name:\n",
        "    print(i)\n",
        "  else:\n",
        "    break"
      ],
      "metadata": {
        "colab": {
          "base_uri": "https://localhost:8080/"
        },
        "id": "p2fbp-o7-PPU",
        "outputId": "e49b4887-4f72-467b-b644-dd92df345027"
      },
      "execution_count": 49,
      "outputs": [
        {
          "output_type": "stream",
          "name": "stdout",
          "text": [
            "Prajwal\n",
            "juhaib\n",
            "aryan\n",
            "pyarellall\n",
            "binit\n",
            "venkatesh\n",
            "tej\n",
            "rajshri\n",
            "tanuja\n",
            "akankshya\n",
            "sandhya\n"
          ]
        }
      ]
    },
    {
      "cell_type": "code",
      "source": [
        "for i in students_name:\n",
        "    if i == 'binit':\n",
        "      break\n",
        "    print(i)"
      ],
      "metadata": {
        "colab": {
          "base_uri": "https://localhost:8080/"
        },
        "id": "nEu7h6ppAMvt",
        "outputId": "df8ea8b1-57ff-4c5e-8f41-ca034525a769"
      },
      "execution_count": 50,
      "outputs": [
        {
          "output_type": "stream",
          "name": "stdout",
          "text": [
            "Prajwal\n",
            "juhaib\n",
            "aryan\n",
            "pyarellall\n"
          ]
        }
      ]
    },
    {
      "cell_type": "code",
      "source": [
        "'binit' in students_name"
      ],
      "metadata": {
        "colab": {
          "base_uri": "https://localhost:8080/"
        },
        "id": "9qoIPX75AaXz",
        "outputId": "82e140e6-6c29-4985-af0b-7709e092bbea"
      },
      "execution_count": 51,
      "outputs": [
        {
          "output_type": "execute_result",
          "data": {
            "text/plain": [
              "True"
            ]
          },
          "metadata": {},
          "execution_count": 51
        }
      ]
    },
    {
      "cell_type": "code",
      "source": [
        "for i in students_name:\n",
        "  if 'binit' not in students_name:\n",
        "    print('binit is in the students name')\n",
        "  else:\n",
        "    print(i)\n",
        "    break"
      ],
      "metadata": {
        "colab": {
          "base_uri": "https://localhost:8080/"
        },
        "id": "QqHdT8XSAqTy",
        "outputId": "5f189a6e-370c-4c89-d4d5-a27ff65327ba"
      },
      "execution_count": 52,
      "outputs": [
        {
          "output_type": "stream",
          "name": "stdout",
          "text": [
            "Prajwal\n"
          ]
        }
      ]
    },
    {
      "cell_type": "code",
      "source": [
        "Data = [10,20,50,70,80,30]"
      ],
      "metadata": {
        "id": "2DJB9usyA9i6"
      },
      "execution_count": 53,
      "outputs": []
    },
    {
      "cell_type": "code",
      "source": [
        "for i in Data:\n",
        "  if i == 80:\n",
        "    break\n",
        "  print(i)"
      ],
      "metadata": {
        "colab": {
          "base_uri": "https://localhost:8080/"
        },
        "id": "vltWhFptBOb4",
        "outputId": "dda4d9cd-968d-4c9f-a800-b7f80bc2b6c7"
      },
      "execution_count": 54,
      "outputs": [
        {
          "output_type": "stream",
          "name": "stdout",
          "text": [
            "10\n",
            "20\n",
            "50\n",
            "70\n"
          ]
        }
      ]
    },
    {
      "cell_type": "code",
      "source": [
        "for i in Data:\n",
        "  if i == 70:\n",
        "    continue\n",
        "  print(i)"
      ],
      "metadata": {
        "colab": {
          "base_uri": "https://localhost:8080/"
        },
        "id": "_q4OMvIlBT6Y",
        "outputId": "a1db0e61-3b8f-49ea-ecdf-052babe8dfaa"
      },
      "execution_count": 55,
      "outputs": [
        {
          "output_type": "stream",
          "name": "stdout",
          "text": [
            "10\n",
            "20\n",
            "50\n",
            "80\n",
            "30\n"
          ]
        }
      ]
    },
    {
      "cell_type": "code",
      "source": [
        "for i in Data:\n",
        "  if i == 70:\n",
        "    i = i + 10\n",
        "    print(i)\n",
        "    continue\n",
        "  print(i)"
      ],
      "metadata": {
        "colab": {
          "base_uri": "https://localhost:8080/"
        },
        "id": "l1Ogy6uKDxzT",
        "outputId": "12d9523a-ef26-47ff-c6b7-ece99c4a05d7"
      },
      "execution_count": 56,
      "outputs": [
        {
          "output_type": "stream",
          "name": "stdout",
          "text": [
            "10\n",
            "20\n",
            "50\n",
            "80\n",
            "80\n",
            "30\n"
          ]
        }
      ]
    },
    {
      "cell_type": "code",
      "source": [
        "for i in students_name[0]:\n",
        "    if i == 'ram':\n",
        "      students_name[0].remove('ram')\n",
        "      students_name[0].append('RAM')\n",
        "    print(i)"
      ],
      "metadata": {
        "colab": {
          "base_uri": "https://localhost:8080/"
        },
        "id": "QHhHobxoD-Ri",
        "outputId": "3a53dab4-d8ed-4aa2-d23a-25694b813e0b"
      },
      "execution_count": 57,
      "outputs": [
        {
          "output_type": "stream",
          "name": "stdout",
          "text": [
            "P\n",
            "r\n",
            "a\n",
            "j\n",
            "w\n",
            "a\n",
            "l\n"
          ]
        }
      ]
    },
    {
      "cell_type": "code",
      "source": [
        "students_name"
      ],
      "metadata": {
        "colab": {
          "base_uri": "https://localhost:8080/"
        },
        "id": "YxQrps-5GIga",
        "outputId": "431f8712-60ad-4483-a953-23445dfed85f"
      },
      "execution_count": 58,
      "outputs": [
        {
          "output_type": "execute_result",
          "data": {
            "text/plain": [
              "['Prajwal',\n",
              " 'juhaib',\n",
              " 'aryan',\n",
              " 'pyarellall',\n",
              " 'binit',\n",
              " 'venkatesh',\n",
              " 'tej',\n",
              " 'rajshri',\n",
              " 'tanuja',\n",
              " 'akankshya',\n",
              " 'sandhya']"
            ]
          },
          "metadata": {},
          "execution_count": 58
        }
      ]
    },
    {
      "cell_type": "code",
      "source": [
        "for i in range(0,6):\n",
        "  if i == 3:\n",
        "    pass\n",
        "  print(i)"
      ],
      "metadata": {
        "colab": {
          "base_uri": "https://localhost:8080/"
        },
        "id": "nDBB7PbZEbYa",
        "outputId": "38489f9e-814a-4d20-e5f1-d241bbfd449a"
      },
      "execution_count": 59,
      "outputs": [
        {
          "output_type": "stream",
          "name": "stdout",
          "text": [
            "0\n",
            "1\n",
            "2\n",
            "3\n",
            "4\n",
            "5\n"
          ]
        }
      ]
    },
    {
      "cell_type": "code",
      "source": [
        "for i in range(0,6):\n",
        "  if i == 3:\n",
        "    continue\n",
        "  print(i)"
      ],
      "metadata": {
        "colab": {
          "base_uri": "https://localhost:8080/"
        },
        "id": "KJ7BMCL8E2IC",
        "outputId": "e27be0d0-3a60-4e5c-9d22-a072d1c533da"
      },
      "execution_count": 60,
      "outputs": [
        {
          "output_type": "stream",
          "name": "stdout",
          "text": [
            "0\n",
            "1\n",
            "2\n",
            "4\n",
            "5\n"
          ]
        }
      ]
    },
    {
      "cell_type": "code",
      "source": [
        "for i in range(0,6):\n",
        "  if i == 3:\n",
        "    break\n",
        "  print(i)"
      ],
      "metadata": {
        "colab": {
          "base_uri": "https://localhost:8080/"
        },
        "id": "avv2cpcOE462",
        "outputId": "bd68366a-2c1b-43be-f1f1-6cefaf1d7e8c"
      },
      "execution_count": 61,
      "outputs": [
        {
          "output_type": "stream",
          "name": "stdout",
          "text": [
            "0\n",
            "1\n",
            "2\n"
          ]
        }
      ]
    },
    {
      "cell_type": "code",
      "source": [
        "for i in students_details:\n",
        "  name = i['name']\n",
        "  avg_marks = round(sum(i['marks'])/len(i['marks']))\n",
        "  if avg_st >= 90:\n",
        "    grade = 'A grade'\n",
        "    print(name,avg_st,grade, sep=':--> ')\n",
        "  elif avg_st <90 and avg_st >=70:\n",
        "    grade = 'B grade'\n",
        "    print(name,avg_st,grade, sep=':--> ')\n",
        "  elif avg_st <70 and avg_st >=50:\n",
        "    grade = 'C grade'\n",
        "    print(name,avg_st,grade, sep=':--> ')\n",
        "  elif avg_st <50 and avg_st >=35:\n",
        "    grade = 'D grade'\n",
        "    print(name,avg_st,grade, sep=':--> ')\n",
        "  else:\n",
        "    grade = 'Fail'\n",
        "    print(name,avg_st,grade,sep=':--> ')\n"
      ],
      "metadata": {
        "colab": {
          "base_uri": "https://localhost:8080/"
        },
        "id": "07qzinevE8EP",
        "outputId": "a8ab5d5d-a522-4080-893d-76a44979fea8"
      },
      "execution_count": 62,
      "outputs": [
        {
          "output_type": "stream",
          "name": "stdout",
          "text": [
            "Ram:--> 50.0:--> C grade\n",
            "Sam:--> 50.0:--> C grade\n"
          ]
        }
      ]
    },
    {
      "cell_type": "code",
      "source": [
        "# increament operation --> i = i+1\n",
        "\n",
        "add = []\n",
        "for i in range(0,10):\n",
        "  # i = i+1\n",
        "  i += 1\n",
        "  add.append(i)\n",
        "print(add)"
      ],
      "metadata": {
        "id": "V9sW_ANhIFDr",
        "colab": {
          "base_uri": "https://localhost:8080/"
        },
        "outputId": "ff9ca6b9-05af-407f-b236-85d0b611546b"
      },
      "execution_count": 63,
      "outputs": [
        {
          "output_type": "stream",
          "name": "stdout",
          "text": [
            "[1, 2, 3, 4, 5, 6, 7, 8, 9, 10]\n"
          ]
        }
      ]
    },
    {
      "cell_type": "code",
      "source": [
        "# decreament operation\n",
        "\n",
        "sub = []\n",
        "for i in range(10,0,-1):\n",
        "  # i = i-1\n",
        "  i -= 1\n",
        "  sub.append(i)\n",
        "print(sub)"
      ],
      "metadata": {
        "colab": {
          "base_uri": "https://localhost:8080/"
        },
        "id": "aP8a8NrFW1VN",
        "outputId": "a2abb6b9-481b-40cb-8592-c690f72377ac"
      },
      "execution_count": 64,
      "outputs": [
        {
          "output_type": "stream",
          "name": "stdout",
          "text": [
            "[9, 8, 7, 6, 5, 4, 3, 2, 1, 0]\n"
          ]
        }
      ]
    },
    {
      "cell_type": "code",
      "source": [
        "# similar to len function ----> len()\n",
        "\n",
        "data = [10,20,30,40,50,60,70,80,90,'f',True,False]\n",
        "count = 0\n",
        "for i in data:\n",
        "  count += 1\n",
        "print(count)"
      ],
      "metadata": {
        "colab": {
          "base_uri": "https://localhost:8080/"
        },
        "id": "jjDrfN3pXOxG",
        "outputId": "fe1ad44f-8430-4807-8434-2694b480a91c"
      },
      "execution_count": 65,
      "outputs": [
        {
          "output_type": "stream",
          "name": "stdout",
          "text": [
            "12\n"
          ]
        }
      ]
    },
    {
      "cell_type": "code",
      "source": [
        "# sum of the values -----> sum()\n",
        "\n",
        "data = [10,20,30,40,50]\n",
        "summation = 0\n",
        "for i in data:\n",
        "  summation += i  # ----> 0+10= 10, 10+20= 30, 30+30= 60, 60+40= 100, 100+50 170\n",
        "print(summation)"
      ],
      "metadata": {
        "colab": {
          "base_uri": "https://localhost:8080/"
        },
        "id": "k43AZgv-ZPUI",
        "outputId": "c6dc5643-2cf3-4ca3-c6d5-c703f42e9215"
      },
      "execution_count": 66,
      "outputs": [
        {
          "output_type": "stream",
          "name": "stdout",
          "text": [
            "150\n"
          ]
        }
      ]
    },
    {
      "cell_type": "code",
      "source": [
        "length = 0\n",
        "summation = 0\n",
        "product = 1\n",
        "for i in data:\n",
        "  length += 1\n",
        "  summation += i\n",
        "  product *= i\n",
        "print('length: ',length,'\\nsummation: ',summation,'\\nprouct: ',product)"
      ],
      "metadata": {
        "colab": {
          "base_uri": "https://localhost:8080/"
        },
        "id": "_5dwO5dFaQby",
        "outputId": "0bd41f31-7169-4bf6-f049-607fce0593bd"
      },
      "execution_count": 67,
      "outputs": [
        {
          "output_type": "stream",
          "name": "stdout",
          "text": [
            "length:  5 \n",
            "summation:  150 \n",
            "prouct:  12000000\n"
          ]
        }
      ]
    },
    {
      "cell_type": "code",
      "source": [
        "product = 1\n",
        "for i in data:\n",
        "  product *= i\n",
        "print(product)"
      ],
      "metadata": {
        "colab": {
          "base_uri": "https://localhost:8080/"
        },
        "id": "3CLYhOOlcnHe",
        "outputId": "1718a6ee-b54e-4128-bedf-3eea0fc0df29"
      },
      "execution_count": 68,
      "outputs": [
        {
          "output_type": "stream",
          "name": "stdout",
          "text": [
            "12000000\n"
          ]
        }
      ]
    },
    {
      "cell_type": "code",
      "source": [
        "data = list(map(int,input().split(' ')))"
      ],
      "metadata": {
        "colab": {
          "base_uri": "https://localhost:8080/"
        },
        "id": "bK6GWANwdcHM",
        "outputId": "11372e1b-58fa-4a93-86e2-ef380ce542b3"
      },
      "execution_count": 69,
      "outputs": [
        {
          "name": "stdout",
          "output_type": "stream",
          "text": [
            "12 23 34 45 56\n"
          ]
        }
      ]
    },
    {
      "cell_type": "code",
      "source": [
        "type(data)"
      ],
      "metadata": {
        "colab": {
          "base_uri": "https://localhost:8080/"
        },
        "id": "kjE5Mkk7fkJr",
        "outputId": "9125b734-9ecb-4e2c-9d62-812e0205bb51"
      },
      "execution_count": 70,
      "outputs": [
        {
          "output_type": "execute_result",
          "data": {
            "text/plain": [
              "list"
            ]
          },
          "metadata": {},
          "execution_count": 70
        }
      ]
    },
    {
      "cell_type": "code",
      "source": [
        "data = list(map(int,input().split(' ')))\n",
        "\n",
        "for i in data:\n",
        "  data = i**2\n",
        "print(data,end='$')"
      ],
      "metadata": {
        "colab": {
          "base_uri": "https://localhost:8080/"
        },
        "id": "nt0dc7ROf3MF",
        "outputId": "2e46b0b8-0991-4c37-8e67-84ea1408f390"
      },
      "execution_count": 71,
      "outputs": [
        {
          "output_type": "stream",
          "name": "stdout",
          "text": [
            "10 20 30 40 50\n",
            "2500$"
          ]
        }
      ]
    },
    {
      "cell_type": "code",
      "source": [
        "sum_sq = 0\n",
        "data = list(map(int,input().split(' ')))\n",
        "for i in data:\n",
        "  sum_sq += i**2\n",
        "print(sum_sq,end='$')"
      ],
      "metadata": {
        "colab": {
          "base_uri": "https://localhost:8080/"
        },
        "id": "wiNz1n5pgazQ",
        "outputId": "1b786488-5d82-44d9-e6fc-9ba74eb5ae7e"
      },
      "execution_count": 73,
      "outputs": [
        {
          "output_type": "stream",
          "name": "stdout",
          "text": [
            "10 20\n",
            "500$"
          ]
        }
      ]
    },
    {
      "cell_type": "code",
      "source": [
        "students_height = [5.5,5.6,5.9,5.8,5.7,5.9,6.5,6.8,7.1,6.3,6.4,6.6,6.4]"
      ],
      "metadata": {
        "id": "34XwlkUrh17V"
      },
      "execution_count": 74,
      "outputs": []
    },
    {
      "cell_type": "code",
      "source": [
        "# The outer loop iterates through each height in the list\n",
        "for height in students_height:\n",
        "  # Instead of trying to iterate over the height (a float), we directly print it\n",
        "  print(height+2)"
      ],
      "metadata": {
        "colab": {
          "base_uri": "https://localhost:8080/"
        },
        "id": "8ij8c86UlHkJ",
        "outputId": "1376ff39-aaa1-4e5c-f501-098383ed3f00"
      },
      "execution_count": 75,
      "outputs": [
        {
          "output_type": "stream",
          "name": "stdout",
          "text": [
            "7.5\n",
            "7.6\n",
            "7.9\n",
            "7.8\n",
            "7.7\n",
            "7.9\n",
            "8.5\n",
            "8.8\n",
            "9.1\n",
            "8.3\n",
            "8.4\n",
            "8.6\n",
            "8.4\n"
          ]
        }
      ]
    },
    {
      "cell_type": "code",
      "source": [
        "ds_students = [{'name': 'Sam',\n",
        "                'age': 37,\n",
        "                'course': ['DS','Stat','AWS'],\n",
        "                'marks': [80,95,69,60]},\n",
        "               {'name': None,\n",
        "                'age': 37,\n",
        "                'course': ['DS','Stat','AWS'],\n",
        "                'marks': [80,95,69,70]},\n",
        "               {'name': 10,\n",
        "                'age': 37,\n",
        "                'course': ['DS','Stat','AWS'],\n",
        "                'marks': [80,95,69,30]}]"
      ],
      "metadata": {
        "id": "iXpBE5NpmL2L"
      },
      "execution_count": 76,
      "outputs": []
    },
    {
      "cell_type": "code",
      "source": [
        "for i in ds_students:\n",
        "  if type(i['name']) == str and type(i['age']) == int and type(i['course']) == list and type(i['marks']) == list:\n",
        "    for j in i.items():\n",
        "      avg = sum(i['marks'])/len(i['marks'])\n",
        "      print(avg)"
      ],
      "metadata": {
        "colab": {
          "base_uri": "https://localhost:8080/"
        },
        "id": "jW9B5J2lqC14",
        "outputId": "299cb7db-bb57-4af6-c4db-e8b031fc85ba"
      },
      "execution_count": 77,
      "outputs": [
        {
          "output_type": "stream",
          "name": "stdout",
          "text": [
            "76.0\n",
            "76.0\n",
            "76.0\n",
            "76.0\n"
          ]
        }
      ]
    },
    {
      "cell_type": "code",
      "source": [
        "for i in range(0,5):\n",
        "  for j in range(0,3):\n",
        "    print(j,end=' ')\n",
        "  print()"
      ],
      "metadata": {
        "colab": {
          "base_uri": "https://localhost:8080/"
        },
        "id": "6csOl4bbqI79",
        "outputId": "11eaed11-0f54-4ce7-c3e4-dc9fd1e305c6"
      },
      "execution_count": 78,
      "outputs": [
        {
          "output_type": "stream",
          "name": "stdout",
          "text": [
            "0 1 2 \n",
            "0 1 2 \n",
            "0 1 2 \n",
            "0 1 2 \n",
            "0 1 2 \n"
          ]
        }
      ]
    },
    {
      "cell_type": "code",
      "source": [
        "row = 6\n",
        "for i in range(1,row):\n",
        "  for j in range(1,i+1):\n",
        "    print(j,end=' ')\n",
        "  print()"
      ],
      "metadata": {
        "colab": {
          "base_uri": "https://localhost:8080/"
        },
        "id": "12EJgoZ7wERD",
        "outputId": "0217388f-f1fa-4675-bb54-f8fb19883012"
      },
      "execution_count": 79,
      "outputs": [
        {
          "output_type": "stream",
          "name": "stdout",
          "text": [
            "1 \n",
            "1 2 \n",
            "1 2 3 \n",
            "1 2 3 4 \n",
            "1 2 3 4 5 \n"
          ]
        }
      ]
    },
    {
      "cell_type": "code",
      "source": [
        "for i in range(1,6):\n",
        "  for j in range(i):\n",
        "    print(i,end=' ')\n",
        "  print()"
      ],
      "metadata": {
        "colab": {
          "base_uri": "https://localhost:8080/"
        },
        "id": "BOIeNudkyVcG",
        "outputId": "4b806fe1-6b00-4e16-ec54-057915f49edb"
      },
      "execution_count": 80,
      "outputs": [
        {
          "output_type": "stream",
          "name": "stdout",
          "text": [
            "1 \n",
            "2 2 \n",
            "3 3 3 \n",
            "4 4 4 4 \n",
            "5 5 5 5 5 \n"
          ]
        }
      ]
    },
    {
      "cell_type": "code",
      "source": [
        "# reverse triangle printing.\n",
        "for i in range(5,0,-1):\n",
        "  for j in range(i):\n",
        "    print(j, end=' ')\n",
        "  print()"
      ],
      "metadata": {
        "colab": {
          "base_uri": "https://localhost:8080/"
        },
        "id": "coCi3esjzn7r",
        "outputId": "c12029d4-b2a8-431f-ff9a-15a8c24182aa"
      },
      "execution_count": 81,
      "outputs": [
        {
          "output_type": "stream",
          "name": "stdout",
          "text": [
            "0 1 2 3 4 \n",
            "0 1 2 3 \n",
            "0 1 2 \n",
            "0 1 \n",
            "0 \n"
          ]
        }
      ]
    },
    {
      "cell_type": "code",
      "source": [
        "for i in range(5,0,-1):\n",
        "  for j in range(i):\n",
        "    print(i, end=' ')\n",
        "  print()"
      ],
      "metadata": {
        "colab": {
          "base_uri": "https://localhost:8080/"
        },
        "id": "99_zTQO-1zr1",
        "outputId": "a230f6b2-574c-4017-9696-163e9dee0919"
      },
      "execution_count": 82,
      "outputs": [
        {
          "output_type": "stream",
          "name": "stdout",
          "text": [
            "5 5 5 5 5 \n",
            "4 4 4 4 \n",
            "3 3 3 \n",
            "2 2 \n",
            "1 \n"
          ]
        }
      ]
    },
    {
      "cell_type": "code",
      "source": [
        "for i in range(0,6):\n",
        "  for j in range(i):\n",
        "    print('*', end=' ')\n",
        "  print()\n",
        "for i in range(6,0,-1):\n",
        "  for j in range(i):\n",
        "    print('*', end=' ')\n",
        "  print()"
      ],
      "metadata": {
        "colab": {
          "base_uri": "https://localhost:8080/"
        },
        "id": "AdI3c5TM2bUF",
        "outputId": "b3cbb291-810a-44d6-b2de-4f83bd6f6ac6"
      },
      "execution_count": 83,
      "outputs": [
        {
          "output_type": "stream",
          "name": "stdout",
          "text": [
            "\n",
            "* \n",
            "* * \n",
            "* * * \n",
            "* * * * \n",
            "* * * * * \n",
            "* * * * * * \n",
            "* * * * * \n",
            "* * * * \n",
            "* * * \n",
            "* * \n",
            "* \n"
          ]
        }
      ]
    },
    {
      "cell_type": "code",
      "source": [
        "# pyramid shape\n",
        "for i in range(0,5):\n",
        "  for j in range(0,5-i):\n",
        "    print(end=' ')\n",
        "  for j in range(0,i+1):\n",
        "    print('*', end=' ')\n",
        "  print()"
      ],
      "metadata": {
        "colab": {
          "base_uri": "https://localhost:8080/"
        },
        "id": "f0cWP5a921KZ",
        "outputId": "c804bc12-aa45-47fc-8f87-bea0aeece16b"
      },
      "execution_count": 84,
      "outputs": [
        {
          "output_type": "stream",
          "name": "stdout",
          "text": [
            "     * \n",
            "    * * \n",
            "   * * * \n",
            "  * * * * \n",
            " * * * * * \n"
          ]
        }
      ]
    },
    {
      "cell_type": "code",
      "source": [
        "# rectangle shape\n",
        "for i in range(0,5):\n",
        "  for j in range(0,5):\n",
        "    print('*', end=' ')\n",
        "  print()"
      ],
      "metadata": {
        "colab": {
          "base_uri": "https://localhost:8080/"
        },
        "id": "DsFm-24R5dNi",
        "outputId": "3e36852a-13e9-4555-80ae-03253348a185"
      },
      "execution_count": 85,
      "outputs": [
        {
          "output_type": "stream",
          "name": "stdout",
          "text": [
            "* * * * * \n",
            "* * * * * \n",
            "* * * * * \n",
            "* * * * * \n",
            "* * * * * \n"
          ]
        }
      ]
    },
    {
      "cell_type": "code",
      "source": [
        "# reverse pyramid shape\n",
        "for i in range(5,0,-1):\n",
        "  for j in range(0,5-i):\n",
        "    print(end=' ')\n",
        "  for j in range(0,i+1):\n",
        "    print('*', end=' ')\n",
        "  print()"
      ],
      "metadata": {
        "colab": {
          "base_uri": "https://localhost:8080/"
        },
        "id": "BGNXl4Ao7jfi",
        "outputId": "534ecaaf-c4dc-46d9-94ed-fd5fa1a6cc9f"
      },
      "execution_count": 89,
      "outputs": [
        {
          "output_type": "stream",
          "name": "stdout",
          "text": [
            "* * * * * * \n",
            " * * * * * \n",
            "  * * * * \n",
            "   * * * \n",
            "    * * \n"
          ]
        }
      ]
    },
    {
      "cell_type": "code",
      "source": [
        "for i in range(5,0,-1):\n",
        "  for j in range(5-i):\n",
        "    print(end= ' ')\n",
        "  for j in range(0,i):\n",
        "    print('*', end=' ')\n",
        "  print()"
      ],
      "metadata": {
        "colab": {
          "base_uri": "https://localhost:8080/"
        },
        "id": "PV12KeL_7uiK",
        "outputId": "50eefa53-948c-4da8-8aee-9ea5f9553065"
      },
      "execution_count": 88,
      "outputs": [
        {
          "output_type": "stream",
          "name": "stdout",
          "text": [
            "* * * * * \n",
            " * * * * \n",
            "  * * * \n",
            "   * * \n",
            "    * \n"
          ]
        }
      ]
    },
    {
      "cell_type": "code",
      "source": [
        "for i in range(0,5):\n",
        "  for j in range(5-i):\n",
        "    print(' ',end=' ')\n",
        "  for j in range(i+1):\n",
        "    print('*', end=' ')\n",
        "  print()"
      ],
      "metadata": {
        "colab": {
          "base_uri": "https://localhost:8080/"
        },
        "id": "hqlhI0wX_tFE",
        "outputId": "eb8558bd-9449-4ef9-9466-b66c92018625"
      },
      "execution_count": 90,
      "outputs": [
        {
          "output_type": "stream",
          "name": "stdout",
          "text": [
            "          * \n",
            "        * * \n",
            "      * * * \n",
            "    * * * * \n",
            "  * * * * * \n"
          ]
        }
      ]
    },
    {
      "cell_type": "code",
      "source": [
        "for i in range(0,5):\n",
        "  for j in range(5-i):\n",
        "    print(' ', end='')\n",
        "  for j in range(i):\n",
        "    print('*', end=' ')\n",
        "  print()\n",
        "for i in range(5,0,-1):\n",
        "  for j in range(5-i):\n",
        "    print(' ', end='')\n",
        "  for j in range(i):\n",
        "    print('*', end=' ')\n",
        "  print()"
      ],
      "metadata": {
        "colab": {
          "base_uri": "https://localhost:8080/"
        },
        "id": "ZbBgQbKWC4rJ",
        "outputId": "4753095d-6820-43e6-aa68-f6629218d2ea"
      },
      "execution_count": 91,
      "outputs": [
        {
          "output_type": "stream",
          "name": "stdout",
          "text": [
            "     \n",
            "    * \n",
            "   * * \n",
            "  * * * \n",
            " * * * * \n",
            "* * * * * \n",
            " * * * * \n",
            "  * * * \n",
            "   * * \n",
            "    * \n"
          ]
        }
      ]
    },
    {
      "cell_type": "code",
      "source": [
        "# while looping\n",
        "# initializing\n",
        "# condition\n",
        "# increament/ decreament\n",
        "\n",
        "# Syntax\n",
        "# i = 0\n",
        "# while i == 10:\n",
        "#   statements\n",
        "#   i += 1"
      ],
      "metadata": {
        "id": "LbHmCIZ1EKtw"
      },
      "execution_count": null,
      "outputs": []
    },
    {
      "cell_type": "code",
      "source": [
        "i = 0\n",
        "while i <=5:\n",
        "  print(i)\n",
        "  i += 1"
      ],
      "metadata": {
        "colab": {
          "base_uri": "https://localhost:8080/"
        },
        "id": "CGDA4zEDHPH_",
        "outputId": "f0ab1491-324d-4127-8005-e335c30427a6"
      },
      "execution_count": 92,
      "outputs": [
        {
          "output_type": "stream",
          "name": "stdout",
          "text": [
            "0\n",
            "1\n",
            "2\n",
            "3\n",
            "4\n",
            "5\n"
          ]
        }
      ]
    },
    {
      "cell_type": "code",
      "source": [
        "i = 5\n",
        "while i >= 0:\n",
        "  print(i)\n",
        "  i -= 1"
      ],
      "metadata": {
        "colab": {
          "base_uri": "https://localhost:8080/"
        },
        "id": "FyJ9JqjQHZxF",
        "outputId": "bae8fc3a-0bcd-4f48-ed24-a48dc772b1e4"
      },
      "execution_count": 93,
      "outputs": [
        {
          "output_type": "stream",
          "name": "stdout",
          "text": [
            "5\n",
            "4\n",
            "3\n",
            "2\n",
            "1\n",
            "0\n"
          ]
        }
      ]
    },
    {
      "cell_type": "code",
      "source": [
        "# sum of values\n",
        "summation = 0\n",
        "i = 0\n",
        "while i <= 5:\n",
        "  summation += i\n",
        "  i += 1\n",
        "print(summation)"
      ],
      "metadata": {
        "colab": {
          "base_uri": "https://localhost:8080/"
        },
        "id": "mUgs_NYdHqjb",
        "outputId": "0db01cca-d08c-483b-f1ad-c10fefbb19eb"
      },
      "execution_count": 94,
      "outputs": [
        {
          "output_type": "stream",
          "name": "stdout",
          "text": [
            "15\n"
          ]
        }
      ]
    },
    {
      "cell_type": "code",
      "source": [
        "# Nested While loop(patterns)\n",
        "i = 1\n",
        "while i <= 5:\n",
        "  j = 1\n",
        "  while j <= i:\n",
        "    print(i, end=' ')\n",
        "    j += 1\n",
        "  print()\n",
        "  i += 1"
      ],
      "metadata": {
        "colab": {
          "base_uri": "https://localhost:8080/"
        },
        "id": "qa7RCNUCJCx-",
        "outputId": "967eaa1f-46f9-4d70-b29c-f811115b38d7"
      },
      "execution_count": 95,
      "outputs": [
        {
          "output_type": "stream",
          "name": "stdout",
          "text": [
            "1 \n",
            "2 2 \n",
            "3 3 3 \n",
            "4 4 4 4 \n",
            "5 5 5 5 5 \n"
          ]
        }
      ]
    },
    {
      "cell_type": "code",
      "source": [
        "# Nested While loop(patterns)\n",
        "i = 1\n",
        "while i <= 5:\n",
        "  j = 1\n",
        "  while j <= i:\n",
        "    print(j, end=' ')\n",
        "    j += 1\n",
        "  print()\n",
        "  i += 1"
      ],
      "metadata": {
        "colab": {
          "base_uri": "https://localhost:8080/"
        },
        "id": "mqEwdBqVKNXG",
        "outputId": "82bf817d-8bd3-4f95-ca10-1dcc0a2eef13"
      },
      "execution_count": 96,
      "outputs": [
        {
          "output_type": "stream",
          "name": "stdout",
          "text": [
            "1 \n",
            "1 2 \n",
            "1 2 3 \n",
            "1 2 3 4 \n",
            "1 2 3 4 5 \n"
          ]
        }
      ]
    },
    {
      "cell_type": "code",
      "source": [
        "i = 1\n",
        "while i <= 5:\n",
        "  j = 1\n",
        "  while j <= 5-i:\n",
        "    print(' ', end='')\n",
        "    j += 1\n",
        "  k = 1\n",
        "  while k <= i:\n",
        "    print(k, end=' ')\n",
        "    k += 1\n",
        "  print()\n",
        "  i += 1"
      ],
      "metadata": {
        "colab": {
          "base_uri": "https://localhost:8080/"
        },
        "id": "iVgzt28qLMzA",
        "outputId": "6f028435-2d38-4bf5-fe4d-9572abb04527"
      },
      "execution_count": 97,
      "outputs": [
        {
          "output_type": "stream",
          "name": "stdout",
          "text": [
            "    1 \n",
            "   1 2 \n",
            "  1 2 3 \n",
            " 1 2 3 4 \n",
            "1 2 3 4 5 \n"
          ]
        }
      ]
    },
    {
      "cell_type": "code",
      "source": [
        "# # user defined functions\n",
        "# builtin functions\n",
        "# sum(), len(), input(), min(), max(), print()"
      ],
      "metadata": {
        "id": "VAGPhpSUOBFy"
      },
      "execution_count": null,
      "outputs": []
    },
    {
      "cell_type": "code",
      "source": [
        "# documentation of function/ docstring.\n",
        "help(print)\n",
        "# print(print.__doc__)"
      ],
      "metadata": {
        "colab": {
          "base_uri": "https://localhost:8080/"
        },
        "id": "CH3HAkm_Pyi2",
        "outputId": "67a2a284-832d-4f75-f308-fce71cf3c736"
      },
      "execution_count": 98,
      "outputs": [
        {
          "output_type": "stream",
          "name": "stdout",
          "text": [
            "Help on built-in function print in module builtins:\n",
            "\n",
            "print(...)\n",
            "    print(value, ..., sep=' ', end='\\n', file=sys.stdout, flush=False)\n",
            "    \n",
            "    Prints the values to a stream, or to sys.stdout by default.\n",
            "    Optional keyword arguments:\n",
            "    file:  a file-like object (stream); defaults to the current sys.stdout.\n",
            "    sep:   string inserted between values, default a space.\n",
            "    end:   string appended after the last value, default a newline.\n",
            "    flush: whether to forcibly flush the stream.\n",
            "\n"
          ]
        }
      ]
    },
    {
      "cell_type": "code",
      "source": [
        "# # information about function\n",
        "# def --> define\n",
        "# function_name --> function_name(parameter)\n",
        "# parameters:\n",
        "#         1. postional parameters/ mandatory parameters\n",
        "#         2. default parameters\n",
        "#         3. *args\n",
        "#         4. **kwargs\n",
        "# statements:\n",
        "#       using parameters writing statements\n",
        "# output:\n",
        "#     print() --> function\n",
        "#     return --> keyword\n",
        "\n",
        "# syntax\n",
        "# def function_name(parameters(a,b,c = 10,d=True,*args,**kwargs)):\n",
        "#   \"\"\"documentation\"\"\"\n",
        "#   statements  (e = a + b *d)\n",
        "#   print(e)\n",
        "\n",
        "# # calling a function\n",
        "# function_name(10,20)\n"
      ],
      "metadata": {
        "id": "zigPQIpVQDdV"
      },
      "execution_count": null,
      "outputs": []
    },
    {
      "cell_type": "code",
      "source": [
        "# single parameter function\n",
        "def student_name(name):\n",
        "  \"\"\"This function returns the student name\"\"\"\n",
        "  print(f'name is {name}')"
      ],
      "metadata": {
        "id": "eZArYe11v_m_"
      },
      "execution_count": 101,
      "outputs": []
    },
    {
      "cell_type": "code",
      "source": [
        "student_name('ram')"
      ],
      "metadata": {
        "colab": {
          "base_uri": "https://localhost:8080/"
        },
        "id": "DM6UvXY5wSOL",
        "outputId": "00b1d1f7-8da8-43ec-e4c7-d8ab1c352e5e"
      },
      "execution_count": 102,
      "outputs": [
        {
          "output_type": "stream",
          "name": "stdout",
          "text": [
            "name is ram\n"
          ]
        }
      ]
    },
    {
      "cell_type": "code",
      "source": [
        "# two parameter\n",
        "def add(a,b):\n",
        "  addition = a+b\n",
        "  print(addition)\n",
        "  \"\"\"This function returns the sum of two numbers\"\"\"\n"
      ],
      "metadata": {
        "id": "1udWScAfwYHr"
      },
      "execution_count": 103,
      "outputs": []
    },
    {
      "cell_type": "code",
      "source": [
        "add(1,2)"
      ],
      "metadata": {
        "colab": {
          "base_uri": "https://localhost:8080/"
        },
        "id": "d3X7Fg7VxMJh",
        "outputId": "b17a1393-3445-41f0-cea5-39d44989723d"
      },
      "execution_count": 104,
      "outputs": [
        {
          "output_type": "stream",
          "name": "stdout",
          "text": [
            "3\n"
          ]
        }
      ]
    },
    {
      "cell_type": "code",
      "source": [
        "# defaut parameters\n",
        "def add(a,b=10):\n",
        "  addition = a+b\n",
        "  print(addition)"
      ],
      "metadata": {
        "id": "DpImIo6txOH8"
      },
      "execution_count": 105,
      "outputs": []
    },
    {
      "cell_type": "code",
      "source": [
        "add(10)"
      ],
      "metadata": {
        "colab": {
          "base_uri": "https://localhost:8080/"
        },
        "id": "s45q8n5HyYiM",
        "outputId": "8d34022b-2deb-48ae-bb85-11fdabe842d4"
      },
      "execution_count": 106,
      "outputs": [
        {
          "output_type": "stream",
          "name": "stdout",
          "text": [
            "20\n"
          ]
        }
      ]
    },
    {
      "cell_type": "code",
      "source": [
        "add(10,40)"
      ],
      "metadata": {
        "colab": {
          "base_uri": "https://localhost:8080/"
        },
        "id": "mBUPnn-syak1",
        "outputId": "ece543dd-d8e4-48ff-d49d-a1b7481371a0"
      },
      "execution_count": 107,
      "outputs": [
        {
          "output_type": "stream",
          "name": "stdout",
          "text": [
            "50\n"
          ]
        }
      ]
    },
    {
      "cell_type": "code",
      "source": [
        "#  *args\n",
        "def many_values(*args):\n",
        "  print(*args)"
      ],
      "metadata": {
        "id": "WhX9XRo6yfid"
      },
      "execution_count": 108,
      "outputs": []
    },
    {
      "cell_type": "code",
      "source": [
        "many_values(10,20,30,40,50)"
      ],
      "metadata": {
        "colab": {
          "base_uri": "https://localhost:8080/"
        },
        "id": "_axz_Wxg0es6",
        "outputId": "51b3d9c7-b57d-4101-8c62-32bfe2974b47"
      },
      "execution_count": 109,
      "outputs": [
        {
          "output_type": "stream",
          "name": "stdout",
          "text": [
            "10 20 30 40 50\n"
          ]
        }
      ]
    },
    {
      "cell_type": "code",
      "source": [
        "def many_keyvalues(**kwargs):\n",
        "  print(kwargs)"
      ],
      "metadata": {
        "id": "BWPt2DK90hAb"
      },
      "execution_count": 110,
      "outputs": []
    },
    {
      "cell_type": "code",
      "source": [
        "many_keyvalues(name='ram',age=20,course=['DS','DA','AWS'])"
      ],
      "metadata": {
        "colab": {
          "base_uri": "https://localhost:8080/"
        },
        "id": "eUXtm2z00rQi",
        "outputId": "08b2211f-9345-42a7-bf0b-2f62f347fe3e"
      },
      "execution_count": 111,
      "outputs": [
        {
          "output_type": "stream",
          "name": "stdout",
          "text": [
            "{'name': 'ram', 'age': 20, 'course': ['DS', 'DA', 'AWS']}\n"
          ]
        }
      ]
    },
    {
      "cell_type": "code",
      "source": [
        "# defining a mean function\n",
        "def mean(data):\n",
        "  length = 0\n",
        "  summation = 0\n",
        "  for i in data:\n",
        "    if type(i) == int or type(i) == float:\n",
        "      length += 1\n",
        "      summation += i\n",
        "  Mean = round(summation/length,2)\n",
        "  return Mean"
      ],
      "metadata": {
        "id": "dGEGqNIz0vvU"
      },
      "execution_count": 112,
      "outputs": []
    },
    {
      "cell_type": "code",
      "source": [
        "data = [10,20,30,40,50]\n",
        "mean(data)"
      ],
      "metadata": {
        "colab": {
          "base_uri": "https://localhost:8080/"
        },
        "id": "Zf8j1IRY2aZa",
        "outputId": "8f81f047-a649-4c50-f0b0-d985b08fb378"
      },
      "execution_count": 113,
      "outputs": [
        {
          "output_type": "execute_result",
          "data": {
            "text/plain": [
              "30.0"
            ]
          },
          "metadata": {},
          "execution_count": 113
        }
      ]
    },
    {
      "cell_type": "code",
      "source": [
        "data = list(map(int,input().split(' ')))\n",
        "mean(data)"
      ],
      "metadata": {
        "colab": {
          "base_uri": "https://localhost:8080/"
        },
        "id": "wsTe-hp02ihe",
        "outputId": "4ba9581e-f30f-4a28-edf7-3988baaad326"
      },
      "execution_count": 114,
      "outputs": [
        {
          "name": "stdout",
          "output_type": "stream",
          "text": [
            "10 20 30 40 50\n"
          ]
        },
        {
          "output_type": "execute_result",
          "data": {
            "text/plain": [
              "30.0"
            ]
          },
          "metadata": {},
          "execution_count": 114
        }
      ]
    },
    {
      "cell_type": "code",
      "source": [
        "dir(print)"
      ],
      "metadata": {
        "colab": {
          "base_uri": "https://localhost:8080/"
        },
        "id": "e261gYu827lL",
        "outputId": "b20fdd4c-e251-4eef-9855-5a16afed0094"
      },
      "execution_count": 115,
      "outputs": [
        {
          "output_type": "execute_result",
          "data": {
            "text/plain": [
              "['__call__',\n",
              " '__class__',\n",
              " '__delattr__',\n",
              " '__dir__',\n",
              " '__doc__',\n",
              " '__eq__',\n",
              " '__format__',\n",
              " '__ge__',\n",
              " '__getattribute__',\n",
              " '__gt__',\n",
              " '__hash__',\n",
              " '__init__',\n",
              " '__init_subclass__',\n",
              " '__le__',\n",
              " '__lt__',\n",
              " '__module__',\n",
              " '__name__',\n",
              " '__ne__',\n",
              " '__new__',\n",
              " '__qualname__',\n",
              " '__reduce__',\n",
              " '__reduce_ex__',\n",
              " '__repr__',\n",
              " '__self__',\n",
              " '__setattr__',\n",
              " '__sizeof__',\n",
              " '__str__',\n",
              " '__subclasshook__',\n",
              " '__text_signature__']"
            ]
          },
          "metadata": {},
          "execution_count": 115
        }
      ]
    },
    {
      "cell_type": "code",
      "source": [
        "import numpy as np\n"
      ],
      "metadata": {
        "id": "zr61GLVeDSoG"
      },
      "execution_count": 116,
      "outputs": []
    },
    {
      "cell_type": "code",
      "source": [
        "help(np.mean)"
      ],
      "metadata": {
        "colab": {
          "base_uri": "https://localhost:8080/"
        },
        "id": "uVjr2zGY9xrh",
        "outputId": "dc02cb32-84c7-4dd9-9ab0-29437068421b"
      },
      "execution_count": 117,
      "outputs": [
        {
          "output_type": "stream",
          "name": "stdout",
          "text": [
            "Help on _ArrayFunctionDispatcher in module numpy:\n",
            "\n",
            "mean(a, axis=None, dtype=None, out=None, keepdims=<no value>, *, where=<no value>)\n",
            "    Compute the arithmetic mean along the specified axis.\n",
            "    \n",
            "    Returns the average of the array elements.  The average is taken over\n",
            "    the flattened array by default, otherwise over the specified axis.\n",
            "    `float64` intermediate and return values are used for integer inputs.\n",
            "    \n",
            "    Parameters\n",
            "    ----------\n",
            "    a : array_like\n",
            "        Array containing numbers whose mean is desired. If `a` is not an\n",
            "        array, a conversion is attempted.\n",
            "    axis : None or int or tuple of ints, optional\n",
            "        Axis or axes along which the means are computed. The default is to\n",
            "        compute the mean of the flattened array.\n",
            "    \n",
            "        .. versionadded:: 1.7.0\n",
            "    \n",
            "        If this is a tuple of ints, a mean is performed over multiple axes,\n",
            "        instead of a single axis or all the axes as before.\n",
            "    dtype : data-type, optional\n",
            "        Type to use in computing the mean.  For integer inputs, the default\n",
            "        is `float64`; for floating point inputs, it is the same as the\n",
            "        input dtype.\n",
            "    out : ndarray, optional\n",
            "        Alternate output array in which to place the result.  The default\n",
            "        is ``None``; if provided, it must have the same shape as the\n",
            "        expected output, but the type will be cast if necessary.\n",
            "        See :ref:`ufuncs-output-type` for more details.\n",
            "    \n",
            "    keepdims : bool, optional\n",
            "        If this is set to True, the axes which are reduced are left\n",
            "        in the result as dimensions with size one. With this option,\n",
            "        the result will broadcast correctly against the input array.\n",
            "    \n",
            "        If the default value is passed, then `keepdims` will not be\n",
            "        passed through to the `mean` method of sub-classes of\n",
            "        `ndarray`, however any non-default value will be.  If the\n",
            "        sub-class' method does not implement `keepdims` any\n",
            "        exceptions will be raised.\n",
            "    \n",
            "    where : array_like of bool, optional\n",
            "        Elements to include in the mean. See `~numpy.ufunc.reduce` for details.\n",
            "    \n",
            "        .. versionadded:: 1.20.0\n",
            "    \n",
            "    Returns\n",
            "    -------\n",
            "    m : ndarray, see dtype parameter above\n",
            "        If `out=None`, returns a new array containing the mean values,\n",
            "        otherwise a reference to the output array is returned.\n",
            "    \n",
            "    See Also\n",
            "    --------\n",
            "    average : Weighted average\n",
            "    std, var, nanmean, nanstd, nanvar\n",
            "    \n",
            "    Notes\n",
            "    -----\n",
            "    The arithmetic mean is the sum of the elements along the axis divided\n",
            "    by the number of elements.\n",
            "    \n",
            "    Note that for floating-point input, the mean is computed using the\n",
            "    same precision the input has.  Depending on the input data, this can\n",
            "    cause the results to be inaccurate, especially for `float32` (see\n",
            "    example below).  Specifying a higher-precision accumulator using the\n",
            "    `dtype` keyword can alleviate this issue.\n",
            "    \n",
            "    By default, `float16` results are computed using `float32` intermediates\n",
            "    for extra precision.\n",
            "    \n",
            "    Examples\n",
            "    --------\n",
            "    >>> a = np.array([[1, 2], [3, 4]])\n",
            "    >>> np.mean(a)\n",
            "    2.5\n",
            "    >>> np.mean(a, axis=0)\n",
            "    array([2., 3.])\n",
            "    >>> np.mean(a, axis=1)\n",
            "    array([1.5, 3.5])\n",
            "    \n",
            "    In single precision, `mean` can be inaccurate:\n",
            "    \n",
            "    >>> a = np.zeros((2, 512*512), dtype=np.float32)\n",
            "    >>> a[0, :] = 1.0\n",
            "    >>> a[1, :] = 0.1\n",
            "    >>> np.mean(a)\n",
            "    0.54999924\n",
            "    \n",
            "    Computing the mean in float64 is more accurate:\n",
            "    \n",
            "    >>> np.mean(a, dtype=np.float64)\n",
            "    0.55000000074505806 # may vary\n",
            "    \n",
            "    Specifying a where argument:\n",
            "    \n",
            "    >>> a = np.array([[5, 9, 13], [14, 10, 12], [11, 15, 19]])\n",
            "    >>> np.mean(a)\n",
            "    12.0\n",
            "    >>> np.mean(a, where=[[True], [False], [False]])\n",
            "    9.0\n",
            "\n"
          ]
        }
      ]
    },
    {
      "cell_type": "code",
      "source": [
        "print(np.mean.__doc__)"
      ],
      "metadata": {
        "colab": {
          "base_uri": "https://localhost:8080/"
        },
        "id": "Llw2Af959zqm",
        "outputId": "71d3b56b-1372-49e1-b50e-9129714b3fab"
      },
      "execution_count": 118,
      "outputs": [
        {
          "output_type": "stream",
          "name": "stdout",
          "text": [
            "\n",
            "    Compute the arithmetic mean along the specified axis.\n",
            "\n",
            "    Returns the average of the array elements.  The average is taken over\n",
            "    the flattened array by default, otherwise over the specified axis.\n",
            "    `float64` intermediate and return values are used for integer inputs.\n",
            "\n",
            "    Parameters\n",
            "    ----------\n",
            "    a : array_like\n",
            "        Array containing numbers whose mean is desired. If `a` is not an\n",
            "        array, a conversion is attempted.\n",
            "    axis : None or int or tuple of ints, optional\n",
            "        Axis or axes along which the means are computed. The default is to\n",
            "        compute the mean of the flattened array.\n",
            "\n",
            "        .. versionadded:: 1.7.0\n",
            "\n",
            "        If this is a tuple of ints, a mean is performed over multiple axes,\n",
            "        instead of a single axis or all the axes as before.\n",
            "    dtype : data-type, optional\n",
            "        Type to use in computing the mean.  For integer inputs, the default\n",
            "        is `float64`; for floating point inputs, it is the same as the\n",
            "        input dtype.\n",
            "    out : ndarray, optional\n",
            "        Alternate output array in which to place the result.  The default\n",
            "        is ``None``; if provided, it must have the same shape as the\n",
            "        expected output, but the type will be cast if necessary.\n",
            "        See :ref:`ufuncs-output-type` for more details.\n",
            "\n",
            "    keepdims : bool, optional\n",
            "        If this is set to True, the axes which are reduced are left\n",
            "        in the result as dimensions with size one. With this option,\n",
            "        the result will broadcast correctly against the input array.\n",
            "\n",
            "        If the default value is passed, then `keepdims` will not be\n",
            "        passed through to the `mean` method of sub-classes of\n",
            "        `ndarray`, however any non-default value will be.  If the\n",
            "        sub-class' method does not implement `keepdims` any\n",
            "        exceptions will be raised.\n",
            "\n",
            "    where : array_like of bool, optional\n",
            "        Elements to include in the mean. See `~numpy.ufunc.reduce` for details.\n",
            "\n",
            "        .. versionadded:: 1.20.0\n",
            "\n",
            "    Returns\n",
            "    -------\n",
            "    m : ndarray, see dtype parameter above\n",
            "        If `out=None`, returns a new array containing the mean values,\n",
            "        otherwise a reference to the output array is returned.\n",
            "\n",
            "    See Also\n",
            "    --------\n",
            "    average : Weighted average\n",
            "    std, var, nanmean, nanstd, nanvar\n",
            "\n",
            "    Notes\n",
            "    -----\n",
            "    The arithmetic mean is the sum of the elements along the axis divided\n",
            "    by the number of elements.\n",
            "\n",
            "    Note that for floating-point input, the mean is computed using the\n",
            "    same precision the input has.  Depending on the input data, this can\n",
            "    cause the results to be inaccurate, especially for `float32` (see\n",
            "    example below).  Specifying a higher-precision accumulator using the\n",
            "    `dtype` keyword can alleviate this issue.\n",
            "\n",
            "    By default, `float16` results are computed using `float32` intermediates\n",
            "    for extra precision.\n",
            "\n",
            "    Examples\n",
            "    --------\n",
            "    >>> a = np.array([[1, 2], [3, 4]])\n",
            "    >>> np.mean(a)\n",
            "    2.5\n",
            "    >>> np.mean(a, axis=0)\n",
            "    array([2., 3.])\n",
            "    >>> np.mean(a, axis=1)\n",
            "    array([1.5, 3.5])\n",
            "\n",
            "    In single precision, `mean` can be inaccurate:\n",
            "\n",
            "    >>> a = np.zeros((2, 512*512), dtype=np.float32)\n",
            "    >>> a[0, :] = 1.0\n",
            "    >>> a[1, :] = 0.1\n",
            "    >>> np.mean(a)\n",
            "    0.54999924\n",
            "\n",
            "    Computing the mean in float64 is more accurate:\n",
            "\n",
            "    >>> np.mean(a, dtype=np.float64)\n",
            "    0.55000000074505806 # may vary\n",
            "\n",
            "    Specifying a where argument:\n",
            "\n",
            "    >>> a = np.array([[5, 9, 13], [14, 10, 12], [11, 15, 19]])\n",
            "    >>> np.mean(a)\n",
            "    12.0\n",
            "    >>> np.mean(a, where=[[True], [False], [False]])\n",
            "    9.0\n",
            "\n",
            "    \n"
          ]
        }
      ]
    },
    {
      "cell_type": "code",
      "source": [
        "header = [['Day', 'Date', 'Month', 'Year'],\n",
        "          ['Monday', 'Tuesday', 'Wednesday', 'Thursday', 'Friday', 'Saturday', 'Sunday']]\n",
        "Month = 6\n",
        "Year = 2024\n",
        "\n",
        "with open('date.txt', 'w') as f:\n",
        "\n",
        "    for i in header[0]:\n",
        "        f.write(i)\n",
        "        f.write(' ')\n",
        "\n",
        "    f.write('\\n')\n",
        "\n",
        "    # for j in header[1]:\n",
        "    #     f.write(j)\n",
        "    #     f.write(' ')\n",
        "\n",
        "    # f.write('\\n')\n",
        "\n",
        "    # The loop below was not correctly implemented, this is an example of how\n",
        "    # you might want to write the code to achieve a desired outcome, it may not\n",
        "    # be the exact outcome you were looking for\n",
        "    date = 1\n",
        "    for day in header[1]:\n",
        "        f.write(f\"{day} {date} {Month} {Year}\\n\")\n",
        "        date += 1"
      ],
      "metadata": {
        "id": "fhD5QajP93gV"
      },
      "execution_count": 121,
      "outputs": []
    },
    {
      "cell_type": "code",
      "source": [],
      "metadata": {
        "id": "r9sxMrGU2lIK"
      },
      "execution_count": null,
      "outputs": []
    }
  ]
}