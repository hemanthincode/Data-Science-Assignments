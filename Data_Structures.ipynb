{
  "nbformat": 4,
  "nbformat_minor": 0,
  "metadata": {
    "colab": {
      "provenance": []
    },
    "kernelspec": {
      "name": "python3",
      "display_name": "Python 3"
    },
    "language_info": {
      "name": "python"
    }
  },
  "cells": [
    {
      "cell_type": "code",
      "execution_count": 2,
      "metadata": {
        "id": "FKfgh5V1eyA4"
      },
      "outputs": [],
      "source": [
        "L = [1,2,3,4556,35.56,'afes']\n",
        "T = (1,2,34,5,'amaem')\n",
        "S = {1,2,33,4,5,6644,4334,45,5434,2,3,1,23}\n",
        "D = {23:'hemanth','course':'DS','intern':'6 months'}"
      ]
    },
    {
      "cell_type": "code",
      "source": [
        "print('Type of L is ',type(L))\n",
        "print('Type of T is ',type(T))\n",
        "print('Type of S is ',type(S))\n",
        "print('Type of D is ',type(D))"
      ],
      "metadata": {
        "colab": {
          "base_uri": "https://localhost:8080/"
        },
        "id": "7-f3n9X4fvAj",
        "outputId": "f4b2b14b-e298-4d58-bfa7-af072441c988"
      },
      "execution_count": 3,
      "outputs": [
        {
          "output_type": "stream",
          "name": "stdout",
          "text": [
            "Type of L is  <class 'list'>\n",
            "Type of T is  <class 'tuple'>\n",
            "Type of S is  <class 'set'>\n",
            "Type of D is  <class 'dict'>\n"
          ]
        }
      ]
    },
    {
      "cell_type": "code",
      "source": [
        "print(L[1])\n",
        "print(T[1])\n",
        "print(3 in S)\n",
        "print(D[23])"
      ],
      "metadata": {
        "colab": {
          "base_uri": "https://localhost:8080/"
        },
        "id": "hRSLRr8CgAoC",
        "outputId": "88028398-50c3-443b-c285-c427a59730b4"
      },
      "execution_count": 4,
      "outputs": [
        {
          "output_type": "stream",
          "name": "stdout",
          "text": [
            "2\n",
            "2\n",
            "True\n",
            "hemanth\n"
          ]
        }
      ]
    },
    {
      "cell_type": "code",
      "source": [
        "D['course']"
      ],
      "metadata": {
        "colab": {
          "base_uri": "https://localhost:8080/",
          "height": 35
        },
        "id": "vHdBWN4wg0Ka",
        "outputId": "29785525-ccf7-45de-ffdc-07514c4ac1eb"
      },
      "execution_count": 5,
      "outputs": [
        {
          "output_type": "execute_result",
          "data": {
            "text/plain": [
              "'DS'"
            ],
            "application/vnd.google.colaboratory.intrinsic+json": {
              "type": "string"
            }
          },
          "metadata": {},
          "execution_count": 5
        }
      ]
    },
    {
      "cell_type": "code",
      "source": [
        "T[3]"
      ],
      "metadata": {
        "colab": {
          "base_uri": "https://localhost:8080/"
        },
        "id": "YuuMWo47hKIH",
        "outputId": "ddca8ca3-dbf3-447c-f7d0-c86bcb6cfee7"
      },
      "execution_count": 6,
      "outputs": [
        {
          "output_type": "execute_result",
          "data": {
            "text/plain": [
              "5"
            ]
          },
          "metadata": {},
          "execution_count": 6
        }
      ]
    },
    {
      "cell_type": "code",
      "source": [
        "print(S)"
      ],
      "metadata": {
        "colab": {
          "base_uri": "https://localhost:8080/"
        },
        "id": "YW6uqNDyhOmM",
        "outputId": "2f94c051-5d5e-473c-9825-7c714f6de285"
      },
      "execution_count": 7,
      "outputs": [
        {
          "output_type": "stream",
          "name": "stdout",
          "text": [
            "{1, 2, 33, 4, 5, 3, 45, 4334, 6644, 23, 5434}\n"
          ]
        }
      ]
    },
    {
      "cell_type": "code",
      "source": [
        "L[0]"
      ],
      "metadata": {
        "colab": {
          "base_uri": "https://localhost:8080/"
        },
        "id": "3jNdE8nChUTE",
        "outputId": "4cf6d336-9fc8-4a1f-b3f5-efb435e5a100"
      },
      "execution_count": 8,
      "outputs": [
        {
          "output_type": "execute_result",
          "data": {
            "text/plain": [
              "1"
            ]
          },
          "metadata": {},
          "execution_count": 8
        }
      ]
    },
    {
      "cell_type": "code",
      "source": [
        "L[1]"
      ],
      "metadata": {
        "id": "ENmgJ4p1hnlY",
        "colab": {
          "base_uri": "https://localhost:8080/"
        },
        "outputId": "14797978-10ab-4f71-a721-4d912e338c8e"
      },
      "execution_count": 9,
      "outputs": [
        {
          "output_type": "execute_result",
          "data": {
            "text/plain": [
              "2"
            ]
          },
          "metadata": {},
          "execution_count": 9
        }
      ]
    },
    {
      "cell_type": "code",
      "source": [
        "L = L+['game']\n",
        "L"
      ],
      "metadata": {
        "colab": {
          "base_uri": "https://localhost:8080/"
        },
        "id": "X_m67BlZoxSK",
        "outputId": "318c1401-f676-4911-bd8b-00c0eb459a49"
      },
      "execution_count": 12,
      "outputs": [
        {
          "output_type": "execute_result",
          "data": {
            "text/plain": [
              "[1, 2, 3, 4556, 35.56, 'afes', 'game', 'game']"
            ]
          },
          "metadata": {},
          "execution_count": 12
        }
      ]
    },
    {
      "cell_type": "code",
      "source": [
        "L[2]"
      ],
      "metadata": {
        "colab": {
          "base_uri": "https://localhost:8080/"
        },
        "id": "3dmemYnUo-1T",
        "outputId": "e1e8d714-6a9f-4154-fe71-4acc8b05f4fb"
      },
      "execution_count": 13,
      "outputs": [
        {
          "output_type": "execute_result",
          "data": {
            "text/plain": [
              "3"
            ]
          },
          "metadata": {},
          "execution_count": 13
        }
      ]
    },
    {
      "cell_type": "code",
      "source": [
        "L[2] = 'orange'\n",
        "L[2]"
      ],
      "metadata": {
        "colab": {
          "base_uri": "https://localhost:8080/",
          "height": 35
        },
        "id": "2cjC1N_gpIOG",
        "outputId": "f072b742-bf36-42d7-d0d6-b91f30467c72"
      },
      "execution_count": 14,
      "outputs": [
        {
          "output_type": "execute_result",
          "data": {
            "text/plain": [
              "'orange'"
            ],
            "application/vnd.google.colaboratory.intrinsic+json": {
              "type": "string"
            }
          },
          "metadata": {},
          "execution_count": 14
        }
      ]
    },
    {
      "cell_type": "code",
      "source": [
        "del L[1]"
      ],
      "metadata": {
        "id": "iXWTNJ7GpMzl"
      },
      "execution_count": 15,
      "outputs": []
    },
    {
      "cell_type": "code",
      "source": [
        "T1 = (12,'asdvc',455.54)\n",
        "T2 = (234,'fsg',34.8)"
      ],
      "metadata": {
        "id": "lcS3C5f6pRoK"
      },
      "execution_count": 18,
      "outputs": []
    },
    {
      "cell_type": "code",
      "source": [
        "T3 = T1 + T2\n",
        "T3"
      ],
      "metadata": {
        "colab": {
          "base_uri": "https://localhost:8080/"
        },
        "id": "3jSiaBMNpSqi",
        "outputId": "eda2bdfc-790c-4de4-9b50-eb58040f7bae"
      },
      "execution_count": 19,
      "outputs": [
        {
          "output_type": "execute_result",
          "data": {
            "text/plain": [
              "(12, 'asdvc', 455.54, 234, 'fsg', 34.8)"
            ]
          },
          "metadata": {},
          "execution_count": 19
        }
      ]
    },
    {
      "cell_type": "code",
      "source": [
        "S"
      ],
      "metadata": {
        "colab": {
          "base_uri": "https://localhost:8080/"
        },
        "id": "4RbijUrRpsXe",
        "outputId": "44b7589e-af65-4f4e-b498-6e96e6483c6c"
      },
      "execution_count": 20,
      "outputs": [
        {
          "output_type": "execute_result",
          "data": {
            "text/plain": [
              "{1, 2, 3, 4, 5, 23, 33, 45, 4334, 5434, 6644}"
            ]
          },
          "metadata": {},
          "execution_count": 20
        }
      ]
    },
    {
      "cell_type": "code",
      "source": [
        "S.add('new item')"
      ],
      "metadata": {
        "id": "gpJgEaK7pwS-"
      },
      "execution_count": 21,
      "outputs": []
    },
    {
      "cell_type": "code",
      "source": [
        "S.update({'one item','two items'})"
      ],
      "metadata": {
        "id": "zgFOsoisp10g"
      },
      "execution_count": 27,
      "outputs": []
    },
    {
      "cell_type": "code",
      "source": [
        "S"
      ],
      "metadata": {
        "colab": {
          "base_uri": "https://localhost:8080/"
        },
        "id": "FEnRaksNqAUJ",
        "outputId": "81543689-3488-4bc4-c5a3-8854dc938d60"
      },
      "execution_count": 28,
      "outputs": [
        {
          "output_type": "execute_result",
          "data": {
            "text/plain": [
              "{' ',\n",
              " 1,\n",
              " 2,\n",
              " 23,\n",
              " 3,\n",
              " 33,\n",
              " 4,\n",
              " 4334,\n",
              " 45,\n",
              " 5,\n",
              " 5434,\n",
              " 6644,\n",
              " 'e',\n",
              " 'i',\n",
              " 'm',\n",
              " 'n',\n",
              " 'new item',\n",
              " 'o',\n",
              " 'one item',\n",
              " 's',\n",
              " 't',\n",
              " 'two items',\n",
              " 'w'}"
            ]
          },
          "metadata": {},
          "execution_count": 28
        }
      ]
    },
    {
      "cell_type": "code",
      "source": [
        "D"
      ],
      "metadata": {
        "colab": {
          "base_uri": "https://localhost:8080/"
        },
        "id": "DOq1MjXyqBUm",
        "outputId": "333e4cd9-5e9a-459f-884f-d3a1ad7c7ee6"
      },
      "execution_count": 29,
      "outputs": [
        {
          "output_type": "execute_result",
          "data": {
            "text/plain": [
              "{23: 'hemanth', 'course': 'DS', 'intern': '6 months'}"
            ]
          },
          "metadata": {},
          "execution_count": 29
        }
      ]
    },
    {
      "cell_type": "code",
      "source": [
        "D['DS'] = 'Data Science'\n",
        "D"
      ],
      "metadata": {
        "colab": {
          "base_uri": "https://localhost:8080/"
        },
        "id": "212XJKItqtgV",
        "outputId": "0a33a94f-cfff-414d-f74a-5866e293fb1d"
      },
      "execution_count": 33,
      "outputs": [
        {
          "output_type": "execute_result",
          "data": {
            "text/plain": [
              "{23: 'hemanth', 'course': 'DS', 'intern': '6 months', 'DS': 'Data Science'}"
            ]
          },
          "metadata": {},
          "execution_count": 33
        }
      ]
    },
    {
      "cell_type": "code",
      "source": [
        "del D['DS']"
      ],
      "metadata": {
        "id": "9UolMMGHv85r"
      },
      "execution_count": 62,
      "outputs": []
    },
    {
      "cell_type": "code",
      "source": [
        "D"
      ],
      "metadata": {
        "colab": {
          "base_uri": "https://localhost:8080/"
        },
        "id": "ad_i5O8gxH1f",
        "outputId": "6edd117f-5e6f-458a-a50e-9f38d0de2966"
      },
      "execution_count": 63,
      "outputs": [
        {
          "output_type": "execute_result",
          "data": {
            "text/plain": [
              "{23: 'hemanth', 'course': 'DS', 'intern': '6 months'}"
            ]
          },
          "metadata": {},
          "execution_count": 63
        }
      ]
    },
    {
      "cell_type": "code",
      "source": [
        "for x in D:\n",
        "  print(x,D)"
      ],
      "metadata": {
        "colab": {
          "base_uri": "https://localhost:8080/"
        },
        "id": "DjDaTbqOxImM",
        "outputId": "26f4cb53-2bd4-403a-f548-95e46f77e947"
      },
      "execution_count": 64,
      "outputs": [
        {
          "output_type": "stream",
          "name": "stdout",
          "text": [
            "23 {23: 'hemanth', 'course': 'DS', 'intern': '6 months'}\n",
            "course {23: 'hemanth', 'course': 'DS', 'intern': '6 months'}\n",
            "intern {23: 'hemanth', 'course': 'DS', 'intern': '6 months'}\n"
          ]
        }
      ]
    },
    {
      "cell_type": "code",
      "source": [
        "L3 = [x**2 for x in range(10)]\n",
        "L3"
      ],
      "metadata": {
        "colab": {
          "base_uri": "https://localhost:8080/"
        },
        "id": "OJYYcRCF41NW",
        "outputId": "e20b631c-b0ba-4b67-9d40-8ef345d16fb3"
      },
      "execution_count": 65,
      "outputs": [
        {
          "output_type": "execute_result",
          "data": {
            "text/plain": [
              "[0, 1, 4, 9, 16, 25, 36, 49, 64, 81]"
            ]
          },
          "metadata": {},
          "execution_count": 65
        }
      ]
    },
    {
      "cell_type": "code",
      "source": [
        "S3 = {x**2 for x in range(2,20,3)}\n",
        "S3"
      ],
      "metadata": {
        "colab": {
          "base_uri": "https://localhost:8080/"
        },
        "id": "OE-d2ZUu490Q",
        "outputId": "cc61d5f3-7801-492b-998b-896a16d978d0"
      },
      "execution_count": 66,
      "outputs": [
        {
          "output_type": "execute_result",
          "data": {
            "text/plain": [
              "{4, 25, 64, 121, 196, 289}"
            ]
          },
          "metadata": {},
          "execution_count": 66
        }
      ]
    },
    {
      "cell_type": "code",
      "source": [],
      "metadata": {
        "id": "_njfUj235Nf_"
      },
      "execution_count": null,
      "outputs": []
    }
  ]
}