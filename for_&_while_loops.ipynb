{
  "nbformat": 4,
  "nbformat_minor": 0,
  "metadata": {
    "colab": {
      "provenance": []
    },
    "kernelspec": {
      "name": "python3",
      "display_name": "Python 3"
    },
    "language_info": {
      "name": "python"
    }
  },
  "cells": [
    {
      "cell_type": "code",
      "execution_count": null,
      "metadata": {
        "colab": {
          "base_uri": "https://localhost:8080/"
        },
        "id": "JjmVDcmimY_B",
        "outputId": "0e295422-1bc5-48e4-8684-44a39c786fd8"
      },
      "outputs": [
        {
          "output_type": "stream",
          "name": "stdout",
          "text": [
            "Enter number: 9\n",
            "1\n",
            "2\n",
            "3\n",
            "4\n",
            "5\n",
            "6\n",
            "7\n",
            "8\n",
            "Done\n"
          ]
        }
      ],
      "source": [
        "n = int(input('Enter number: '))\n",
        "i = 1\n",
        "\n",
        "while i < n:\n",
        "  print(i)\n",
        "  i += 1\n",
        "print('Done')"
      ]
    },
    {
      "cell_type": "code",
      "source": [
        "n = int(input('Enter number'))\n",
        "i = 0\n",
        "\n",
        "while i < n:\n",
        "    print(i)\n",
        "    i += 1\n",
        "print('Loop Done')"
      ],
      "metadata": {
        "colab": {
          "base_uri": "https://localhost:8080/"
        },
        "id": "DOROxnBQm1Bx",
        "outputId": "dbc187e5-993d-4d3a-c438-e58ee43ba6d3"
      },
      "execution_count": null,
      "outputs": [
        {
          "output_type": "stream",
          "name": "stdout",
          "text": [
            "Enter number9\n",
            "0\n",
            "1\n",
            "2\n",
            "3\n",
            "4\n",
            "5\n",
            "6\n",
            "7\n",
            "8\n",
            "Loop Done\n"
          ]
        }
      ]
    },
    {
      "cell_type": "code",
      "source": [
        "for i in range(0,5):\n",
        "  print(i)"
      ],
      "metadata": {
        "colab": {
          "base_uri": "https://localhost:8080/"
        },
        "id": "Xizm4zu8wsUz",
        "outputId": "3100973b-af04-48e5-c52a-dc766435c503"
      },
      "execution_count": null,
      "outputs": [
        {
          "output_type": "stream",
          "name": "stdout",
          "text": [
            "0\n",
            "1\n",
            "2\n",
            "3\n",
            "4\n"
          ]
        }
      ]
    },
    {
      "cell_type": "code",
      "source": [
        "for i in range(0,10,2):\n",
        "  print(i)"
      ],
      "metadata": {
        "colab": {
          "base_uri": "https://localhost:8080/"
        },
        "id": "RKDeeZG-o5pj",
        "outputId": "90766a1d-8765-4678-a01d-86c85e09ae64"
      },
      "execution_count": null,
      "outputs": [
        {
          "output_type": "stream",
          "name": "stdout",
          "text": [
            "0\n",
            "2\n",
            "4\n",
            "6\n",
            "8\n"
          ]
        }
      ]
    },
    {
      "cell_type": "code",
      "source": [
        "n = int(input('Enter number: '))\n",
        "while n > 0:\n",
        "  n -= 1\n",
        "  print(n)\n",
        "print('Done')\n"
      ],
      "metadata": {
        "colab": {
          "base_uri": "https://localhost:8080/"
        },
        "id": "VBeraI6h3PU_",
        "outputId": "f288f5df-3718-4db8-cbcf-c2ee17d26528"
      },
      "execution_count": null,
      "outputs": [
        {
          "output_type": "stream",
          "name": "stdout",
          "text": [
            "Enter number: 6\n",
            "5\n",
            "4\n",
            "3\n",
            "2\n",
            "1\n",
            "0\n",
            "Done\n"
          ]
        }
      ]
    },
    {
      "cell_type": "code",
      "source": [
        "n =5\n",
        "while n > 0:\n",
        "  n -= 1\n",
        "  print(n)"
      ],
      "metadata": {
        "colab": {
          "base_uri": "https://localhost:8080/"
        },
        "id": "G5oRg0mh5OQl",
        "outputId": "f94d9de2-bd4e-4548-9f4e-18c7e359ee85"
      },
      "execution_count": null,
      "outputs": [
        {
          "output_type": "stream",
          "name": "stdout",
          "text": [
            "4\n",
            "3\n",
            "2\n",
            "1\n",
            "0\n"
          ]
        }
      ]
    },
    {
      "cell_type": "code",
      "source": [
        "for i in range(5, 0, -1):\n",
        "  print(i)\n"
      ],
      "metadata": {
        "colab": {
          "base_uri": "https://localhost:8080/"
        },
        "id": "98nNGcdK6Sg1",
        "outputId": "fc6406a6-9c7e-493b-b5d6-6494dbcc42e6"
      },
      "execution_count": null,
      "outputs": [
        {
          "output_type": "stream",
          "name": "stdout",
          "text": [
            "5\n",
            "4\n",
            "3\n",
            "2\n",
            "1\n"
          ]
        }
      ]
    },
    {
      "cell_type": "code",
      "source": [
        "for i in range(6,0,-1):\n",
        "  print(i)"
      ],
      "metadata": {
        "colab": {
          "base_uri": "https://localhost:8080/"
        },
        "id": "KCMKbqVu6wXu",
        "outputId": "84451c21-b15c-4c2f-a9af-9923220542e3"
      },
      "execution_count": null,
      "outputs": [
        {
          "output_type": "stream",
          "name": "stdout",
          "text": [
            "6\n",
            "5\n",
            "4\n",
            "3\n",
            "2\n",
            "1\n"
          ]
        }
      ]
    },
    {
      "cell_type": "code",
      "source": [
        "n = 5\n",
        "i = 0\n",
        "while i < n:\n",
        "  print(i)\n",
        "  i = i + 1\n",
        "print('done')"
      ],
      "metadata": {
        "id": "mKcYUTZ963NE",
        "colab": {
          "base_uri": "https://localhost:8080/"
        },
        "outputId": "87a087bc-6de1-4913-a240-05c7d4862b86"
      },
      "execution_count": null,
      "outputs": [
        {
          "output_type": "stream",
          "name": "stdout",
          "text": [
            "0\n",
            "1\n",
            "2\n",
            "3\n",
            "4\n",
            "done\n"
          ]
        }
      ]
    },
    {
      "cell_type": "code",
      "source": [
        "n = 5\n",
        "while n > 0:\n",
        "  n = n - 1\n",
        "  print(n)"
      ],
      "metadata": {
        "colab": {
          "base_uri": "https://localhost:8080/"
        },
        "id": "lJaKDPT66lED",
        "outputId": "c75724fb-8b9a-4ef4-a93d-c1b06413d627"
      },
      "execution_count": null,
      "outputs": [
        {
          "output_type": "stream",
          "name": "stdout",
          "text": [
            "4\n",
            "3\n",
            "2\n",
            "1\n",
            "0\n"
          ]
        }
      ]
    },
    {
      "cell_type": "code",
      "source": [
        "for i in range(0,10):\n",
        "  print(i)"
      ],
      "metadata": {
        "colab": {
          "base_uri": "https://localhost:8080/"
        },
        "id": "kNJ8wN4X7TML",
        "outputId": "f3dd3430-c75e-440f-9e10-99197e37aaa4"
      },
      "execution_count": null,
      "outputs": [
        {
          "output_type": "stream",
          "name": "stdout",
          "text": [
            "0\n",
            "1\n",
            "2\n",
            "3\n",
            "4\n",
            "5\n",
            "6\n",
            "7\n",
            "8\n",
            "9\n"
          ]
        }
      ]
    },
    {
      "cell_type": "code",
      "source": [
        "for i in range(10,0,-1):\n",
        "  print(i)"
      ],
      "metadata": {
        "colab": {
          "base_uri": "https://localhost:8080/"
        },
        "id": "9arwShz074Gf",
        "outputId": "e0c189f4-5717-4d56-e5da-a9b7f0bd11de"
      },
      "execution_count": null,
      "outputs": [
        {
          "output_type": "stream",
          "name": "stdout",
          "text": [
            "10\n",
            "9\n",
            "8\n",
            "7\n",
            "6\n",
            "5\n",
            "4\n",
            "3\n",
            "2\n",
            "1\n"
          ]
        }
      ]
    },
    {
      "cell_type": "markdown",
      "source": [
        "## Print Even Numbers: Write a program to print all even numbers from 1 to 20 using a for loop."
      ],
      "metadata": {
        "id": "nMePiNq09JnK"
      }
    },
    {
      "cell_type": "code",
      "source": [
        "for i in range(1,20):\n",
        "  print(i)"
      ],
      "metadata": {
        "colab": {
          "base_uri": "https://localhost:8080/"
        },
        "id": "2iZ0WYlF8Zye",
        "outputId": "b8b966c0-87df-4b3d-f19d-4a9f70a0efcc"
      },
      "execution_count": null,
      "outputs": [
        {
          "output_type": "stream",
          "name": "stdout",
          "text": [
            "1\n",
            "2\n",
            "3\n",
            "4\n",
            "5\n",
            "6\n",
            "7\n",
            "8\n",
            "9\n",
            "10\n",
            "11\n",
            "12\n",
            "13\n",
            "14\n",
            "15\n",
            "16\n",
            "17\n",
            "18\n",
            "19\n"
          ]
        }
      ]
    },
    {
      "cell_type": "markdown",
      "source": [
        "## Factorial Calculation: Write a program to calculate the factorial of a given number using a while loop."
      ],
      "metadata": {
        "id": "auecEtBS9W4Q"
      }
    },
    {
      "cell_type": "code",
      "source": [
        "n = int(input('Enter a number: '))\n",
        "factorial = 1\n",
        "i = 1\n",
        "while i <= n:\n",
        "    factorial *= i\n",
        "    i += 1\n",
        "print(f'The factorial of {n} is: {factorial}')\n"
      ],
      "metadata": {
        "colab": {
          "base_uri": "https://localhost:8080/"
        },
        "id": "F9fqHOq79Sux",
        "outputId": "bc76ee64-36fb-4d84-cfa1-aecc7dc433ed"
      },
      "execution_count": null,
      "outputs": [
        {
          "output_type": "stream",
          "name": "stdout",
          "text": [
            "Enter a number: 6\n",
            "The factorial of 6 is: 720\n"
          ]
        }
      ]
    },
    {
      "cell_type": "markdown",
      "source": [
        "## Fibonacci Sequence: Write a program to generate the Fibonacci sequence up to a certain number of terms using a for loop."
      ],
      "metadata": {
        "id": "G3P6rlLq_bJZ"
      }
    },
    {
      "cell_type": "code",
      "source": [
        "# prompt: Fibonacci Sequence: Write a program to generate the Fibonacci sequence up to a certain number of terms using a for loop.\n",
        "\n",
        "n = int(input('Enter the number of terms: '))\n",
        "\n",
        "# Initialize the first two terms of the sequence\n",
        "f1 = 0\n",
        "f2 = 1\n",
        "\n",
        "# Print the first two terms\n",
        "print(f1)\n",
        "print(f2)\n",
        "\n",
        "# Generate the remaining terms using a for loop\n",
        "for i in range(2, n):\n",
        "  f3 = f1 + f2\n",
        "  print(f3)\n",
        "  f1 = f2\n",
        "  f2 = f3\n"
      ],
      "metadata": {
        "colab": {
          "base_uri": "https://localhost:8080/"
        },
        "id": "mDpkwjLv-4qx",
        "outputId": "e3c53eb5-43f2-4460-dbfa-a908ea052242"
      },
      "execution_count": null,
      "outputs": [
        {
          "output_type": "stream",
          "name": "stdout",
          "text": [
            "Enter the number of terms: 4\n",
            "0\n",
            "1\n",
            "1\n",
            "2\n"
          ]
        }
      ]
    },
    {
      "cell_type": "markdown",
      "source": [
        "### Number Guessing Game: Write a program that generates a random number between 1 and 100 and asks the user to guess the number. Provide hints such as \"too high\" or \"too low\" until the user guesses the correct number. Use a while loop for this task."
      ],
      "metadata": {
        "id": "H2mX2m15Agdn"
      }
    },
    {
      "cell_type": "code",
      "source": [
        "# prompt: Number Guessing Game: Write a program that generates a random number between 1 and 100 and asks the user to guess the number. Provide hints such as \"too high\" or \"too low\" until the user guesses the correct number. Use a while loop for this task.\n",
        "\n",
        "import random\n",
        "\n",
        "# Generate a random number between 1 and 100\n",
        "secret_number = random.randint(1, 100)\n",
        "\n",
        "# Initialize the guess\n",
        "guess = None\n",
        "\n",
        "# Use a while loop to continue guessing until the user guesses correctly\n",
        "while guess != secret_number:\n",
        "    # Prompt the user for a guess\n",
        "    guess = int(input(\"Guess a number between 1 and 100: \"))\n",
        "\n",
        "    # Provide hints based on the guess\n",
        "    if guess > secret_number:\n",
        "        print(\"Too high!\")\n",
        "    elif guess < secret_number:\n",
        "        print(\"Too low!\")\n",
        "\n",
        "# If the loop exits, the user guessed correctly\n",
        "print(\"Congratulations! You guessed the correct number.\")\n"
      ],
      "metadata": {
        "colab": {
          "base_uri": "https://localhost:8080/"
        },
        "id": "g3yj6nNnATNQ",
        "outputId": "33141a21-60b0-41f9-91f6-05cdb95b15a9"
      },
      "execution_count": null,
      "outputs": [
        {
          "output_type": "stream",
          "name": "stdout",
          "text": [
            "Guess a number between 1 and 100: 34\n",
            "Too high!\n",
            "Guess a number between 1 and 100: 3\n",
            "Too low!\n",
            "Guess a number between 1 and 100: 34\n",
            "Too high!\n",
            "Guess a number between 1 and 100: 33\n",
            "Too high!\n",
            "Guess a number between 1 and 100: 32\n",
            "Too high!\n",
            "Guess a number between 1 and 100: 23\n",
            "Too high!\n",
            "Guess a number between 1 and 100: 34\n",
            "Too high!\n",
            "Guess a number between 1 and 100: 31\n",
            "Too high!\n",
            "Guess a number between 1 and 100: 30\n",
            "Too high!\n",
            "Guess a number between 1 and 100: 29\n",
            "Too high!\n",
            "Guess a number between 1 and 100: 28\n",
            "Too high!\n",
            "Guess a number between 1 and 100: 27\n",
            "Too high!\n",
            "Guess a number between 1 and 100: 26\n",
            "Too high!\n",
            "Guess a number between 1 and 100: 25\n",
            "Too high!\n",
            "Guess a number between 1 and 100: 24\n",
            "Too high!\n",
            "Guess a number between 1 and 100: 23\n",
            "Too high!\n",
            "Guess a number between 1 and 100: 22\n",
            "Too high!\n",
            "Guess a number between 1 and 100: 21\n",
            "Too high!\n",
            "Guess a number between 1 and 100: 20\n",
            "Too high!\n",
            "Guess a number between 1 and 100: 19\n",
            "Too high!\n",
            "Guess a number between 1 and 100: 18\n",
            "Too high!\n",
            "Guess a number between 1 and 100: 17\n",
            "Too high!\n",
            "Guess a number between 1 and 100: 16\n",
            "Too high!\n",
            "Guess a number between 1 and 100: 15\n",
            "Too high!\n",
            "Guess a number between 1 and 100: 14\n",
            "Too high!\n",
            "Guess a number between 1 and 100: 13\n",
            "Too high!\n",
            "Guess a number between 1 and 100: 12\n",
            "Too high!\n",
            "Guess a number between 1 and 100: 11\n",
            "Too high!\n",
            "Guess a number between 1 and 100: 10\n",
            "Congratulations! You guessed the correct number.\n"
          ]
        }
      ]
    },
    {
      "cell_type": "code",
      "source": [
        "# prompt: Number Guessing Game: Write a program that generates a random number between 1 and 100 and asks the user to guess the number. Provide hints such as \"too high\" or \"too low\" until the user guesses the correct number. Use a for loop for this task.\n",
        "\n",
        "import random\n",
        "\n",
        "# Generate a random number between 1 and 100\n",
        "secret_number = random.randint(1, 100)\n",
        "\n",
        "# Initialize the guess\n",
        "guess = None\n",
        "\n",
        "# Use a for loop to continue guessing for a maximum of 10 attempts\n",
        "for i in range(10):\n",
        "    # Prompt the user for a guess\n",
        "    guess = int(input(\"Guess a number between 1 and 100: \"))\n",
        "\n",
        "    # Provide hints based on the guess\n",
        "    if guess > secret_number:\n",
        "        print(\"Too high!\")\n",
        "    elif guess < secret_number:\n",
        "        print(\"Too low!\")\n",
        "\n",
        "    # Check if the user guessed correctly\n",
        "    if guess == secret_number:\n",
        "        break\n",
        "\n",
        "# If the loop exits without guessing correctly, the user failed\n",
        "if guess != secret_number:\n",
        "    print(\"You ran out of attempts. The correct number was:\", secret_number)\n",
        "else:\n",
        "    print(\"Congratulations! You guessed the correct number.\")\n"
      ],
      "metadata": {
        "colab": {
          "base_uri": "https://localhost:8080/"
        },
        "id": "pAO8hwzrA2fy",
        "outputId": "ee3adc6a-b7a8-48de-9ab0-a18dd1a0269a"
      },
      "execution_count": null,
      "outputs": [
        {
          "output_type": "stream",
          "name": "stdout",
          "text": [
            "Guess a number between 1 and 100: 22\n",
            "Too low!\n",
            "Guess a number between 1 and 100: 23\n",
            "Too low!\n",
            "Guess a number between 1 and 100: 34\n",
            "Too low!\n",
            "Guess a number between 1 and 100: 45\n",
            "Too low!\n",
            "Guess a number between 1 and 100: 50\n",
            "Too low!\n",
            "Guess a number between 1 and 100: 50\n",
            "Too low!\n",
            "Guess a number between 1 and 100: 51\n",
            "Too low!\n",
            "Guess a number between 1 and 100: 55\n",
            "Too high!\n",
            "Guess a number between 1 and 100: 52\n",
            "Too low!\n",
            "Guess a number between 1 and 100: 53\n",
            "Congratulations! You guessed the correct number.\n"
          ]
        }
      ]
    },
    {
      "cell_type": "markdown",
      "source": [
        "### Multiplication Table: Write a program to generate the multiplication table (up to 10) of a given number using a for loop."
      ],
      "metadata": {
        "id": "sEodEIRYD9nB"
      }
    },
    {
      "cell_type": "code",
      "source": [
        "n = int(input('Enter a number: '))\n",
        "\n",
        "for i in range(1,11):\n",
        "  product = n * i\n",
        "  print(f' {n} * {i} = {product}')"
      ],
      "metadata": {
        "colab": {
          "base_uri": "https://localhost:8080/"
        },
        "id": "xtcDuVu-D5Ua",
        "outputId": "0e307883-5a62-4d90-b3fa-e85926542972"
      },
      "execution_count": null,
      "outputs": [
        {
          "output_type": "stream",
          "name": "stdout",
          "text": [
            "Enter a number: 2\n",
            " 2 * 1 = 2\n",
            " 2 * 2 = 4\n",
            " 2 * 3 = 6\n",
            " 2 * 4 = 8\n",
            " 2 * 5 = 10\n",
            " 2 * 6 = 12\n",
            " 2 * 7 = 14\n",
            " 2 * 8 = 16\n",
            " 2 * 9 = 18\n",
            " 2 * 10 = 20\n"
          ]
        }
      ]
    },
    {
      "cell_type": "code",
      "source": [
        "# prompt: Multiplication Table: Write a program to generate the multiplication table (up to 10) of a given number using a while loop.\n",
        "\n",
        "n = int(input('Enter a number: '))\n",
        "\n",
        "i = 1\n",
        "while i <= 10:\n",
        "  product = n * i\n",
        "  print(f' {n} * {i} = {product}')\n",
        "  i += 1\n"
      ],
      "metadata": {
        "colab": {
          "base_uri": "https://localhost:8080/"
        },
        "id": "IPzs9cJdEY0n",
        "outputId": "0acc423e-241a-46d7-af15-7e8630303410"
      },
      "execution_count": null,
      "outputs": [
        {
          "output_type": "stream",
          "name": "stdout",
          "text": [
            "Enter a number: 4\n",
            " 4 * 1 = 4\n",
            " 4 * 2 = 8\n",
            " 4 * 3 = 12\n",
            " 4 * 4 = 16\n",
            " 4 * 5 = 20\n",
            " 4 * 6 = 24\n",
            " 4 * 7 = 28\n",
            " 4 * 8 = 32\n",
            " 4 * 9 = 36\n",
            " 4 * 10 = 40\n"
          ]
        }
      ]
    },
    {
      "cell_type": "markdown",
      "source": [
        "## Sum of Digits: Write a program to find the sum of digits of a given number using a while loop."
      ],
      "metadata": {
        "id": "TP7AI1KsGd_5"
      }
    },
    {
      "cell_type": "code",
      "source": [
        "# prompt: Sum of Digits: Write a program to find the sum of digits of a given number using a for loop.\n",
        "\n",
        "n = int(input('Enter a number: '))\n",
        "sum_of_digits = 0\n",
        "\n",
        "for digit in str(n):\n",
        "    sum_of_digits += int(digit)\n",
        "\n",
        "print(f'The sum of digits of {n} is: {sum_of_digits}')\n"
      ],
      "metadata": {
        "colab": {
          "base_uri": "https://localhost:8080/"
        },
        "id": "sjNmELogGJVG",
        "outputId": "7000e1fd-95d6-4980-8a73-2c5d0a7a3c01"
      },
      "execution_count": null,
      "outputs": [
        {
          "output_type": "stream",
          "name": "stdout",
          "text": [
            "Enter a number: 2\n",
            "The sum of digits of 2 is: 2\n"
          ]
        }
      ]
    },
    {
      "cell_type": "markdown",
      "source": [
        "## Print Patterns: Write a program to print the following patterns using nested loops:\n",
        "*\n",
        "**\n",
        "***\n",
        "****\n",
        "*****\n"
      ],
      "metadata": {
        "id": "oEu6CoWNHzds"
      }
    },
    {
      "cell_type": "code",
      "source": [
        "for i in range(1,6):\n",
        "  print('*' * i)"
      ],
      "metadata": {
        "colab": {
          "base_uri": "https://localhost:8080/"
        },
        "id": "ue6H09MuG4qU",
        "outputId": "247b6e52-e6d3-4d15-fbc4-615e88ad5d85"
      },
      "execution_count": null,
      "outputs": [
        {
          "output_type": "stream",
          "name": "stdout",
          "text": [
            "*\n",
            "**\n",
            "***\n",
            "****\n",
            "*****\n"
          ]
        }
      ]
    },
    {
      "cell_type": "code",
      "source": [
        "# prompt: Print Patterns: Write a program to print the following patterns using nested loops:\n",
        "n = 5\n",
        "\n",
        "for i in range(n):\n",
        "  for j in range(i+1):\n",
        "    print('*', end='')\n",
        "  print()\n"
      ],
      "metadata": {
        "colab": {
          "base_uri": "https://localhost:8080/"
        },
        "id": "DYtr-mJlIVa7",
        "outputId": "521479f9-02a8-46dd-b075-699b6e72d106"
      },
      "execution_count": null,
      "outputs": [
        {
          "output_type": "stream",
          "name": "stdout",
          "text": [
            "*\n",
            "**\n",
            "***\n",
            "****\n",
            "*****\n"
          ]
        }
      ]
    },
    {
      "cell_type": "code",
      "source": [
        "n = 5\n",
        "for i in range(1,6):\n",
        "  for j in range(1, i + 1):\n",
        "    print(j, end='')\n",
        "  print()"
      ],
      "metadata": {
        "colab": {
          "base_uri": "https://localhost:8080/"
        },
        "id": "AOmfXjoZJs9-",
        "outputId": "d6875f02-f896-474b-f8a4-f395fefed4e8"
      },
      "execution_count": null,
      "outputs": [
        {
          "output_type": "stream",
          "name": "stdout",
          "text": [
            "1\n",
            "12\n",
            "123\n",
            "1234\n",
            "12345\n"
          ]
        }
      ]
    },
    {
      "cell_type": "code",
      "source": [
        "n = 8\n",
        "for i in range(1,9):\n",
        "  for j in range(1, i * 1):\n",
        "    print('$', end = '')\n",
        "  print()"
      ],
      "metadata": {
        "colab": {
          "base_uri": "https://localhost:8080/"
        },
        "id": "-ncvFzGXKJz8",
        "outputId": "1188e4f0-1828-4d09-fcd4-30068c4704de"
      },
      "execution_count": null,
      "outputs": [
        {
          "output_type": "stream",
          "name": "stdout",
          "text": [
            "\n",
            "$\n",
            "$$\n",
            "$$$\n",
            "$$$$\n",
            "$$$$$\n",
            "$$$$$$\n",
            "$$$$$$$\n"
          ]
        }
      ]
    },
    {
      "cell_type": "markdown",
      "source": [
        "### Prime Number Checker: Write a program to check if a given number is prime or not using a for loop.\n"
      ],
      "metadata": {
        "id": "2SdO5MxwNRre"
      }
    },
    {
      "cell_type": "code",
      "source": [
        "n = int(input('Enter a number: '))\n",
        "\n",
        "# Check if the number is divisible by any number other than 1 and itself\n",
        "for i in range(2, n):\n",
        "    if n % i == 0:\n",
        "        print(f'{n} is not a prime number.')\n",
        "        break\n",
        "else:\n",
        "    print(f'{n} is a prime number.')\n",
        "\n"
      ],
      "metadata": {
        "colab": {
          "base_uri": "https://localhost:8080/"
        },
        "id": "SLXs3WhwK3YM",
        "outputId": "82803cc2-e8b3-40f4-f53b-0436a242891e"
      },
      "execution_count": null,
      "outputs": [
        {
          "output_type": "stream",
          "name": "stdout",
          "text": [
            "Enter a number: 17\n",
            "17 is a prime number.\n"
          ]
        }
      ]
    },
    {
      "cell_type": "code",
      "source": [
        "l = []\n",
        "for i in range(10):\n",
        "  print(i+1)\n",
        "  l.append(i ** 2)\n",
        "print(l)"
      ],
      "metadata": {
        "id": "pRYUllooOsb-",
        "colab": {
          "base_uri": "https://localhost:8080/"
        },
        "outputId": "68d9924c-0bc2-497b-8930-dbeb4630b41d"
      },
      "execution_count": 4,
      "outputs": [
        {
          "output_type": "stream",
          "name": "stdout",
          "text": [
            "1\n",
            "2\n",
            "3\n",
            "4\n",
            "5\n",
            "6\n",
            "7\n",
            "8\n",
            "9\n",
            "10\n",
            "[0, 1, 4, 9, 16, 25, 36, 49, 64, 81]\n"
          ]
        }
      ]
    },
    {
      "cell_type": "code",
      "source": [],
      "metadata": {
        "id": "gFV3rqbXaxbB"
      },
      "execution_count": null,
      "outputs": []
    }
  ]
}