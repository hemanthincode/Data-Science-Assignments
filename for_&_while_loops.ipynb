{
  "nbformat": 4,
  "nbformat_minor": 0,
  "metadata": {
    "colab": {
      "provenance": []
    },
    "kernelspec": {
      "name": "python3",
      "display_name": "Python 3"
    },
    "language_info": {
      "name": "python"
    }
  },
  "cells": [
    {
      "cell_type": "code",
      "execution_count": null,
      "metadata": {
        "colab": {
          "base_uri": "https://localhost:8080/"
        },
        "id": "JjmVDcmimY_B",
        "outputId": "0e295422-1bc5-48e4-8684-44a39c786fd8"
      },
      "outputs": [
        {
          "output_type": "stream",
          "name": "stdout",
          "text": [
            "Enter number: 9\n",
            "1\n",
            "2\n",
            "3\n",
            "4\n",
            "5\n",
            "6\n",
            "7\n",
            "8\n",
            "Done\n"
          ]
        }
      ],
      "source": [
        "n = int(input('Enter number: '))\n",
        "i = 1\n",
        "\n",
        "while i < n:\n",
        "  print(i)\n",
        "  i += 1\n",
        "print('Done')"
      ]
    },
    {
      "cell_type": "code",
      "source": [
        "n = int(input('Enter number'))\n",
        "i = 0\n",
        "\n",
        "while i < n:\n",
        "    print(i)\n",
        "    i += 1\n",
        "print('Loop Done')"
      ],
      "metadata": {
        "colab": {
          "base_uri": "https://localhost:8080/"
        },
        "id": "DOROxnBQm1Bx",
        "outputId": "dbc187e5-993d-4d3a-c438-e58ee43ba6d3"
      },
      "execution_count": null,
      "outputs": [
        {
          "output_type": "stream",
          "name": "stdout",
          "text": [
            "Enter number9\n",
            "0\n",
            "1\n",
            "2\n",
            "3\n",
            "4\n",
            "5\n",
            "6\n",
            "7\n",
            "8\n",
            "Loop Done\n"
          ]
        }
      ]
    },
    {
      "cell_type": "code",
      "source": [
        "for i in range(0,5):\n",
        "  print(i)"
      ],
      "metadata": {
        "colab": {
          "base_uri": "https://localhost:8080/"
        },
        "id": "Xizm4zu8wsUz",
        "outputId": "3100973b-af04-48e5-c52a-dc766435c503"
      },
      "execution_count": null,
      "outputs": [
        {
          "output_type": "stream",
          "name": "stdout",
          "text": [
            "0\n",
            "1\n",
            "2\n",
            "3\n",
            "4\n"
          ]
        }
      ]
    },
    {
      "cell_type": "code",
      "source": [
        "for i in range(0,10,2):\n",
        "  print(i)"
      ],
      "metadata": {
        "colab": {
          "base_uri": "https://localhost:8080/"
        },
        "id": "RKDeeZG-o5pj",
        "outputId": "90766a1d-8765-4678-a01d-86c85e09ae64"
      },
      "execution_count": null,
      "outputs": [
        {
          "output_type": "stream",
          "name": "stdout",
          "text": [
            "0\n",
            "2\n",
            "4\n",
            "6\n",
            "8\n"
          ]
        }
      ]
    },
    {
      "cell_type": "code",
      "source": [
        "n = int(input('Enter number: '))\n",
        "while n > 0:\n",
        "  n -= 1\n",
        "  print(n)\n",
        "print('Done')\n"
      ],
      "metadata": {
        "colab": {
          "base_uri": "https://localhost:8080/"
        },
        "id": "VBeraI6h3PU_",
        "outputId": "f288f5df-3718-4db8-cbcf-c2ee17d26528"
      },
      "execution_count": null,
      "outputs": [
        {
          "output_type": "stream",
          "name": "stdout",
          "text": [
            "Enter number: 6\n",
            "5\n",
            "4\n",
            "3\n",
            "2\n",
            "1\n",
            "0\n",
            "Done\n"
          ]
        }
      ]
    },
    {
      "cell_type": "code",
      "source": [
        "n =5\n",
        "while n > 0:\n",
        "  n -= 1\n",
        "  print(n)"
      ],
      "metadata": {
        "colab": {
          "base_uri": "https://localhost:8080/"
        },
        "id": "G5oRg0mh5OQl",
        "outputId": "f94d9de2-bd4e-4548-9f4e-18c7e359ee85"
      },
      "execution_count": null,
      "outputs": [
        {
          "output_type": "stream",
          "name": "stdout",
          "text": [
            "4\n",
            "3\n",
            "2\n",
            "1\n",
            "0\n"
          ]
        }
      ]
    },
    {
      "cell_type": "code",
      "source": [
        "for i in range(5, 0, -1):\n",
        "  print(i)\n"
      ],
      "metadata": {
        "colab": {
          "base_uri": "https://localhost:8080/"
        },
        "id": "98nNGcdK6Sg1",
        "outputId": "fc6406a6-9c7e-493b-b5d6-6494dbcc42e6"
      },
      "execution_count": null,
      "outputs": [
        {
          "output_type": "stream",
          "name": "stdout",
          "text": [
            "5\n",
            "4\n",
            "3\n",
            "2\n",
            "1\n"
          ]
        }
      ]
    },
    {
      "cell_type": "code",
      "source": [
        "for i in range(6,0,-1):\n",
        "  print(i)"
      ],
      "metadata": {
        "colab": {
          "base_uri": "https://localhost:8080/"
        },
        "id": "KCMKbqVu6wXu",
        "outputId": "84451c21-b15c-4c2f-a9af-9923220542e3"
      },
      "execution_count": null,
      "outputs": [
        {
          "output_type": "stream",
          "name": "stdout",
          "text": [
            "6\n",
            "5\n",
            "4\n",
            "3\n",
            "2\n",
            "1\n"
          ]
        }
      ]
    },
    {
      "cell_type": "code",
      "source": [
        "n = 5\n",
        "i = 0\n",
        "while i < n:\n",
        "  print(i)\n",
        "  i = i + 1\n",
        "print('done')"
      ],
      "metadata": {
        "id": "mKcYUTZ963NE",
        "colab": {
          "base_uri": "https://localhost:8080/"
        },
        "outputId": "87a087bc-6de1-4913-a240-05c7d4862b86"
      },
      "execution_count": null,
      "outputs": [
        {
          "output_type": "stream",
          "name": "stdout",
          "text": [
            "0\n",
            "1\n",
            "2\n",
            "3\n",
            "4\n",
            "done\n"
          ]
        }
      ]
    },
    {
      "cell_type": "code",
      "source": [
        "n = 5\n",
        "while n > 0:\n",
        "  n = n - 1\n",
        "  print(n)"
      ],
      "metadata": {
        "colab": {
          "base_uri": "https://localhost:8080/"
        },
        "id": "lJaKDPT66lED",
        "outputId": "c75724fb-8b9a-4ef4-a93d-c1b06413d627"
      },
      "execution_count": null,
      "outputs": [
        {
          "output_type": "stream",
          "name": "stdout",
          "text": [
            "4\n",
            "3\n",
            "2\n",
            "1\n",
            "0\n"
          ]
        }
      ]
    },
    {
      "cell_type": "code",
      "source": [
        "for i in range(0,10):\n",
        "  print(i)"
      ],
      "metadata": {
        "colab": {
          "base_uri": "https://localhost:8080/"
        },
        "id": "kNJ8wN4X7TML",
        "outputId": "f3dd3430-c75e-440f-9e10-99197e37aaa4"
      },
      "execution_count": null,
      "outputs": [
        {
          "output_type": "stream",
          "name": "stdout",
          "text": [
            "0\n",
            "1\n",
            "2\n",
            "3\n",
            "4\n",
            "5\n",
            "6\n",
            "7\n",
            "8\n",
            "9\n"
          ]
        }
      ]
    },
    {
      "cell_type": "code",
      "source": [
        "for i in range(10,0,-1):\n",
        "  print(i)"
      ],
      "metadata": {
        "colab": {
          "base_uri": "https://localhost:8080/"
        },
        "id": "9arwShz074Gf",
        "outputId": "e0c189f4-5717-4d56-e5da-a9b7f0bd11de"
      },
      "execution_count": null,
      "outputs": [
        {
          "output_type": "stream",
          "name": "stdout",
          "text": [
            "10\n",
            "9\n",
            "8\n",
            "7\n",
            "6\n",
            "5\n",
            "4\n",
            "3\n",
            "2\n",
            "1\n"
          ]
        }
      ]
    },
    {
      "cell_type": "markdown",
      "source": [
        "## Print Even Numbers: Write a program to print all even numbers from 1 to 20 using a for loop."
      ],
      "metadata": {
        "id": "nMePiNq09JnK"
      }
    },
    {
      "cell_type": "code",
      "source": [
        "for i in range(1,20):\n",
        "  print(i)"
      ],
      "metadata": {
        "colab": {
          "base_uri": "https://localhost:8080/"
        },
        "id": "2iZ0WYlF8Zye",
        "outputId": "b8b966c0-87df-4b3d-f19d-4a9f70a0efcc"
      },
      "execution_count": null,
      "outputs": [
        {
          "output_type": "stream",
          "name": "stdout",
          "text": [
            "1\n",
            "2\n",
            "3\n",
            "4\n",
            "5\n",
            "6\n",
            "7\n",
            "8\n",
            "9\n",
            "10\n",
            "11\n",
            "12\n",
            "13\n",
            "14\n",
            "15\n",
            "16\n",
            "17\n",
            "18\n",
            "19\n"
          ]
        }
      ]
    },
    {
      "cell_type": "markdown",
      "source": [
        "## Factorial Calculation: Write a program to calculate the factorial of a given number using a while loop."
      ],
      "metadata": {
        "id": "auecEtBS9W4Q"
      }
    },
    {
      "cell_type": "code",
      "source": [
        "n = int(input('Enter a number: '))\n",
        "factorial = 1\n",
        "i = 1\n",
        "while i <= n:\n",
        "    factorial *= i\n",
        "    i += 1\n",
        "print(f'The factorial of {n} is: {factorial}')\n"
      ],
      "metadata": {
        "colab": {
          "base_uri": "https://localhost:8080/"
        },
        "id": "F9fqHOq79Sux",
        "outputId": "bc76ee64-36fb-4d84-cfa1-aecc7dc433ed"
      },
      "execution_count": null,
      "outputs": [
        {
          "output_type": "stream",
          "name": "stdout",
          "text": [
            "Enter a number: 6\n",
            "The factorial of 6 is: 720\n"
          ]
        }
      ]
    },
    {
      "cell_type": "markdown",
      "source": [
        "## Fibonacci Sequence: Write a program to generate the Fibonacci sequence up to a certain number of terms using a for loop."
      ],
      "metadata": {
        "id": "G3P6rlLq_bJZ"
      }
    },
    {
      "cell_type": "code",
      "source": [
        "# prompt: Fibonacci Sequence: Write a program to generate the Fibonacci sequence up to a certain number of terms using a for loop.\n",
        "\n",
        "n = int(input('Enter the number of terms: '))\n",
        "\n",
        "# Initialize the first two terms of the sequence\n",
        "f1 = 0\n",
        "f2 = 1\n",
        "\n",
        "# Print the first two terms\n",
        "print(f1)\n",
        "print(f2)\n",
        "\n",
        "# Generate the remaining terms using a for loop\n",
        "for i in range(2, n):\n",
        "  f3 = f1 + f2\n",
        "  print(f3)\n",
        "  f1 = f2\n",
        "  f2 = f3\n"
      ],
      "metadata": {
        "colab": {
          "base_uri": "https://localhost:8080/"
        },
        "id": "mDpkwjLv-4qx",
        "outputId": "e3c53eb5-43f2-4460-dbfa-a908ea052242"
      },
      "execution_count": null,
      "outputs": [
        {
          "output_type": "stream",
          "name": "stdout",
          "text": [
            "Enter the number of terms: 4\n",
            "0\n",
            "1\n",
            "1\n",
            "2\n"
          ]
        }
      ]
    },
    {
      "cell_type": "markdown",
      "source": [
        "### Number Guessing Game: Write a program that generates a random number between 1 and 100 and asks the user to guess the number. Provide hints such as \"too high\" or \"too low\" until the user guesses the correct number. Use a while loop for this task."
      ],
      "metadata": {
        "id": "H2mX2m15Agdn"
      }
    },
    {
      "cell_type": "code",
      "source": [
        "# prompt: Number Guessing Game: Write a program that generates a random number between 1 and 100 and asks the user to guess the number. Provide hints such as \"too high\" or \"too low\" until the user guesses the correct number. Use a while loop for this task.\n",
        "\n",
        "import random\n",
        "\n",
        "# Generate a random number between 1 and 100\n",
        "secret_number = random.randint(1, 100)\n",
        "\n",
        "# Initialize the guess\n",
        "guess = None\n",
        "\n",
        "# Use a while loop to continue guessing until the user guesses correctly\n",
        "while guess != secret_number:\n",
        "    # Prompt the user for a guess\n",
        "    guess = int(input(\"Guess a number between 1 and 100: \"))\n",
        "\n",
        "    # Provide hints based on the guess\n",
        "    if guess > secret_number:\n",
        "        print(\"Too high!\")\n",
        "    elif guess < secret_number:\n",
        "        print(\"Too low!\")\n",
        "\n",
        "# If the loop exits, the user guessed correctly\n",
        "print(\"Congratulations! You guessed the correct number.\")\n"
      ],
      "metadata": {
        "colab": {
          "base_uri": "https://localhost:8080/"
        },
        "id": "g3yj6nNnATNQ",
        "outputId": "33141a21-60b0-41f9-91f6-05cdb95b15a9"
      },
      "execution_count": null,
      "outputs": [
        {
          "output_type": "stream",
          "name": "stdout",
          "text": [
            "Guess a number between 1 and 100: 34\n",
            "Too high!\n",
            "Guess a number between 1 and 100: 3\n",
            "Too low!\n",
            "Guess a number between 1 and 100: 34\n",
            "Too high!\n",
            "Guess a number between 1 and 100: 33\n",
            "Too high!\n",
            "Guess a number between 1 and 100: 32\n",
            "Too high!\n",
            "Guess a number between 1 and 100: 23\n",
            "Too high!\n",
            "Guess a number between 1 and 100: 34\n",
            "Too high!\n",
            "Guess a number between 1 and 100: 31\n",
            "Too high!\n",
            "Guess a number between 1 and 100: 30\n",
            "Too high!\n",
            "Guess a number between 1 and 100: 29\n",
            "Too high!\n",
            "Guess a number between 1 and 100: 28\n",
            "Too high!\n",
            "Guess a number between 1 and 100: 27\n",
            "Too high!\n",
            "Guess a number between 1 and 100: 26\n",
            "Too high!\n",
            "Guess a number between 1 and 100: 25\n",
            "Too high!\n",
            "Guess a number between 1 and 100: 24\n",
            "Too high!\n",
            "Guess a number between 1 and 100: 23\n",
            "Too high!\n",
            "Guess a number between 1 and 100: 22\n",
            "Too high!\n",
            "Guess a number between 1 and 100: 21\n",
            "Too high!\n",
            "Guess a number between 1 and 100: 20\n",
            "Too high!\n",
            "Guess a number between 1 and 100: 19\n",
            "Too high!\n",
            "Guess a number between 1 and 100: 18\n",
            "Too high!\n",
            "Guess a number between 1 and 100: 17\n",
            "Too high!\n",
            "Guess a number between 1 and 100: 16\n",
            "Too high!\n",
            "Guess a number between 1 and 100: 15\n",
            "Too high!\n",
            "Guess a number between 1 and 100: 14\n",
            "Too high!\n",
            "Guess a number between 1 and 100: 13\n",
            "Too high!\n",
            "Guess a number between 1 and 100: 12\n",
            "Too high!\n",
            "Guess a number between 1 and 100: 11\n",
            "Too high!\n",
            "Guess a number between 1 and 100: 10\n",
            "Congratulations! You guessed the correct number.\n"
          ]
        }
      ]
    },
    {
      "cell_type": "code",
      "source": [
        "# prompt: Number Guessing Game: Write a program that generates a random number between 1 and 100 and asks the user to guess the number. Provide hints such as \"too high\" or \"too low\" until the user guesses the correct number. Use a for loop for this task.\n",
        "\n",
        "import random\n",
        "\n",
        "# Generate a random number between 1 and 100\n",
        "secret_number = random.randint(1, 100)\n",
        "\n",
        "# Initialize the guess\n",
        "guess = None\n",
        "\n",
        "# Use a for loop to continue guessing for a maximum of 10 attempts\n",
        "for i in range(10):\n",
        "    # Prompt the user for a guess\n",
        "    guess = int(input(\"Guess a number between 1 and 100: \"))\n",
        "\n",
        "    # Provide hints based on the guess\n",
        "    if guess > secret_number:\n",
        "        print(\"Too high!\")\n",
        "    elif guess < secret_number:\n",
        "        print(\"Too low!\")\n",
        "\n",
        "    # Check if the user guessed correctly\n",
        "    if guess == secret_number:\n",
        "        break\n",
        "\n",
        "# If the loop exits without guessing correctly, the user failed\n",
        "if guess != secret_number:\n",
        "    print(\"You ran out of attempts. The correct number was:\", secret_number)\n",
        "else:\n",
        "    print(\"Congratulations! You guessed the correct number.\")\n"
      ],
      "metadata": {
        "colab": {
          "base_uri": "https://localhost:8080/"
        },
        "id": "pAO8hwzrA2fy",
        "outputId": "ee3adc6a-b7a8-48de-9ab0-a18dd1a0269a"
      },
      "execution_count": null,
      "outputs": [
        {
          "output_type": "stream",
          "name": "stdout",
          "text": [
            "Guess a number between 1 and 100: 22\n",
            "Too low!\n",
            "Guess a number between 1 and 100: 23\n",
            "Too low!\n",
            "Guess a number between 1 and 100: 34\n",
            "Too low!\n",
            "Guess a number between 1 and 100: 45\n",
            "Too low!\n",
            "Guess a number between 1 and 100: 50\n",
            "Too low!\n",
            "Guess a number between 1 and 100: 50\n",
            "Too low!\n",
            "Guess a number between 1 and 100: 51\n",
            "Too low!\n",
            "Guess a number between 1 and 100: 55\n",
            "Too high!\n",
            "Guess a number between 1 and 100: 52\n",
            "Too low!\n",
            "Guess a number between 1 and 100: 53\n",
            "Congratulations! You guessed the correct number.\n"
          ]
        }
      ]
    },
    {
      "cell_type": "markdown",
      "source": [
        "### Multiplication Table: Write a program to generate the multiplication table (up to 10) of a given number using a for loop."
      ],
      "metadata": {
        "id": "sEodEIRYD9nB"
      }
    },
    {
      "cell_type": "code",
      "source": [
        "n = int(input('Enter a number: '))\n",
        "\n",
        "for i in range(1,11):\n",
        "  product = n * i\n",
        "  print(f' {n} * {i} = {product}')"
      ],
      "metadata": {
        "colab": {
          "base_uri": "https://localhost:8080/"
        },
        "id": "xtcDuVu-D5Ua",
        "outputId": "0e307883-5a62-4d90-b3fa-e85926542972"
      },
      "execution_count": null,
      "outputs": [
        {
          "output_type": "stream",
          "name": "stdout",
          "text": [
            "Enter a number: 2\n",
            " 2 * 1 = 2\n",
            " 2 * 2 = 4\n",
            " 2 * 3 = 6\n",
            " 2 * 4 = 8\n",
            " 2 * 5 = 10\n",
            " 2 * 6 = 12\n",
            " 2 * 7 = 14\n",
            " 2 * 8 = 16\n",
            " 2 * 9 = 18\n",
            " 2 * 10 = 20\n"
          ]
        }
      ]
    },
    {
      "cell_type": "code",
      "source": [
        "# prompt: Multiplication Table: Write a program to generate the multiplication table (up to 10) of a given number using a while loop.\n",
        "\n",
        "n = int(input('Enter a number: '))\n",
        "\n",
        "i = 1\n",
        "while i <= 10:\n",
        "  product = n * i\n",
        "  print(f' {n} * {i} = {product}')\n",
        "  i += 1\n"
      ],
      "metadata": {
        "colab": {
          "base_uri": "https://localhost:8080/"
        },
        "id": "IPzs9cJdEY0n",
        "outputId": "0acc423e-241a-46d7-af15-7e8630303410"
      },
      "execution_count": null,
      "outputs": [
        {
          "output_type": "stream",
          "name": "stdout",
          "text": [
            "Enter a number: 4\n",
            " 4 * 1 = 4\n",
            " 4 * 2 = 8\n",
            " 4 * 3 = 12\n",
            " 4 * 4 = 16\n",
            " 4 * 5 = 20\n",
            " 4 * 6 = 24\n",
            " 4 * 7 = 28\n",
            " 4 * 8 = 32\n",
            " 4 * 9 = 36\n",
            " 4 * 10 = 40\n"
          ]
        }
      ]
    },
    {
      "cell_type": "markdown",
      "source": [
        "## Sum of Digits: Write a program to find the sum of digits of a given number using a while loop."
      ],
      "metadata": {
        "id": "TP7AI1KsGd_5"
      }
    },
    {
      "cell_type": "code",
      "source": [
        "# prompt: Sum of Digits: Write a program to find the sum of digits of a given number using a for loop.\n",
        "\n",
        "n = int(input('Enter a number: '))\n",
        "sum_of_digits = 0\n",
        "\n",
        "for digit in str(n):\n",
        "    sum_of_digits += int(digit)\n",
        "\n",
        "print(f'The sum of digits of {n} is: {sum_of_digits}')\n"
      ],
      "metadata": {
        "colab": {
          "base_uri": "https://localhost:8080/"
        },
        "id": "sjNmELogGJVG",
        "outputId": "7000e1fd-95d6-4980-8a73-2c5d0a7a3c01"
      },
      "execution_count": null,
      "outputs": [
        {
          "output_type": "stream",
          "name": "stdout",
          "text": [
            "Enter a number: 2\n",
            "The sum of digits of 2 is: 2\n"
          ]
        }
      ]
    },
    {
      "cell_type": "markdown",
      "source": [
        "## Print Patterns: Write a program to print the following patterns using nested loops:\n",
        "*\n",
        "**\n",
        "***\n",
        "****\n",
        "*****\n"
      ],
      "metadata": {
        "id": "oEu6CoWNHzds"
      }
    },
    {
      "cell_type": "code",
      "source": [
        "for i in range(1,6):\n",
        "  print('*' * i)"
      ],
      "metadata": {
        "colab": {
          "base_uri": "https://localhost:8080/"
        },
        "id": "ue6H09MuG4qU",
        "outputId": "247b6e52-e6d3-4d15-fbc4-615e88ad5d85"
      },
      "execution_count": null,
      "outputs": [
        {
          "output_type": "stream",
          "name": "stdout",
          "text": [
            "*\n",
            "**\n",
            "***\n",
            "****\n",
            "*****\n"
          ]
        }
      ]
    },
    {
      "cell_type": "code",
      "source": [
        "# prompt: Print Patterns: Write a program to print the following patterns using nested loops:\n",
        "n = 5\n",
        "\n",
        "for i in range(n):\n",
        "  for j in range(i+1):\n",
        "    print('*', end='')\n",
        "  print()\n"
      ],
      "metadata": {
        "colab": {
          "base_uri": "https://localhost:8080/"
        },
        "id": "DYtr-mJlIVa7",
        "outputId": "521479f9-02a8-46dd-b075-699b6e72d106"
      },
      "execution_count": null,
      "outputs": [
        {
          "output_type": "stream",
          "name": "stdout",
          "text": [
            "*\n",
            "**\n",
            "***\n",
            "****\n",
            "*****\n"
          ]
        }
      ]
    },
    {
      "cell_type": "code",
      "source": [
        "n = 5\n",
        "for i in range(1,6):\n",
        "  for j in range(1, i + 1):\n",
        "    print(j, end='')\n",
        "  print()"
      ],
      "metadata": {
        "colab": {
          "base_uri": "https://localhost:8080/"
        },
        "id": "AOmfXjoZJs9-",
        "outputId": "d6875f02-f896-474b-f8a4-f395fefed4e8"
      },
      "execution_count": null,
      "outputs": [
        {
          "output_type": "stream",
          "name": "stdout",
          "text": [
            "1\n",
            "12\n",
            "123\n",
            "1234\n",
            "12345\n"
          ]
        }
      ]
    },
    {
      "cell_type": "code",
      "source": [
        "n = 8\n",
        "for i in range(1,9):\n",
        "  for j in range(1, i * 1):\n",
        "    print('$', end = '')\n",
        "  print()"
      ],
      "metadata": {
        "colab": {
          "base_uri": "https://localhost:8080/"
        },
        "id": "-ncvFzGXKJz8",
        "outputId": "1188e4f0-1828-4d09-fcd4-30068c4704de"
      },
      "execution_count": null,
      "outputs": [
        {
          "output_type": "stream",
          "name": "stdout",
          "text": [
            "\n",
            "$\n",
            "$$\n",
            "$$$\n",
            "$$$$\n",
            "$$$$$\n",
            "$$$$$$\n",
            "$$$$$$$\n"
          ]
        }
      ]
    },
    {
      "cell_type": "markdown",
      "source": [
        "### Prime Number Checker: Write a program to check if a given number is prime or not using a for loop.\n"
      ],
      "metadata": {
        "id": "2SdO5MxwNRre"
      }
    },
    {
      "cell_type": "code",
      "source": [
        "n = int(input('Enter a number: '))\n",
        "\n",
        "# Check if the number is divisible by any number other than 1 and itself\n",
        "for i in range(2, n):\n",
        "    if n % i == 0:\n",
        "        print(f'{n} is not a prime number.')\n",
        "        break\n",
        "else:\n",
        "    print(f'{n} is a prime number.')\n",
        "\n"
      ],
      "metadata": {
        "colab": {
          "base_uri": "https://localhost:8080/"
        },
        "id": "SLXs3WhwK3YM",
        "outputId": "82803cc2-e8b3-40f4-f53b-0436a242891e"
      },
      "execution_count": null,
      "outputs": [
        {
          "output_type": "stream",
          "name": "stdout",
          "text": [
            "Enter a number: 17\n",
            "17 is a prime number.\n"
          ]
        }
      ]
    },
    {
      "cell_type": "code",
      "source": [
        "l = []\n",
        "for i in range(10):\n",
        "  print(i+1)\n",
        "  l.append(i ** 2)\n",
        "print(l)"
      ],
      "metadata": {
        "id": "pRYUllooOsb-",
        "colab": {
          "base_uri": "https://localhost:8080/"
        },
        "outputId": "68d9924c-0bc2-497b-8930-dbeb4630b41d"
      },
      "execution_count": null,
      "outputs": [
        {
          "output_type": "stream",
          "name": "stdout",
          "text": [
            "1\n",
            "2\n",
            "3\n",
            "4\n",
            "5\n",
            "6\n",
            "7\n",
            "8\n",
            "9\n",
            "10\n",
            "[0, 1, 4, 9, 16, 25, 36, 49, 64, 81]\n"
          ]
        }
      ]
    },
    {
      "cell_type": "code",
      "source": [
        "s = {'apple', 4.9, 'cherry'}\n",
        "for i in s:\n",
        "  print(i)\n",
        "else:\n",
        "  print('loop terminates the success')\n",
        "print('Outside the loop')"
      ],
      "metadata": {
        "colab": {
          "base_uri": "https://localhost:8080/"
        },
        "id": "gFV3rqbXaxbB",
        "outputId": "1ba205a2-5496-4087-b26b-7fff06a1fdfc"
      },
      "execution_count": null,
      "outputs": [
        {
          "output_type": "stream",
          "name": "stdout",
          "text": [
            "apple\n",
            "4.9\n",
            "cherry\n",
            "loop terminates the success\n",
            "Outside the loop\n"
          ]
        }
      ]
    },
    {
      "cell_type": "code",
      "source": [
        "for i in range(1,6):\n",
        "  print('*' *i)"
      ],
      "metadata": {
        "colab": {
          "base_uri": "https://localhost:8080/"
        },
        "id": "dJiZXKkIhpmS",
        "outputId": "21d7dbe2-1c76-4dbe-bc02-61a2813ff985"
      },
      "execution_count": null,
      "outputs": [
        {
          "output_type": "stream",
          "name": "stdout",
          "text": [
            "*\n",
            "**\n",
            "***\n",
            "****\n",
            "*****\n"
          ]
        }
      ]
    },
    {
      "cell_type": "code",
      "source": [
        "n = 5\n",
        "for i in range(1,6):\n",
        "  for j in range(1, i + 1):\n",
        "    print(j, end='')\n",
        "  print()"
      ],
      "metadata": {
        "colab": {
          "base_uri": "https://localhost:8080/"
        },
        "id": "sBvx4YloibV5",
        "outputId": "ffd2f16f-3c7a-46d3-9fa8-0da01d3b697c"
      },
      "execution_count": null,
      "outputs": [
        {
          "output_type": "stream",
          "name": "stdout",
          "text": [
            "1\n",
            "12\n",
            "123\n",
            "1234\n",
            "12345\n"
          ]
        }
      ]
    },
    {
      "cell_type": "code",
      "source": [
        "n = int(input('Enter a number'))\n",
        "i = 1\n",
        "while i <= 10:\n",
        "  product = n * i\n",
        "  print(f'{n}*{i}={product}')\n",
        "  i = i + 1"
      ],
      "metadata": {
        "colab": {
          "base_uri": "https://localhost:8080/"
        },
        "id": "F2LZdCR1i2SD",
        "outputId": "e1c779c4-901e-4fff-fb22-6f710de9e475"
      },
      "execution_count": null,
      "outputs": [
        {
          "output_type": "stream",
          "name": "stdout",
          "text": [
            "Enter a number2\n",
            "2*1=2\n",
            "2*2=4\n",
            "2*3=6\n",
            "2*4=8\n",
            "2*5=10\n",
            "2*6=12\n",
            "2*7=14\n",
            "2*8=16\n",
            "2*9=18\n",
            "2*10=20\n"
          ]
        }
      ]
    },
    {
      "cell_type": "code",
      "source": [
        "def printSuccess():\n",
        "  print('Task is Completed')\n",
        "  print('Send me another Task')"
      ],
      "metadata": {
        "id": "KDNYr2_jj1sP"
      },
      "execution_count": null,
      "outputs": []
    },
    {
      "cell_type": "code",
      "source": [
        "printSuccess()"
      ],
      "metadata": {
        "colab": {
          "base_uri": "https://localhost:8080/"
        },
        "id": "GdnyCm0nqgtd",
        "outputId": "05945364-ec8a-492e-d748-21631e04fafb"
      },
      "execution_count": null,
      "outputs": [
        {
          "output_type": "stream",
          "name": "stdout",
          "text": [
            "Task is Completed\n",
            "Send me another Task\n"
          ]
        }
      ]
    },
    {
      "cell_type": "code",
      "source": [
        "def printSuccess2():\n",
        "  print('Hellow')"
      ],
      "metadata": {
        "id": "rySfatsSqjPN"
      },
      "execution_count": null,
      "outputs": []
    },
    {
      "cell_type": "code",
      "source": [
        "printSuccess2()"
      ],
      "metadata": {
        "colab": {
          "base_uri": "https://localhost:8080/"
        },
        "id": "6XiaeLF4yEcE",
        "outputId": "92b47b4c-7871-4065-9614-a598d1346e95"
      },
      "execution_count": null,
      "outputs": [
        {
          "output_type": "stream",
          "name": "stdout",
          "text": [
            "Hellow\n"
          ]
        }
      ]
    },
    {
      "cell_type": "code",
      "source": [
        "def sayHello():\n",
        "  print('Hi')"
      ],
      "metadata": {
        "id": "CBarhluyyGrx"
      },
      "execution_count": null,
      "outputs": []
    },
    {
      "cell_type": "code",
      "source": [
        "sayHello()"
      ],
      "metadata": {
        "colab": {
          "base_uri": "https://localhost:8080/"
        },
        "id": "L-mC6MjPfucV",
        "outputId": "84e39006-5c69-434b-ba24-21216f8e1529"
      },
      "execution_count": null,
      "outputs": [
        {
          "output_type": "stream",
          "name": "stdout",
          "text": [
            "Hi\n"
          ]
        }
      ]
    },
    {
      "cell_type": "code",
      "source": [
        "def add(a, b):\n",
        "  print(a + b)"
      ],
      "metadata": {
        "id": "b71FRsAvfz5q"
      },
      "execution_count": null,
      "outputs": []
    },
    {
      "cell_type": "code",
      "source": [
        "add(3,45)"
      ],
      "metadata": {
        "colab": {
          "base_uri": "https://localhost:8080/"
        },
        "id": "y7P97K1hgEb6",
        "outputId": "ef7d61cb-ed68-41e0-aea6-9c1e7db4ea1f"
      },
      "execution_count": null,
      "outputs": [
        {
          "output_type": "stream",
          "name": "stdout",
          "text": [
            "48\n"
          ]
        }
      ]
    },
    {
      "cell_type": "code",
      "source": [
        "def sub(a , b):\n",
        "  print(a - b)"
      ],
      "metadata": {
        "id": "bf_LESytgHsA"
      },
      "execution_count": null,
      "outputs": []
    },
    {
      "cell_type": "code",
      "source": [
        "sub(3 , 45)"
      ],
      "metadata": {
        "colab": {
          "base_uri": "https://localhost:8080/"
        },
        "id": "iTp4tnNWgPUQ",
        "outputId": "a252ed23-9450-49c9-cd8e-c7cd1f84df56"
      },
      "execution_count": null,
      "outputs": [
        {
          "output_type": "stream",
          "name": "stdout",
          "text": [
            "-42\n"
          ]
        }
      ]
    },
    {
      "cell_type": "code",
      "source": [
        "def sayHi(name):\n",
        "  '''\n",
        "  This function is used to say Hi\n",
        "  '''\n",
        "  print('Hi', name)"
      ],
      "metadata": {
        "id": "yMbpw1jSgSML"
      },
      "execution_count": null,
      "outputs": []
    },
    {
      "cell_type": "code",
      "source": [
        "sayHi('Hemanth')"
      ],
      "metadata": {
        "colab": {
          "base_uri": "https://localhost:8080/"
        },
        "id": "Ni2Xhb9agrWd",
        "outputId": "fec59007-ff49-4295-c6f8-11ebb0eb8291"
      },
      "execution_count": null,
      "outputs": [
        {
          "output_type": "stream",
          "name": "stdout",
          "text": [
            "Hi Hemanth\n"
          ]
        }
      ]
    },
    {
      "cell_type": "code",
      "source": [
        "def printMessage(msg1,msg2):\n",
        "  print(msg1,msg2)"
      ],
      "metadata": {
        "id": "vxMOXnbDgu7j"
      },
      "execution_count": null,
      "outputs": []
    },
    {
      "cell_type": "code",
      "source": [
        "printMessage(2,4)"
      ],
      "metadata": {
        "colab": {
          "base_uri": "https://localhost:8080/"
        },
        "id": "PoCoeUujStsv",
        "outputId": "eb9022b3-1e26-42f8-ab9a-0f9af4dd8acd"
      },
      "execution_count": null,
      "outputs": [
        {
          "output_type": "stream",
          "name": "stdout",
          "text": [
            "2 4\n"
          ]
        }
      ]
    },
    {
      "cell_type": "code",
      "source": [
        "def f(c1='a',c2='b',c3='c'):\n",
        "  print(c1,c2,c3)"
      ],
      "metadata": {
        "id": "tQxeFVZeS-O3"
      },
      "execution_count": null,
      "outputs": []
    },
    {
      "cell_type": "code",
      "source": [
        "f()"
      ],
      "metadata": {
        "id": "Ox45cB2oUgCm",
        "outputId": "b00340f3-c43f-4322-8f51-ca38eac8ec95",
        "colab": {
          "base_uri": "https://localhost:8080/"
        }
      },
      "execution_count": null,
      "outputs": [
        {
          "output_type": "stream",
          "name": "stdout",
          "text": [
            "a b c\n"
          ]
        }
      ]
    },
    {
      "cell_type": "code",
      "source": [
        "def printAllvariablesnamesandvalues(**args):\n",
        "  for x in args:\n",
        "    print('Variable Name is :',x, 'And Value is :',args[x])"
      ],
      "metadata": {
        "id": "UCoEv7ATUhK-"
      },
      "execution_count": null,
      "outputs": []
    },
    {
      "cell_type": "code",
      "source": [
        "printAllvariablesnamesandvalues(a=3,b='sdf',c='ddd,',y=6.7)"
      ],
      "metadata": {
        "colab": {
          "base_uri": "https://localhost:8080/"
        },
        "id": "RmFX7DvKgpes",
        "outputId": "f12c9706-562a-49f3-b173-e782a42c886d"
      },
      "execution_count": null,
      "outputs": [
        {
          "output_type": "stream",
          "name": "stdout",
          "text": [
            "Variable Name is : a And Value is : 3\n",
            "Variable Name is : b And Value is : sdf\n",
            "Variable Name is : c And Value is : ddd,\n",
            "Variable Name is : y And Value is : 6.7\n"
          ]
        }
      ]
    },
    {
      "cell_type": "code",
      "source": [
        "def gg(s = 4):\n",
        "  print(s)"
      ],
      "metadata": {
        "id": "AKAE4lNsg4m3"
      },
      "execution_count": null,
      "outputs": []
    },
    {
      "cell_type": "code",
      "source": [
        "gg()"
      ],
      "metadata": {
        "colab": {
          "base_uri": "https://localhost:8080/"
        },
        "id": "yeX4Dx0KjQu-",
        "outputId": "9b664430-0c0f-4911-8831-75967e897b88"
      },
      "execution_count": null,
      "outputs": [
        {
          "output_type": "stream",
          "name": "stdout",
          "text": [
            "4\n"
          ]
        }
      ]
    },
    {
      "cell_type": "code",
      "source": [
        "gg(66)"
      ],
      "metadata": {
        "colab": {
          "base_uri": "https://localhost:8080/"
        },
        "id": "5nB9nvPrjRqw",
        "outputId": "ffb15283-be81-430e-eb2a-0b95df080059"
      },
      "execution_count": null,
      "outputs": [
        {
          "output_type": "stream",
          "name": "stdout",
          "text": [
            "66\n"
          ]
        }
      ]
    },
    {
      "cell_type": "code",
      "source": [
        "l = [1,2,34]\n",
        "l2 = l\n",
        "print(l2[0])"
      ],
      "metadata": {
        "colab": {
          "base_uri": "https://localhost:8080/"
        },
        "id": "FHqX739bjWvt",
        "outputId": "55139dfa-3b40-40d5-ae76-c0f2e06fe536"
      },
      "execution_count": null,
      "outputs": [
        {
          "output_type": "stream",
          "name": "stdout",
          "text": [
            "1\n"
          ]
        }
      ]
    },
    {
      "cell_type": "code",
      "source": [
        "def ff(l=[1,3]):\n",
        "  for i in l:\n",
        "    print(i)"
      ],
      "metadata": {
        "id": "5bVjp0nGjheY"
      },
      "execution_count": null,
      "outputs": []
    },
    {
      "cell_type": "code",
      "source": [
        "ff()"
      ],
      "metadata": {
        "colab": {
          "base_uri": "https://localhost:8080/"
        },
        "id": "nQRgb_KrjyGe",
        "outputId": "a3b22819-4b11-4d4e-d188-6c62334900df"
      },
      "execution_count": null,
      "outputs": [
        {
          "output_type": "stream",
          "name": "stdout",
          "text": [
            "1\n",
            "3\n"
          ]
        }
      ]
    },
    {
      "cell_type": "code",
      "source": [
        "l2 = [1,23,4,55]\n",
        "ff(l2)"
      ],
      "metadata": {
        "colab": {
          "base_uri": "https://localhost:8080/"
        },
        "id": "Og3yq9qBjzAa",
        "outputId": "f6e89b04-a1c2-49a5-ec4d-255e76948018"
      },
      "execution_count": null,
      "outputs": [
        {
          "output_type": "stream",
          "name": "stdout",
          "text": [
            "1\n",
            "23\n",
            "4\n",
            "55\n"
          ]
        }
      ]
    },
    {
      "cell_type": "code",
      "source": [
        "ff()"
      ],
      "metadata": {
        "colab": {
          "base_uri": "https://localhost:8080/"
        },
        "id": "MYEogv4ej8Ud",
        "outputId": "6ba4c436-ab36-4ef3-841b-8647542f4599"
      },
      "execution_count": null,
      "outputs": [
        {
          "output_type": "stream",
          "name": "stdout",
          "text": [
            "1\n",
            "3\n"
          ]
        }
      ]
    },
    {
      "cell_type": "code",
      "source": [
        "for i in range(1,10):\n",
        "  print(f'this is {i}')"
      ],
      "metadata": {
        "colab": {
          "base_uri": "https://localhost:8080/"
        },
        "id": "xHUApO--lb5r",
        "outputId": "9de09968-7cb7-49d5-fceb-8085b44ac8b8"
      },
      "execution_count": null,
      "outputs": [
        {
          "output_type": "stream",
          "name": "stdout",
          "text": [
            "this is 1\n",
            "this is 2\n",
            "this is 3\n",
            "this is 4\n",
            "this is 5\n",
            "this is 6\n",
            "this is 7\n",
            "this is 8\n",
            "this is 9\n"
          ]
        }
      ]
    },
    {
      "cell_type": "code",
      "source": [
        "for i in range(1,5):\n",
        "  print('this is :',i)"
      ],
      "metadata": {
        "colab": {
          "base_uri": "https://localhost:8080/"
        },
        "id": "WM-rvJAAmRln",
        "outputId": "5d4248d6-c2a8-4e26-cd85-239e8585c938"
      },
      "execution_count": null,
      "outputs": [
        {
          "output_type": "stream",
          "name": "stdout",
          "text": [
            "this is : 1\n",
            "this is : 2\n",
            "this is : 3\n",
            "this is : 4\n"
          ]
        }
      ]
    },
    {
      "cell_type": "code",
      "source": [
        "s = 'python is best programming for data science'\n",
        "e = 'now we are going to learn python for data science'\n",
        "print(s+ 'and, '+ e)"
      ],
      "metadata": {
        "id": "4vqjTg1WmcQs",
        "colab": {
          "base_uri": "https://localhost:8080/"
        },
        "outputId": "769a65c3-68b7-4170-dfbb-816a7dc97503"
      },
      "execution_count": null,
      "outputs": [
        {
          "output_type": "stream",
          "name": "stdout",
          "text": [
            "python is best programming for data scienceand, now we are going to learn python for data science\n"
          ]
        }
      ]
    },
    {
      "cell_type": "code",
      "source": [
        "price = 12\n",
        "x = 'The price of this book is :'\n",
        "f = x+' '+str(price)\n",
        "print(f)"
      ],
      "metadata": {
        "colab": {
          "base_uri": "https://localhost:8080/"
        },
        "id": "C3FmAx49NbsE",
        "outputId": "6ee5aa2e-f3ed-4b99-94b5-6010df7d583b"
      },
      "execution_count": null,
      "outputs": [
        {
          "output_type": "stream",
          "name": "stdout",
          "text": [
            "The price of this book is : 12\n"
          ]
        }
      ]
    },
    {
      "cell_type": "code",
      "source": [
        "print(x,'is',price)"
      ],
      "metadata": {
        "colab": {
          "base_uri": "https://localhost:8080/"
        },
        "id": "jNpiiBxdOqKO",
        "outputId": "98a8633a-7509-419c-8d79-726c75455c83"
      },
      "execution_count": null,
      "outputs": [
        {
          "output_type": "stream",
          "name": "stdout",
          "text": [
            "The price of this book is : is 12\n"
          ]
        }
      ]
    },
    {
      "cell_type": "code",
      "source": [
        "a='Game of programming'\n",
        "print(a[0])"
      ],
      "metadata": {
        "id": "Y7HUA8DWPKDK",
        "colab": {
          "base_uri": "https://localhost:8080/"
        },
        "outputId": "74453409-5462-43d3-fc81-187785b67a26"
      },
      "execution_count": null,
      "outputs": [
        {
          "output_type": "stream",
          "name": "stdout",
          "text": [
            "G\n"
          ]
        }
      ]
    },
    {
      "cell_type": "code",
      "source": [
        "print(a[3:8])"
      ],
      "metadata": {
        "colab": {
          "base_uri": "https://localhost:8080/"
        },
        "id": "MppC5_A0UJbG",
        "outputId": "7fbcbf13-e4c4-4d0a-db9d-da7f07cce9c4"
      },
      "execution_count": null,
      "outputs": [
        {
          "output_type": "stream",
          "name": "stdout",
          "text": [
            "e of \n"
          ]
        }
      ]
    },
    {
      "cell_type": "code",
      "source": [
        "print(a[::-1])"
      ],
      "metadata": {
        "colab": {
          "base_uri": "https://localhost:8080/"
        },
        "id": "LK6gcdugURTF",
        "outputId": "ac1a524b-fc3f-4c86-e9a4-ab458b6fc7fe"
      },
      "execution_count": null,
      "outputs": [
        {
          "output_type": "stream",
          "name": "stdout",
          "text": [
            "gnimmargorp fo emaG\n"
          ]
        }
      ]
    },
    {
      "cell_type": "code",
      "source": [
        "print(a[-1::])"
      ],
      "metadata": {
        "colab": {
          "base_uri": "https://localhost:8080/"
        },
        "id": "SrH1sZ0OUvNq",
        "outputId": "3078d128-85b9-4148-86b7-fb5f53847c89"
      },
      "execution_count": null,
      "outputs": [
        {
          "output_type": "stream",
          "name": "stdout",
          "text": [
            "g\n"
          ]
        }
      ]
    },
    {
      "cell_type": "code",
      "source": [
        "print(a[2:])"
      ],
      "metadata": {
        "colab": {
          "base_uri": "https://localhost:8080/"
        },
        "id": "xwz5RH5mU0qS",
        "outputId": "0a9e429c-d5ea-4255-9543-609ce6ab64ae"
      },
      "execution_count": null,
      "outputs": [
        {
          "output_type": "stream",
          "name": "stdout",
          "text": [
            "me of programming\n"
          ]
        }
      ]
    },
    {
      "cell_type": "code",
      "source": [
        "print(a[:8])"
      ],
      "metadata": {
        "colab": {
          "base_uri": "https://localhost:8080/"
        },
        "id": "Q6wKbYmzVCv9",
        "outputId": "31ab7982-d45a-41a1-db7e-39f6a7b37e2e"
      },
      "execution_count": null,
      "outputs": [
        {
          "output_type": "stream",
          "name": "stdout",
          "text": [
            "Game of \n"
          ]
        }
      ]
    },
    {
      "cell_type": "code",
      "source": [
        "len(a)"
      ],
      "metadata": {
        "colab": {
          "base_uri": "https://localhost:8080/"
        },
        "id": "cVNz7HIPWGpD",
        "outputId": "ad98d469-a131-4d05-85ec-a09554bef293"
      },
      "execution_count": null,
      "outputs": [
        {
          "output_type": "execute_result",
          "data": {
            "text/plain": [
              "19"
            ]
          },
          "metadata": {},
          "execution_count": 25
        }
      ]
    },
    {
      "cell_type": "code",
      "source": [
        "a = '    avaef sdf sfwwgwagzfv   awf   '\n",
        "b = a.strip()"
      ],
      "metadata": {
        "id": "NX9mBy1MWMFB"
      },
      "execution_count": null,
      "outputs": []
    },
    {
      "cell_type": "code",
      "source": [
        "print(b)"
      ],
      "metadata": {
        "colab": {
          "base_uri": "https://localhost:8080/"
        },
        "id": "N6gCy_7SXC_U",
        "outputId": "4ca9ba87-e02d-4c0d-d44b-297cdfed74ee"
      },
      "execution_count": null,
      "outputs": [
        {
          "output_type": "stream",
          "name": "stdout",
          "text": [
            "avaef sdf sfwwgwagzfv   awf\n"
          ]
        }
      ]
    },
    {
      "cell_type": "code",
      "source": [
        "s = 'AASDFARGSDB FBHaetrsgvdvgra'\n",
        "s.lower()"
      ],
      "metadata": {
        "colab": {
          "base_uri": "https://localhost:8080/",
          "height": 35
        },
        "id": "UA9qL5KLXFKd",
        "outputId": "203d90c7-9c68-4d78-b28b-514cc10540e3"
      },
      "execution_count": null,
      "outputs": [
        {
          "output_type": "execute_result",
          "data": {
            "text/plain": [
              "'aasdfargsdb fbhaetrsgvdvgra'"
            ],
            "application/vnd.google.colaboratory.intrinsic+json": {
              "type": "string"
            }
          },
          "metadata": {},
          "execution_count": 30
        }
      ]
    },
    {
      "cell_type": "code",
      "source": [
        "s.upper()"
      ],
      "metadata": {
        "colab": {
          "base_uri": "https://localhost:8080/",
          "height": 35
        },
        "id": "cASP2KEOXYcZ",
        "outputId": "4971948c-3826-4864-be33-0712033477aa"
      },
      "execution_count": null,
      "outputs": [
        {
          "output_type": "execute_result",
          "data": {
            "text/plain": [
              "'AASDFARGSDB FBHAETRSGVDVGRA'"
            ],
            "application/vnd.google.colaboratory.intrinsic+json": {
              "type": "string"
            }
          },
          "metadata": {},
          "execution_count": 32
        }
      ]
    },
    {
      "cell_type": "code",
      "source": [
        "a = 'hi'\n",
        "a.replace('hi','Hi')"
      ],
      "metadata": {
        "colab": {
          "base_uri": "https://localhost:8080/",
          "height": 35
        },
        "id": "6at_yTUfXZEH",
        "outputId": "7bc8c740-e63f-4250-bb64-894ce1a9fe56"
      },
      "execution_count": null,
      "outputs": [
        {
          "output_type": "execute_result",
          "data": {
            "text/plain": [
              "'Hi'"
            ],
            "application/vnd.google.colaboratory.intrinsic+json": {
              "type": "string"
            }
          },
          "metadata": {},
          "execution_count": 33
        }
      ]
    },
    {
      "cell_type": "code",
      "source": [
        "a.replace('i','@#$%%%%%')"
      ],
      "metadata": {
        "colab": {
          "base_uri": "https://localhost:8080/",
          "height": 35
        },
        "id": "-fU37degXnn8",
        "outputId": "b5b9b7b9-a2c9-4288-afb6-e343ead2aa06"
      },
      "execution_count": null,
      "outputs": [
        {
          "output_type": "execute_result",
          "data": {
            "text/plain": [
              "'h@#$%%%%%'"
            ],
            "application/vnd.google.colaboratory.intrinsic+json": {
              "type": "string"
            }
          },
          "metadata": {},
          "execution_count": 34
        }
      ]
    },
    {
      "cell_type": "code",
      "source": [
        "a.center(12)"
      ],
      "metadata": {
        "colab": {
          "base_uri": "https://localhost:8080/",
          "height": 35
        },
        "id": "4CZhGWvwX38K",
        "outputId": "692ec742-acfe-41a3-c907-f95bb0c12641"
      },
      "execution_count": null,
      "outputs": [
        {
          "output_type": "execute_result",
          "data": {
            "text/plain": [
              "'     hi     '"
            ],
            "application/vnd.google.colaboratory.intrinsic+json": {
              "type": "string"
            }
          },
          "metadata": {},
          "execution_count": 36
        }
      ]
    },
    {
      "cell_type": "code",
      "source": [
        "a.center(12,'$')"
      ],
      "metadata": {
        "colab": {
          "base_uri": "https://localhost:8080/",
          "height": 35
        },
        "id": "PX5rGVLiX7S1",
        "outputId": "6629917c-2482-455d-f1cf-06218d8a5e80"
      },
      "execution_count": null,
      "outputs": [
        {
          "output_type": "execute_result",
          "data": {
            "text/plain": [
              "'$$$$$hi$$$$$'"
            ],
            "application/vnd.google.colaboratory.intrinsic+json": {
              "type": "string"
            }
          },
          "metadata": {},
          "execution_count": 41
        }
      ]
    },
    {
      "cell_type": "code",
      "source": [
        "sd = 'SSF:SSSFF:S:SFE:S:F:A:FRsd'\n",
        "sd.split(':')"
      ],
      "metadata": {
        "colab": {
          "base_uri": "https://localhost:8080/"
        },
        "id": "6iOD33HUYHq5",
        "outputId": "64fd184d-4f45-471f-ea5b-26d97b2ed967"
      },
      "execution_count": null,
      "outputs": [
        {
          "output_type": "execute_result",
          "data": {
            "text/plain": [
              "['SSF', 'SSSFF', 'S', 'SFE', 'S', 'F', 'A', 'FRsd']"
            ]
          },
          "metadata": {},
          "execution_count": 46
        }
      ]
    },
    {
      "cell_type": "code",
      "source": [
        "sd[4]"
      ],
      "metadata": {
        "colab": {
          "base_uri": "https://localhost:8080/",
          "height": 35
        },
        "id": "X1h-Je93Yorn",
        "outputId": "fd3a2516-0106-490d-83fd-45c581603dbf"
      },
      "execution_count": null,
      "outputs": [
        {
          "output_type": "execute_result",
          "data": {
            "text/plain": [
              "'S'"
            ],
            "application/vnd.google.colaboratory.intrinsic+json": {
              "type": "string"
            }
          },
          "metadata": {},
          "execution_count": 48
        }
      ]
    },
    {
      "cell_type": "code",
      "source": [
        "c = 'c:\\name\\drive'\n",
        "print(c)"
      ],
      "metadata": {
        "colab": {
          "base_uri": "https://localhost:8080/"
        },
        "id": "QzA2CJQTaEAW",
        "outputId": "09d257e2-d3fb-4b45-d759-cda9ea50f4cb"
      },
      "execution_count": null,
      "outputs": [
        {
          "output_type": "stream",
          "name": "stdout",
          "text": [
            "c:\n",
            "ame\\drive\n"
          ]
        }
      ]
    },
    {
      "cell_type": "code",
      "source": [
        "print(r'c:\\name\\drive')"
      ],
      "metadata": {
        "colab": {
          "base_uri": "https://localhost:8080/"
        },
        "id": "OObfHgOMacr-",
        "outputId": "cacc3bff-14bc-4900-8029-781c98b1efd1"
      },
      "execution_count": null,
      "outputs": [
        {
          "output_type": "stream",
          "name": "stdout",
          "text": [
            "c:\\name\\drive\n"
          ]
        }
      ]
    },
    {
      "cell_type": "code",
      "source": [
        "'asdf' in 'asdfasfrszvxvzrdz'"
      ],
      "metadata": {
        "colab": {
          "base_uri": "https://localhost:8080/"
        },
        "id": "63gsEmdpcXYO",
        "outputId": "bb98db09-afd1-44c2-dfdd-74445ed8a429"
      },
      "execution_count": null,
      "outputs": [
        {
          "output_type": "execute_result",
          "data": {
            "text/plain": [
              "True"
            ]
          },
          "metadata": {},
          "execution_count": 57
        }
      ]
    },
    {
      "cell_type": "code",
      "source": [
        "'asdf' not in 'asdfasfrszvxvzrdz'"
      ],
      "metadata": {
        "id": "XcCfllDycrnD",
        "outputId": "2b80c5d5-18fa-4d24-bf98-ea875602af4f",
        "colab": {
          "base_uri": "https://localhost:8080/"
        }
      },
      "execution_count": null,
      "outputs": [
        {
          "output_type": "execute_result",
          "data": {
            "text/plain": [
              "False"
            ]
          },
          "metadata": {},
          "execution_count": 58
        }
      ]
    },
    {
      "cell_type": "code",
      "source": [],
      "metadata": {
        "id": "SKS-PFYncwIP"
      },
      "execution_count": null,
      "outputs": []
    }
  ]
}