# -*- coding: utf-8 -*-
"""
Created on Sat Apr 20 10:09:00 2024

@author: bommi
"""
                   # variable assining
a = 10
a
b = 20.00
b
c = print(a+b)
c

d = [1.2,2,3,4,5,6,7,8,88,99,00,46,35]
d
                     # indexing
d[3]
d[5]

                    # list
l1 = ['hemanth','kumar','bommineni']
l2 = ['btech','data science','internship']


l1[0]
l1[2]
l2[2]
l2[1]

                      # set 
d1 = [1,2,3,3,4,4,5,5,6,6,7,8,8,9,97,6,5,5,5,6,4,323,4,5566]

l = set(d1)
l

                       # dictionaries
d2 = {'name': 'Hemanth', 'degree': 'BTech','course':'Data Science'}
d2

d2.values()
d2.keys()
d2.items()

d3 = {'dob': 3-7-2000,'degree cgpa': 6.5,'course duration in months':6 }
d3

d3.values()
d3.keys()
d3.items()



import numpy as np

ads = np.array([11,22,33,44,55,66,77,88,99])
asd = np.array([12,13,23,43,34,54,65,74,76,])

ads
asd

np.random.rand(1,100)
np.random.randint(0,100)


import matplotlib.pyplot as plt
import seaborn as sns

ade = np.random.randn(4,4)

sns.distplot(pd.DataFrame(ade.reshape(16,1)))


df = pd.DataFrame()
df

type(df)

x = [1,2,3,4,5,6,6,7,5,6,7,8]
y = [10,20,30,40,50,60,70,80,90,100,110,120]

plt.scatter(x, y,c='g')
plt.xlabel('xlabel')
plt.ylabel('ylabel')
plt.title('style')
plt.show()

plt.plot(x,y,c='y*--')

x = np.arange(20,30)
y = np.arange(31,41)

plt.scatter(x, y,c='g')
plt.xlabel('xlabel')
plt.ylabel('ylabel')
plt.title('style')
plt.show()

plt.plot(x,y,'r*')

plt.subplot(2,2,1)
plt.plot(x,y,'g*--')

plt.subplot(2,2,1)
plt.plot(x,y,'ro--')


plt.subplot(2,2,2)
plt.plot(x,y,'r*--')

plt.subplot(2,2,2)
plt.plot(x,y,'go--')
