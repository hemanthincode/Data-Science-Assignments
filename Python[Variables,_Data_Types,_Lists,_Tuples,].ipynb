{
  "nbformat": 4,
  "nbformat_minor": 0,
  "metadata": {
    "colab": {
      "provenance": []
    },
    "kernelspec": {
      "name": "python3",
      "display_name": "Python 3"
    },
    "language_info": {
      "name": "python"
    }
  },
  "cells": [
    {
      "cell_type": "code",
      "execution_count": 14,
      "metadata": {
        "id": "IkbxprMPyv0Z"
      },
      "outputs": [],
      "source": [
        "var = 10\n",
        "VAR = 10\n",
        "var1 = 20\n",
        "var_num = 30"
      ]
    },
    {
      "cell_type": "code",
      "source": [
        "print(var)\n",
        "print(VAR)\n",
        "print(var1)\n",
        "print(var_num)\n",
        "print(var, VAR, var1, var_num, sep=' ',end='')"
      ],
      "metadata": {
        "colab": {
          "base_uri": "https://localhost:8080/"
        },
        "id": "ckEQaSo2G_zM",
        "outputId": "0e0d53e8-620f-4911-e20b-7ae127de8151"
      },
      "execution_count": 15,
      "outputs": [
        {
          "output_type": "stream",
          "name": "stdout",
          "text": [
            "10\n",
            "10\n",
            "20\n",
            "30\n",
            "10 10 20 30"
          ]
        }
      ]
    },
    {
      "cell_type": "code",
      "source": [
        "# multiple assignments\n",
        "a,b,c = 1,2,3"
      ],
      "metadata": {
        "id": "7SiegMZtHPtk"
      },
      "execution_count": 16,
      "outputs": []
    },
    {
      "cell_type": "code",
      "source": [
        "a"
      ],
      "metadata": {
        "colab": {
          "base_uri": "https://localhost:8080/"
        },
        "id": "kleOzoh4HZnD",
        "outputId": "baa0f30d-9742-4346-fe54-655cce899de8"
      },
      "execution_count": 17,
      "outputs": [
        {
          "output_type": "execute_result",
          "data": {
            "text/plain": [
              "1"
            ]
          },
          "metadata": {},
          "execution_count": 17
        }
      ]
    },
    {
      "cell_type": "code",
      "source": [
        "b"
      ],
      "metadata": {
        "colab": {
          "base_uri": "https://localhost:8080/"
        },
        "id": "NVBFECDjHaax",
        "outputId": "6c2b90a7-4b7b-4f9f-e0c7-2d66567da38a"
      },
      "execution_count": 18,
      "outputs": [
        {
          "output_type": "execute_result",
          "data": {
            "text/plain": [
              "2"
            ]
          },
          "metadata": {},
          "execution_count": 18
        }
      ]
    },
    {
      "cell_type": "code",
      "source": [
        "c"
      ],
      "metadata": {
        "colab": {
          "base_uri": "https://localhost:8080/"
        },
        "id": "9bPAJonIHa2R",
        "outputId": "12beebe8-3900-43c2-ef1c-ea1026491847"
      },
      "execution_count": 19,
      "outputs": [
        {
          "output_type": "execute_result",
          "data": {
            "text/plain": [
              "3"
            ]
          },
          "metadata": {},
          "execution_count": 19
        }
      ]
    },
    {
      "cell_type": "code",
      "source": [
        "print(a,b,c,sep='\\n')"
      ],
      "metadata": {
        "colab": {
          "base_uri": "https://localhost:8080/"
        },
        "id": "1CW7vwiRHb7A",
        "outputId": "6d6800a9-0102-41ea-aff6-149e565e8e61"
      },
      "execution_count": 20,
      "outputs": [
        {
          "output_type": "stream",
          "name": "stdout",
          "text": [
            "1\n",
            "2\n",
            "3\n"
          ]
        }
      ]
    },
    {
      "cell_type": "code",
      "source": [
        "d = 'string'"
      ],
      "metadata": {
        "id": "xi0vTE-eHg4s"
      },
      "execution_count": 21,
      "outputs": []
    },
    {
      "cell_type": "code",
      "source": [
        "type(d)"
      ],
      "metadata": {
        "colab": {
          "base_uri": "https://localhost:8080/"
        },
        "id": "0W7j8TvkH7gH",
        "outputId": "d86c4a24-a368-469a-c3c1-b684e4823c24"
      },
      "execution_count": 22,
      "outputs": [
        {
          "output_type": "execute_result",
          "data": {
            "text/plain": [
              "str"
            ]
          },
          "metadata": {},
          "execution_count": 22
        }
      ]
    },
    {
      "cell_type": "code",
      "source": [
        "*a,b,c = 12,23,34,45,56,67,78,89,90"
      ],
      "metadata": {
        "id": "4HLLw1pRH9Q7"
      },
      "execution_count": 23,
      "outputs": []
    },
    {
      "cell_type": "code",
      "source": [
        "a"
      ],
      "metadata": {
        "colab": {
          "base_uri": "https://localhost:8080/"
        },
        "id": "3hU_aWYnIjJA",
        "outputId": "aaa540dd-5a11-46b7-8775-4b4a55707c83"
      },
      "execution_count": 24,
      "outputs": [
        {
          "output_type": "execute_result",
          "data": {
            "text/plain": [
              "[12, 23, 34, 45, 56, 67, 78]"
            ]
          },
          "metadata": {},
          "execution_count": 24
        }
      ]
    },
    {
      "cell_type": "code",
      "source": [
        "b"
      ],
      "metadata": {
        "colab": {
          "base_uri": "https://localhost:8080/"
        },
        "id": "f5OnqNa0Ijm3",
        "outputId": "0cb01d65-7d4e-4919-d309-90a2fdc32c49"
      },
      "execution_count": 25,
      "outputs": [
        {
          "output_type": "execute_result",
          "data": {
            "text/plain": [
              "89"
            ]
          },
          "metadata": {},
          "execution_count": 25
        }
      ]
    },
    {
      "cell_type": "code",
      "source": [
        "c"
      ],
      "metadata": {
        "colab": {
          "base_uri": "https://localhost:8080/"
        },
        "id": "Gie1WADtIkpL",
        "outputId": "7918ec3d-893c-409a-e214-fed95d41fca5"
      },
      "execution_count": 26,
      "outputs": [
        {
          "output_type": "execute_result",
          "data": {
            "text/plain": [
              "90"
            ]
          },
          "metadata": {},
          "execution_count": 26
        }
      ]
    },
    {
      "cell_type": "code",
      "source": [
        "v,*d,g = 123,2345,456,567,567"
      ],
      "metadata": {
        "id": "YDHGHq3RIlkT"
      },
      "execution_count": 27,
      "outputs": []
    },
    {
      "cell_type": "code",
      "source": [
        "v"
      ],
      "metadata": {
        "colab": {
          "base_uri": "https://localhost:8080/"
        },
        "id": "Cilj8DtWIrKQ",
        "outputId": "028cc7f7-4708-473b-98a2-7780a9010ed0"
      },
      "execution_count": 28,
      "outputs": [
        {
          "output_type": "execute_result",
          "data": {
            "text/plain": [
              "123"
            ]
          },
          "metadata": {},
          "execution_count": 28
        }
      ]
    },
    {
      "cell_type": "code",
      "source": [
        "d"
      ],
      "metadata": {
        "colab": {
          "base_uri": "https://localhost:8080/"
        },
        "id": "jVyVxR2bIrrM",
        "outputId": "6b622c12-006f-4521-a9ae-ac30a9843bb5"
      },
      "execution_count": 29,
      "outputs": [
        {
          "output_type": "execute_result",
          "data": {
            "text/plain": [
              "[2345, 456, 567]"
            ]
          },
          "metadata": {},
          "execution_count": 29
        }
      ]
    },
    {
      "cell_type": "code",
      "source": [
        "g"
      ],
      "metadata": {
        "colab": {
          "base_uri": "https://localhost:8080/"
        },
        "id": "8WXeNSmGIs4D",
        "outputId": "a9ce73a8-e1fd-4d99-8431-6db0baf7a198"
      },
      "execution_count": 30,
      "outputs": [
        {
          "output_type": "execute_result",
          "data": {
            "text/plain": [
              "567"
            ]
          },
          "metadata": {},
          "execution_count": 30
        }
      ]
    },
    {
      "cell_type": "code",
      "source": [
        "import keyword\n",
        "print(keyword.kwlist)"
      ],
      "metadata": {
        "colab": {
          "base_uri": "https://localhost:8080/"
        },
        "id": "ZgmCQ-jBIty_",
        "outputId": "a641bfca-1237-4347-f595-545101b7c897"
      },
      "execution_count": 31,
      "outputs": [
        {
          "output_type": "stream",
          "name": "stdout",
          "text": [
            "['False', 'None', 'True', 'and', 'as', 'assert', 'async', 'await', 'break', 'class', 'continue', 'def', 'del', 'elif', 'else', 'except', 'finally', 'for', 'from', 'global', 'if', 'import', 'in', 'is', 'lambda', 'nonlocal', 'not', 'or', 'pass', 'raise', 'return', 'try', 'while', 'with', 'yield']\n"
          ]
        }
      ]
    },
    {
      "cell_type": "code",
      "source": [
        "dir()     # list of all created variables"
      ],
      "metadata": {
        "colab": {
          "base_uri": "https://localhost:8080/"
        },
        "id": "KM2XeQPBKkym",
        "outputId": "1886d6aa-51af-4dd1-ae0e-cfb24a19e8ee"
      },
      "execution_count": 32,
      "outputs": [
        {
          "output_type": "execute_result",
          "data": {
            "text/plain": [
              "['Dict1',\n",
              " 'Dict2',\n",
              " 'In',\n",
              " 'Out',\n",
              " 'VAR',\n",
              " '_',\n",
              " '_1',\n",
              " '_10',\n",
              " '_11',\n",
              " '_13',\n",
              " '_17',\n",
              " '_18',\n",
              " '_19',\n",
              " '_2',\n",
              " '_22',\n",
              " '_24',\n",
              " '_25',\n",
              " '_26',\n",
              " '_28',\n",
              " '_29',\n",
              " '_3',\n",
              " '_30',\n",
              " '_4',\n",
              " '_5',\n",
              " '_6',\n",
              " '_7',\n",
              " '_8',\n",
              " '_9',\n",
              " '__',\n",
              " '___',\n",
              " '__builtin__',\n",
              " '__builtins__',\n",
              " '__doc__',\n",
              " '__loader__',\n",
              " '__name__',\n",
              " '__package__',\n",
              " '__spec__',\n",
              " '_dh',\n",
              " '_i',\n",
              " '_i1',\n",
              " '_i10',\n",
              " '_i11',\n",
              " '_i12',\n",
              " '_i13',\n",
              " '_i14',\n",
              " '_i15',\n",
              " '_i16',\n",
              " '_i17',\n",
              " '_i18',\n",
              " '_i19',\n",
              " '_i2',\n",
              " '_i20',\n",
              " '_i21',\n",
              " '_i22',\n",
              " '_i23',\n",
              " '_i24',\n",
              " '_i25',\n",
              " '_i26',\n",
              " '_i27',\n",
              " '_i28',\n",
              " '_i29',\n",
              " '_i3',\n",
              " '_i30',\n",
              " '_i31',\n",
              " '_i32',\n",
              " '_i4',\n",
              " '_i5',\n",
              " '_i6',\n",
              " '_i7',\n",
              " '_i8',\n",
              " '_i9',\n",
              " '_ih',\n",
              " '_ii',\n",
              " '_iii',\n",
              " '_oh',\n",
              " 'a',\n",
              " 'b',\n",
              " 'c',\n",
              " 'd',\n",
              " 'exit',\n",
              " 'g',\n",
              " 'get_ipython',\n",
              " 'keyword',\n",
              " 'quit',\n",
              " 'v',\n",
              " 'var',\n",
              " 'var1',\n",
              " 'var_num']"
            ]
          },
          "metadata": {},
          "execution_count": 32
        }
      ]
    },
    {
      "cell_type": "code",
      "source": [
        "# integer class\n",
        "num = 15\n",
        "print(num, 'is of type', type(num))"
      ],
      "metadata": {
        "colab": {
          "base_uri": "https://localhost:8080/"
        },
        "id": "ERYvo77QKx-H",
        "outputId": "b3043ba6-9352-4dc0-e90d-4a520af9e1ca"
      },
      "execution_count": 33,
      "outputs": [
        {
          "output_type": "stream",
          "name": "stdout",
          "text": [
            "15 is of type <class 'int'>\n"
          ]
        }
      ]
    },
    {
      "cell_type": "code",
      "source": [
        "type(num)"
      ],
      "metadata": {
        "colab": {
          "base_uri": "https://localhost:8080/"
        },
        "id": "UINIOKoSLTnD",
        "outputId": "4b46ebf3-5fc8-4ef4-fe0c-931dc772bbaa"
      },
      "execution_count": 34,
      "outputs": [
        {
          "output_type": "execute_result",
          "data": {
            "text/plain": [
              "int"
            ]
          },
          "metadata": {},
          "execution_count": 34
        }
      ]
    },
    {
      "cell_type": "code",
      "source": [
        "# floating data type\n",
        "fnum = 15.0\n",
        "print(fnum, 'is of type', type(fnum))"
      ],
      "metadata": {
        "colab": {
          "base_uri": "https://localhost:8080/"
        },
        "id": "b_P8Y4VVLXZX",
        "outputId": "5326a977-31a7-4f8b-ca5d-2f606e340de3"
      },
      "execution_count": 35,
      "outputs": [
        {
          "output_type": "stream",
          "name": "stdout",
          "text": [
            "15.0 is of type <class 'float'>\n"
          ]
        }
      ]
    },
    {
      "cell_type": "code",
      "source": [
        "# complex data type\n",
        "cnum = 10+20j\n",
        "print(cnum, 'is of type', type(cnum))"
      ],
      "metadata": {
        "colab": {
          "base_uri": "https://localhost:8080/"
        },
        "id": "A689l3BXLofz",
        "outputId": "8d191b78-825b-469f-d123-51f781e04ae0"
      },
      "execution_count": 36,
      "outputs": [
        {
          "output_type": "stream",
          "name": "stdout",
          "text": [
            "(10+20j) is of type <class 'complex'>\n"
          ]
        }
      ]
    },
    {
      "cell_type": "code",
      "source": [
        "# string data type for single word\n",
        "str1 = 'hello'\n",
        "print(str1, 'is of type', type(str1))"
      ],
      "metadata": {
        "colab": {
          "base_uri": "https://localhost:8080/"
        },
        "id": "Wx1BlZW9L0WQ",
        "outputId": "78e95044-59fb-47b9-fdea-b961bd89d197"
      },
      "execution_count": 37,
      "outputs": [
        {
          "output_type": "stream",
          "name": "stdout",
          "text": [
            "hello is of type <class 'str'>\n"
          ]
        }
      ]
    },
    {
      "cell_type": "code",
      "source": [
        "# string data type for double word\n",
        "str2 = \"hello world\"\n",
        "print(str2, 'is of type', type(str2))"
      ],
      "metadata": {
        "colab": {
          "base_uri": "https://localhost:8080/"
        },
        "id": "TzL_MbfnMSLv",
        "outputId": "737d6d89-1938-48e5-8bbc-d66d2aa4995d"
      },
      "execution_count": 38,
      "outputs": [
        {
          "output_type": "stream",
          "name": "stdout",
          "text": [
            "hello world is of type <class 'str'>\n"
          ]
        }
      ]
    },
    {
      "cell_type": "code",
      "source": [
        "# string data type for statement\n",
        "str3 = \"we are studying's data science\"\n",
        "print(str3, 'is of type', type(str3))"
      ],
      "metadata": {
        "colab": {
          "base_uri": "https://localhost:8080/"
        },
        "id": "yZ2YahQdMX2P",
        "outputId": "49be7aea-ec69-4975-f75e-c8f5c035e965"
      },
      "execution_count": 39,
      "outputs": [
        {
          "output_type": "stream",
          "name": "stdout",
          "text": [
            "we are studying's data science is of type <class 'str'>\n"
          ]
        }
      ]
    },
    {
      "cell_type": "code",
      "source": [
        "# string data type for paragraph\n",
        "str4 = \"\"\"we are\n",
        "          studying's\n",
        "          data science\"\"\"\n",
        "print(str4, 'is of type', type(str4))"
      ],
      "metadata": {
        "colab": {
          "base_uri": "https://localhost:8080/"
        },
        "id": "6laLiqm9MfXo",
        "outputId": "c5ae1f04-4e81-4a34-c0e0-6e750b41a088"
      },
      "execution_count": 40,
      "outputs": [
        {
          "output_type": "stream",
          "name": "stdout",
          "text": [
            "we are\n",
            "          studying's\n",
            "          data science is of type <class 'str'>\n"
          ]
        }
      ]
    },
    {
      "cell_type": "code",
      "source": [
        "# boolean type of data\n",
        "bool1 = True\n",
        "print(bool1, 'is of type', type(bool1))\n",
        "\n",
        "bool2 = False\n",
        "print(bool2, 'is of type', type(bool2))"
      ],
      "metadata": {
        "colab": {
          "base_uri": "https://localhost:8080/"
        },
        "id": "uCU6uvExNFJQ",
        "outputId": "c8a04d75-1e0e-495b-8804-17ea1237603c"
      },
      "execution_count": 41,
      "outputs": [
        {
          "output_type": "stream",
          "name": "stdout",
          "text": [
            "True is of type <class 'bool'>\n",
            "False is of type <class 'bool'>\n"
          ]
        }
      ]
    },
    {
      "cell_type": "code",
      "source": [
        "# none type\n",
        "x = None\n",
        "print(x, 'is of type', type(x))"
      ],
      "metadata": {
        "colab": {
          "base_uri": "https://localhost:8080/"
        },
        "id": "HzOirHgiPUlL",
        "outputId": "247f0aac-8fcd-411e-a6e4-1620401fd102"
      },
      "execution_count": 42,
      "outputs": [
        {
          "output_type": "stream",
          "name": "stdout",
          "text": [
            "None is of type <class 'NoneType'>\n"
          ]
        }
      ]
    },
    {
      "cell_type": "code",
      "source": [
        "# object type of data\n",
        "object_type = object # [int, float, str, complex]\n",
        "print(object_type)\n",
        "print(type(object_type))"
      ],
      "metadata": {
        "colab": {
          "base_uri": "https://localhost:8080/"
        },
        "id": "ew3hngaIPmuX",
        "outputId": "01dbbd8e-c08a-4a05-b459-d0b50eccba3c"
      },
      "execution_count": 43,
      "outputs": [
        {
          "output_type": "stream",
          "name": "stdout",
          "text": [
            "<class 'object'>\n",
            "<class 'type'>\n"
          ]
        }
      ]
    },
    {
      "cell_type": "code",
      "source": [
        "import datetime as dt\n",
        "date = dt.datetime.now()\n",
        "print(date)\n",
        "print(type(date))"
      ],
      "metadata": {
        "colab": {
          "base_uri": "https://localhost:8080/"
        },
        "id": "sRFfsboEQAsL",
        "outputId": "5fab12d1-4ad6-4fe3-9edf-fd90a4f3bccc"
      },
      "execution_count": 44,
      "outputs": [
        {
          "output_type": "stream",
          "name": "stdout",
          "text": [
            "2024-11-11 06:59:40.945666\n",
            "<class 'datetime.datetime'>\n"
          ]
        }
      ]
    },
    {
      "cell_type": "code",
      "source": [
        "name = 'data science'"
      ],
      "metadata": {
        "id": "ougzPtG4TFDQ"
      },
      "execution_count": 45,
      "outputs": []
    },
    {
      "cell_type": "code",
      "source": [
        "name.capitalize(), name.casefold(), name.endswith('e'), name.expandtabs()"
      ],
      "metadata": {
        "colab": {
          "base_uri": "https://localhost:8080/"
        },
        "id": "KjIuPMJNZLCc",
        "outputId": "60729b2b-1e2a-45f0-8799-f68fbbd5fdd5"
      },
      "execution_count": 46,
      "outputs": [
        {
          "output_type": "execute_result",
          "data": {
            "text/plain": [
              "('Data science', 'data science', True, 'data science')"
            ]
          },
          "metadata": {},
          "execution_count": 46
        }
      ]
    },
    {
      "cell_type": "code",
      "source": [
        "name.center(100)"
      ],
      "metadata": {
        "colab": {
          "base_uri": "https://localhost:8080/",
          "height": 35
        },
        "id": "yxCMk5mVZT94",
        "outputId": "98770d04-a8ac-46dc-beb8-a15322b2c9a6"
      },
      "execution_count": 47,
      "outputs": [
        {
          "output_type": "execute_result",
          "data": {
            "text/plain": [
              "'                                            data science                                            '"
            ],
            "application/vnd.google.colaboratory.intrinsic+json": {
              "type": "string"
            }
          },
          "metadata": {},
          "execution_count": 47
        }
      ]
    },
    {
      "cell_type": "code",
      "source": [
        "name.count('a')"
      ],
      "metadata": {
        "colab": {
          "base_uri": "https://localhost:8080/"
        },
        "id": "3KFNb23RZl6a",
        "outputId": "c17cf0b8-bc5f-4853-cf76-84045bd3e7df"
      },
      "execution_count": 48,
      "outputs": [
        {
          "output_type": "execute_result",
          "data": {
            "text/plain": [
              "2"
            ]
          },
          "metadata": {},
          "execution_count": 48
        }
      ]
    },
    {
      "cell_type": "code",
      "source": [
        "name.encode()"
      ],
      "metadata": {
        "colab": {
          "base_uri": "https://localhost:8080/"
        },
        "id": "U4VFmAqRZqke",
        "outputId": "4dd80447-2f5b-48c0-d1b2-c66dd12951c9"
      },
      "execution_count": 49,
      "outputs": [
        {
          "output_type": "execute_result",
          "data": {
            "text/plain": [
              "b'data science'"
            ]
          },
          "metadata": {},
          "execution_count": 49
        }
      ]
    },
    {
      "cell_type": "code",
      "source": [
        "name.swapcase()"
      ],
      "metadata": {
        "colab": {
          "base_uri": "https://localhost:8080/",
          "height": 35
        },
        "id": "jds6xOc7Zu0y",
        "outputId": "4f33fd40-4d64-415d-82f2-c0e787312e7c"
      },
      "execution_count": 50,
      "outputs": [
        {
          "output_type": "execute_result",
          "data": {
            "text/plain": [
              "'DATA SCIENCE'"
            ],
            "application/vnd.google.colaboratory.intrinsic+json": {
              "type": "string"
            }
          },
          "metadata": {},
          "execution_count": 50
        }
      ]
    },
    {
      "cell_type": "code",
      "source": [
        "name.isalpha(), name.isascii(), name.isalnum(), name.isdecimal(), name.isdigit()"
      ],
      "metadata": {
        "colab": {
          "base_uri": "https://localhost:8080/"
        },
        "id": "yZg37K_uZ8DB",
        "outputId": "4a61809e-31dc-4c82-8f43-75fcc860beb4"
      },
      "execution_count": 51,
      "outputs": [
        {
          "output_type": "execute_result",
          "data": {
            "text/plain": [
              "(False, True, False, False, False)"
            ]
          },
          "metadata": {},
          "execution_count": 51
        }
      ]
    },
    {
      "cell_type": "code",
      "source": [
        "name.islower(), name.isnumeric(), name.isupper(), name.istitle()"
      ],
      "metadata": {
        "colab": {
          "base_uri": "https://localhost:8080/"
        },
        "id": "_8LknvqQbRU1",
        "outputId": "69437945-420e-4a35-c35a-678eca908c26"
      },
      "execution_count": 52,
      "outputs": [
        {
          "output_type": "execute_result",
          "data": {
            "text/plain": [
              "(True, False, False, False)"
            ]
          },
          "metadata": {},
          "execution_count": 52
        }
      ]
    },
    {
      "cell_type": "code",
      "source": [
        "name.center(15,'#'), name.ljust(15), name.rjust(15,'#')"
      ],
      "metadata": {
        "colab": {
          "base_uri": "https://localhost:8080/"
        },
        "id": "sDcVDhJjbpsQ",
        "outputId": "6328a19e-5f41-4e18-9f3c-b8c3292d95d7"
      },
      "execution_count": 53,
      "outputs": [
        {
          "output_type": "execute_result",
          "data": {
            "text/plain": [
              "('##data science#', 'data science   ', '###data science')"
            ]
          },
          "metadata": {},
          "execution_count": 53
        }
      ]
    },
    {
      "cell_type": "code",
      "source": [
        "# indexing"
      ],
      "metadata": {
        "id": "irc8Nn6Pd9rS"
      },
      "execution_count": 54,
      "outputs": []
    },
    {
      "cell_type": "code",
      "source": [
        "name.count('c')"
      ],
      "metadata": {
        "colab": {
          "base_uri": "https://localhost:8080/"
        },
        "id": "bAoTttppcqUV",
        "outputId": "61de3ed6-86bd-48c7-f79d-57fe3a330793"
      },
      "execution_count": 55,
      "outputs": [
        {
          "output_type": "execute_result",
          "data": {
            "text/plain": [
              "2"
            ]
          },
          "metadata": {},
          "execution_count": 55
        }
      ]
    },
    {
      "cell_type": "code",
      "source": [
        "name.index('a')"
      ],
      "metadata": {
        "colab": {
          "base_uri": "https://localhost:8080/"
        },
        "id": "MvOPF-ApdNYY",
        "outputId": "5eedb09e-c10d-4135-e515-985fa5cf4af8"
      },
      "execution_count": 56,
      "outputs": [
        {
          "output_type": "execute_result",
          "data": {
            "text/plain": [
              "1"
            ]
          },
          "metadata": {},
          "execution_count": 56
        }
      ]
    },
    {
      "cell_type": "code",
      "source": [
        "name.find('a')"
      ],
      "metadata": {
        "colab": {
          "base_uri": "https://localhost:8080/"
        },
        "id": "MIPOBKz5dZcP",
        "outputId": "7a1947de-8897-40d3-a769-9973c05de92a"
      },
      "execution_count": 57,
      "outputs": [
        {
          "output_type": "execute_result",
          "data": {
            "text/plain": [
              "1"
            ]
          },
          "metadata": {},
          "execution_count": 57
        }
      ]
    },
    {
      "cell_type": "code",
      "source": [
        "name.rfind('a'), name.rindex('a')"
      ],
      "metadata": {
        "colab": {
          "base_uri": "https://localhost:8080/"
        },
        "id": "dIbDHjssddMA",
        "outputId": "fc7febdf-db51-492f-8575-6a09a761c5e3"
      },
      "execution_count": 58,
      "outputs": [
        {
          "output_type": "execute_result",
          "data": {
            "text/plain": [
              "(3, 3)"
            ]
          },
          "metadata": {},
          "execution_count": 58
        }
      ]
    },
    {
      "cell_type": "code",
      "source": [
        "name.count('a')"
      ],
      "metadata": {
        "colab": {
          "base_uri": "https://localhost:8080/"
        },
        "id": "RjalNvh_djJS",
        "outputId": "0e521d20-30e6-4ac8-ffa8-55f6cdf08625"
      },
      "execution_count": 59,
      "outputs": [
        {
          "output_type": "execute_result",
          "data": {
            "text/plain": [
              "2"
            ]
          },
          "metadata": {},
          "execution_count": 59
        }
      ]
    },
    {
      "cell_type": "code",
      "source": [
        "# slicing"
      ],
      "metadata": {
        "id": "5byaahE9eJ2-"
      },
      "execution_count": 60,
      "outputs": []
    },
    {
      "cell_type": "code",
      "source": [
        "name[0:4]"
      ],
      "metadata": {
        "colab": {
          "base_uri": "https://localhost:8080/",
          "height": 35
        },
        "id": "4kGVE8m7ecPO",
        "outputId": "befae0b7-f446-4cb0-ac3c-7de9d61f5266"
      },
      "execution_count": 61,
      "outputs": [
        {
          "output_type": "execute_result",
          "data": {
            "text/plain": [
              "'data'"
            ],
            "application/vnd.google.colaboratory.intrinsic+json": {
              "type": "string"
            }
          },
          "metadata": {},
          "execution_count": 61
        }
      ]
    },
    {
      "cell_type": "code",
      "source": [
        "name[0:8:2]"
      ],
      "metadata": {
        "colab": {
          "base_uri": "https://localhost:8080/",
          "height": 35
        },
        "id": "04SqeUevenVG",
        "outputId": "14445144-5416-47d6-f7da-13175c59d456"
      },
      "execution_count": 62,
      "outputs": [
        {
          "output_type": "execute_result",
          "data": {
            "text/plain": [
              "'dt c'"
            ],
            "application/vnd.google.colaboratory.intrinsic+json": {
              "type": "string"
            }
          },
          "metadata": {},
          "execution_count": 62
        }
      ]
    },
    {
      "cell_type": "code",
      "source": [
        "name[1:]"
      ],
      "metadata": {
        "colab": {
          "base_uri": "https://localhost:8080/",
          "height": 35
        },
        "id": "6xCIGHM-evEh",
        "outputId": "ed7fac96-cd7b-40da-dcde-9c9244f7cafb"
      },
      "execution_count": 63,
      "outputs": [
        {
          "output_type": "execute_result",
          "data": {
            "text/plain": [
              "'ata science'"
            ],
            "application/vnd.google.colaboratory.intrinsic+json": {
              "type": "string"
            }
          },
          "metadata": {},
          "execution_count": 63
        }
      ]
    },
    {
      "cell_type": "code",
      "source": [
        "name[::3]"
      ],
      "metadata": {
        "colab": {
          "base_uri": "https://localhost:8080/",
          "height": 35
        },
        "id": "w142rmMce2fk",
        "outputId": "8ef708bf-d228-4a4f-c22e-aab83b2addda"
      },
      "execution_count": 64,
      "outputs": [
        {
          "output_type": "execute_result",
          "data": {
            "text/plain": [
              "'dacn'"
            ],
            "application/vnd.google.colaboratory.intrinsic+json": {
              "type": "string"
            }
          },
          "metadata": {},
          "execution_count": 64
        }
      ]
    },
    {
      "cell_type": "code",
      "source": [
        "# negative indexing\n"
      ],
      "metadata": {
        "id": "6qDW88QMe8f7"
      },
      "execution_count": 65,
      "outputs": []
    },
    {
      "cell_type": "code",
      "source": [
        "name[:-1]"
      ],
      "metadata": {
        "colab": {
          "base_uri": "https://localhost:8080/",
          "height": 35
        },
        "id": "w9T4ZywOfil_",
        "outputId": "02c544d4-68a6-46b0-9963-5ce2d485a2b4"
      },
      "execution_count": 66,
      "outputs": [
        {
          "output_type": "execute_result",
          "data": {
            "text/plain": [
              "'data scienc'"
            ],
            "application/vnd.google.colaboratory.intrinsic+json": {
              "type": "string"
            }
          },
          "metadata": {},
          "execution_count": 66
        }
      ]
    },
    {
      "cell_type": "code",
      "source": [
        "name[-1]"
      ],
      "metadata": {
        "colab": {
          "base_uri": "https://localhost:8080/",
          "height": 35
        },
        "id": "J2i53nbefldf",
        "outputId": "d6d9631d-fb98-4199-e9e5-804825971bef"
      },
      "execution_count": 67,
      "outputs": [
        {
          "output_type": "execute_result",
          "data": {
            "text/plain": [
              "'e'"
            ],
            "application/vnd.google.colaboratory.intrinsic+json": {
              "type": "string"
            }
          },
          "metadata": {},
          "execution_count": 67
        }
      ]
    },
    {
      "cell_type": "code",
      "source": [
        "name[-1:]"
      ],
      "metadata": {
        "colab": {
          "base_uri": "https://localhost:8080/",
          "height": 35
        },
        "id": "9OBHL1cbfq1H",
        "outputId": "d01d5b2e-2edb-490b-b202-8dd57af91b78"
      },
      "execution_count": 68,
      "outputs": [
        {
          "output_type": "execute_result",
          "data": {
            "text/plain": [
              "'e'"
            ],
            "application/vnd.google.colaboratory.intrinsic+json": {
              "type": "string"
            }
          },
          "metadata": {},
          "execution_count": 68
        }
      ]
    },
    {
      "cell_type": "code",
      "source": [
        "name[::-1]"
      ],
      "metadata": {
        "colab": {
          "base_uri": "https://localhost:8080/",
          "height": 35
        },
        "id": "5ySOaDhVfth8",
        "outputId": "03f6e800-5f87-42ac-8c35-084f445f3862"
      },
      "execution_count": 69,
      "outputs": [
        {
          "output_type": "execute_result",
          "data": {
            "text/plain": [
              "'ecneics atad'"
            ],
            "application/vnd.google.colaboratory.intrinsic+json": {
              "type": "string"
            }
          },
          "metadata": {},
          "execution_count": 69
        }
      ]
    },
    {
      "cell_type": "code",
      "source": [
        "name[0:5]"
      ],
      "metadata": {
        "colab": {
          "base_uri": "https://localhost:8080/",
          "height": 35
        },
        "id": "7fRb6nl-f36Q",
        "outputId": "2a56720e-ba18-4c40-a7e3-d1476b6ea7ff"
      },
      "execution_count": 70,
      "outputs": [
        {
          "output_type": "execute_result",
          "data": {
            "text/plain": [
              "'data '"
            ],
            "application/vnd.google.colaboratory.intrinsic+json": {
              "type": "string"
            }
          },
          "metadata": {},
          "execution_count": 70
        }
      ]
    },
    {
      "cell_type": "code",
      "source": [
        "name[0:5:-1]"
      ],
      "metadata": {
        "colab": {
          "base_uri": "https://localhost:8080/",
          "height": 35
        },
        "id": "qcCZxcTMgTWu",
        "outputId": "5a75851a-58fb-422f-dc8e-c56347049f31"
      },
      "execution_count": 71,
      "outputs": [
        {
          "output_type": "execute_result",
          "data": {
            "text/plain": [
              "''"
            ],
            "application/vnd.google.colaboratory.intrinsic+json": {
              "type": "string"
            }
          },
          "metadata": {},
          "execution_count": 71
        }
      ]
    },
    {
      "cell_type": "code",
      "source": [
        "name[5:0:-1]"
      ],
      "metadata": {
        "colab": {
          "base_uri": "https://localhost:8080/",
          "height": 35
        },
        "id": "1B3mHT5lgWIB",
        "outputId": "14a6f4da-1129-4df3-eadc-58f332f810bc"
      },
      "execution_count": 72,
      "outputs": [
        {
          "output_type": "execute_result",
          "data": {
            "text/plain": [
              "'s ata'"
            ],
            "application/vnd.google.colaboratory.intrinsic+json": {
              "type": "string"
            }
          },
          "metadata": {},
          "execution_count": 72
        }
      ]
    },
    {
      "cell_type": "code",
      "source": [
        "name = '   data science   '\n",
        "name.strip(), name.lstrip(), name.rstrip()"
      ],
      "metadata": {
        "colab": {
          "base_uri": "https://localhost:8080/"
        },
        "id": "HTaxAb_cgaTD",
        "outputId": "a83477c0-78a3-48a6-ffcf-538ed7ad71d0"
      },
      "execution_count": 73,
      "outputs": [
        {
          "output_type": "execute_result",
          "data": {
            "text/plain": [
              "('data science', 'data science   ', '   data science')"
            ]
          },
          "metadata": {},
          "execution_count": 73
        }
      ]
    },
    {
      "cell_type": "code",
      "source": [
        "sf = '      edf             '\n",
        "sf.strip(), sf.lstrip(), sf.rstrip()"
      ],
      "metadata": {
        "colab": {
          "base_uri": "https://localhost:8080/"
        },
        "id": "XDkUKVvhhq6k",
        "outputId": "fdafa926-a82d-4185-ab22-d75145462185"
      },
      "execution_count": 74,
      "outputs": [
        {
          "output_type": "execute_result",
          "data": {
            "text/plain": [
              "('edf', 'edf             ', '      edf')"
            ]
          },
          "metadata": {},
          "execution_count": 74
        }
      ]
    },
    {
      "cell_type": "code",
      "source": [
        "data = \"we are learning data science\"\n",
        "data.split()"
      ],
      "metadata": {
        "colab": {
          "base_uri": "https://localhost:8080/"
        },
        "id": "AuOTeHehh0f8",
        "outputId": "adbf04a5-8805-49a8-edd8-181ef9bd83b0"
      },
      "execution_count": 75,
      "outputs": [
        {
          "output_type": "execute_result",
          "data": {
            "text/plain": [
              "['we', 'are', 'learning', 'data', 'science']"
            ]
          },
          "metadata": {},
          "execution_count": 75
        }
      ]
    },
    {
      "cell_type": "code",
      "source": [
        "data.split('a')"
      ],
      "metadata": {
        "colab": {
          "base_uri": "https://localhost:8080/"
        },
        "id": "_PP5258liDKl",
        "outputId": "7be98bf3-0e94-4447-a5b6-b8309bf55498"
      },
      "execution_count": 76,
      "outputs": [
        {
          "output_type": "execute_result",
          "data": {
            "text/plain": [
              "['we ', 're le', 'rning d', 't', ' science']"
            ]
          },
          "metadata": {},
          "execution_count": 76
        }
      ]
    },
    {
      "cell_type": "code",
      "source": [
        "# formating a string\n",
        "age = 26\n",
        "weight = 60\n",
        "print('my age is ',age,'and my weight is ',weight)"
      ],
      "metadata": {
        "colab": {
          "base_uri": "https://localhost:8080/"
        },
        "id": "Tj65ODcsiJZA",
        "outputId": "c3fb9c9b-f31f-4107-b09c-4dd62572b664"
      },
      "execution_count": 77,
      "outputs": [
        {
          "output_type": "stream",
          "name": "stdout",
          "text": [
            "my age is  26 and my weight is  60\n"
          ]
        }
      ]
    },
    {
      "cell_type": "code",
      "source": [
        "statement = 'my age is {} and my weight is {}'.format(age,weight)\n",
        "print(statement)"
      ],
      "metadata": {
        "colab": {
          "base_uri": "https://localhost:8080/"
        },
        "id": "xR9MJHv4jpof",
        "outputId": "0034fc84-8658-4b5c-8d8d-217cec7f48a1"
      },
      "execution_count": 78,
      "outputs": [
        {
          "output_type": "stream",
          "name": "stdout",
          "text": [
            "my age is 26 and my weight is 60\n"
          ]
        }
      ]
    },
    {
      "cell_type": "code",
      "source": [
        "statement = f'my age is {age} and my weight is {weight}'\n",
        "print(statement)"
      ],
      "metadata": {
        "colab": {
          "base_uri": "https://localhost:8080/"
        },
        "id": "SPSUm91lj0oo",
        "outputId": "c8e384bc-5224-4411-cac5-bb3a407a30fc"
      },
      "execution_count": 79,
      "outputs": [
        {
          "output_type": "stream",
          "name": "stdout",
          "text": [
            "my age is 26 and my weight is 60\n"
          ]
        }
      ]
    },
    {
      "cell_type": "code",
      "source": [
        "age = 26\n",
        "weight = 60\n",
        "print('my age is %d and my weight is %d'%(age,weight))"
      ],
      "metadata": {
        "colab": {
          "base_uri": "https://localhost:8080/"
        },
        "id": "8IKufM59j5wP",
        "outputId": "18afe6e8-b63f-41be-9123-39ca14e0d672"
      },
      "execution_count": 80,
      "outputs": [
        {
          "output_type": "stream",
          "name": "stdout",
          "text": [
            "my age is 26 and my weight is 60\n"
          ]
        }
      ]
    },
    {
      "cell_type": "code",
      "source": [
        "age = 26\n",
        "weight = 60\n",
        "print('my age is %d and my weight is %f'%(age,weight))"
      ],
      "metadata": {
        "colab": {
          "base_uri": "https://localhost:8080/"
        },
        "id": "Mg8oa94Blcgt",
        "outputId": "74c72219-7128-4d3d-f47c-ad340493972d"
      },
      "execution_count": 81,
      "outputs": [
        {
          "output_type": "stream",
          "name": "stdout",
          "text": [
            "my age is 26 and my weight is 60.000000\n"
          ]
        }
      ]
    },
    {
      "cell_type": "code",
      "source": [
        "age = 26\n",
        "weight = 60\n",
        "print('my age is %d and my weight is %.2f'%(age,weight))"
      ],
      "metadata": {
        "colab": {
          "base_uri": "https://localhost:8080/"
        },
        "id": "7W6N1P1rljm_",
        "outputId": "618acf2e-1d54-45ba-a9aa-e8ffe0d8c5fb"
      },
      "execution_count": 82,
      "outputs": [
        {
          "output_type": "stream",
          "name": "stdout",
          "text": [
            "my age is 26 and my weight is 60.00\n"
          ]
        }
      ]
    },
    {
      "cell_type": "code",
      "source": [
        "# input function\n",
        "age = input('enter your age: ')\n",
        "print(age)"
      ],
      "metadata": {
        "colab": {
          "base_uri": "https://localhost:8080/"
        },
        "id": "TdwwfXEQloTf",
        "outputId": "6a7404e8-2a03-43f7-9795-98d058f76718"
      },
      "execution_count": 83,
      "outputs": [
        {
          "output_type": "stream",
          "name": "stdout",
          "text": [
            "enter your age: 24\n",
            "24\n"
          ]
        }
      ]
    },
    {
      "cell_type": "code",
      "source": [
        "# type casting # int, float, str"
      ],
      "metadata": {
        "id": "bRwGr_QBlsGs"
      },
      "execution_count": 84,
      "outputs": []
    },
    {
      "cell_type": "code",
      "source": [
        "age = '23'\n",
        "print(type(age))\n",
        "age_int = int(age)\n",
        "print(type(age_int))"
      ],
      "metadata": {
        "colab": {
          "base_uri": "https://localhost:8080/"
        },
        "id": "lnfpkHu2mG1I",
        "outputId": "f33c5316-48e2-4c02-f244-df3c5b200eef"
      },
      "execution_count": 85,
      "outputs": [
        {
          "output_type": "stream",
          "name": "stdout",
          "text": [
            "<class 'str'>\n",
            "<class 'int'>\n"
          ]
        }
      ]
    },
    {
      "cell_type": "code",
      "source": [
        "age = '23'\n",
        "print(type(age))\n",
        "age_float = float(age)\n",
        "print(type(age_float))"
      ],
      "metadata": {
        "colab": {
          "base_uri": "https://localhost:8080/"
        },
        "id": "pGtNsu9VoX7F",
        "outputId": "31496f9e-2a06-4caf-8785-cc02ecd32045"
      },
      "execution_count": 86,
      "outputs": [
        {
          "output_type": "stream",
          "name": "stdout",
          "text": [
            "<class 'str'>\n",
            "<class 'float'>\n"
          ]
        }
      ]
    },
    {
      "cell_type": "code",
      "source": [
        "age = '23'\n",
        "print(type(age))\n",
        "age_str = str(age)\n",
        "print(type(age_str))"
      ],
      "metadata": {
        "colab": {
          "base_uri": "https://localhost:8080/"
        },
        "id": "c8NiwsgdofXt",
        "outputId": "23d0cfdf-1a33-4bd3-8a67-d725f2b2e237"
      },
      "execution_count": 87,
      "outputs": [
        {
          "output_type": "stream",
          "name": "stdout",
          "text": [
            "<class 'str'>\n",
            "<class 'str'>\n"
          ]
        }
      ]
    },
    {
      "cell_type": "code",
      "source": [
        "age = 23\n",
        "print(type(age))\n",
        "age_str = str(age)\n",
        "print(type(age_str))"
      ],
      "metadata": {
        "colab": {
          "base_uri": "https://localhost:8080/"
        },
        "id": "adDo7N2Ool27",
        "outputId": "4164d8fb-62b5-4290-a3a2-3d8405649383"
      },
      "execution_count": 88,
      "outputs": [
        {
          "output_type": "stream",
          "name": "stdout",
          "text": [
            "<class 'int'>\n",
            "<class 'str'>\n"
          ]
        }
      ]
    },
    {
      "cell_type": "code",
      "source": [
        "age = '10+5j'\n",
        "print(type(age))\n",
        "age_complex = complex(age)\n",
        "print(type(age_complex))"
      ],
      "metadata": {
        "colab": {
          "base_uri": "https://localhost:8080/"
        },
        "id": "AhWCqq-XooWZ",
        "outputId": "bd1fb795-8419-4c96-f495-814a5b45061a"
      },
      "execution_count": 89,
      "outputs": [
        {
          "output_type": "stream",
          "name": "stdout",
          "text": [
            "<class 'str'>\n",
            "<class 'complex'>\n"
          ]
        }
      ]
    },
    {
      "cell_type": "code",
      "source": [
        "age = 'True'\n",
        "print(type(age))\n",
        "age_bool = bool(age)\n",
        "print(type(age_bool))"
      ],
      "metadata": {
        "colab": {
          "base_uri": "https://localhost:8080/"
        },
        "id": "hutJmvWwpyJs",
        "outputId": "b18c18fe-c730-4c25-9c43-ffee98ab9478"
      },
      "execution_count": 90,
      "outputs": [
        {
          "output_type": "stream",
          "name": "stdout",
          "text": [
            "<class 'str'>\n",
            "<class 'bool'>\n"
          ]
        }
      ]
    },
    {
      "cell_type": "code",
      "source": [
        "age = 56\n",
        "weight = 80.9\n",
        "bm = 10+9j\n",
        "name = 'data'"
      ],
      "metadata": {
        "id": "LZDkO_9Kp1cu"
      },
      "execution_count": 91,
      "outputs": []
    },
    {
      "cell_type": "code",
      "source": [
        "float(age), complex(age), bool(age), str(age)"
      ],
      "metadata": {
        "colab": {
          "base_uri": "https://localhost:8080/"
        },
        "id": "bJPLCDT0qHyU",
        "outputId": "8d50a8d4-b32f-4a1f-a787-7f7c582431ac"
      },
      "execution_count": 92,
      "outputs": [
        {
          "output_type": "execute_result",
          "data": {
            "text/plain": [
              "(56.0, (56+0j), True, '56')"
            ]
          },
          "metadata": {},
          "execution_count": 92
        }
      ]
    },
    {
      "cell_type": "code",
      "source": [
        "int(weight), complex(weight), bool(weight), str(weight)"
      ],
      "metadata": {
        "colab": {
          "base_uri": "https://localhost:8080/"
        },
        "id": "lZGzbKvnqKVf",
        "outputId": "31a7c9de-6327-461a-a7d4-bae0567d10bc"
      },
      "execution_count": 93,
      "outputs": [
        {
          "output_type": "execute_result",
          "data": {
            "text/plain": [
              "(80, (80.9+0j), True, '80.9')"
            ]
          },
          "metadata": {},
          "execution_count": 93
        }
      ]
    },
    {
      "cell_type": "code",
      "source": [
        "str(bm), complex(bm), bool(bm)"
      ],
      "metadata": {
        "colab": {
          "base_uri": "https://localhost:8080/"
        },
        "id": "2-bZkELlqUio",
        "outputId": "8d54cddf-4ad6-4c28-9b85-3cd0a267fa68"
      },
      "execution_count": 94,
      "outputs": [
        {
          "output_type": "execute_result",
          "data": {
            "text/plain": [
              "('(10+9j)', (10+9j), True)"
            ]
          },
          "metadata": {},
          "execution_count": 94
        }
      ]
    },
    {
      "cell_type": "code",
      "source": [
        "num = '80.9'                                           # direct int converting is not possible\n",
        "float(num), int(float(num)), complex(num), bool(num), str(num)"
      ],
      "metadata": {
        "colab": {
          "base_uri": "https://localhost:8080/"
        },
        "id": "HEg3-Lqfqg9N",
        "outputId": "bc5e6392-6c0d-49b9-9a5c-83ab7a118aad"
      },
      "execution_count": 95,
      "outputs": [
        {
          "output_type": "execute_result",
          "data": {
            "text/plain": [
              "(80.9, 80, (80.9+0j), True, '80.9')"
            ]
          },
          "metadata": {},
          "execution_count": 95
        }
      ]
    },
    {
      "cell_type": "code",
      "source": [
        "d = 0\n",
        "bool(d)"
      ],
      "metadata": {
        "colab": {
          "base_uri": "https://localhost:8080/"
        },
        "id": "UcCpIMwhq_Ny",
        "outputId": "9cb35392-a159-48c8-8630-a60117cbf0ca"
      },
      "execution_count": 96,
      "outputs": [
        {
          "output_type": "execute_result",
          "data": {
            "text/plain": [
              "False"
            ]
          },
          "metadata": {},
          "execution_count": 96
        }
      ]
    },
    {
      "cell_type": "code",
      "source": [
        "d = None\n",
        "bool(d)"
      ],
      "metadata": {
        "colab": {
          "base_uri": "https://localhost:8080/"
        },
        "id": "OYy8PWgPrnUu",
        "outputId": "416b695d-b331-4277-e1dd-363807e443ed"
      },
      "execution_count": 97,
      "outputs": [
        {
          "output_type": "execute_result",
          "data": {
            "text/plain": [
              "False"
            ]
          },
          "metadata": {},
          "execution_count": 97
        }
      ]
    },
    {
      "cell_type": "code",
      "source": [
        "marks = int(input('enter your marks: '))\n",
        "marks"
      ],
      "metadata": {
        "colab": {
          "base_uri": "https://localhost:8080/"
        },
        "id": "QuC5L39trqxA",
        "outputId": "711ab488-bc15-4599-82b1-8961f810b154"
      },
      "execution_count": 98,
      "outputs": [
        {
          "name": "stdout",
          "output_type": "stream",
          "text": [
            "enter your marks: 59\n"
          ]
        },
        {
          "output_type": "execute_result",
          "data": {
            "text/plain": [
              "59"
            ]
          },
          "metadata": {},
          "execution_count": 98
        }
      ]
    },
    {
      "cell_type": "code",
      "source": [
        "type(marks)"
      ],
      "metadata": {
        "colab": {
          "base_uri": "https://localhost:8080/"
        },
        "id": "4Q_z9q8psSVA",
        "outputId": "27993fbb-ac28-43de-b559-b183b5043f02"
      },
      "execution_count": 99,
      "outputs": [
        {
          "output_type": "execute_result",
          "data": {
            "text/plain": [
              "int"
            ]
          },
          "metadata": {},
          "execution_count": 99
        }
      ]
    },
    {
      "cell_type": "code",
      "source": [
        "marks = float(input('enter your marks: '))\n",
        "print(marks)\n",
        "print(type(marks))"
      ],
      "metadata": {
        "colab": {
          "base_uri": "https://localhost:8080/"
        },
        "id": "kb-mXUbrsZky",
        "outputId": "4762bb5e-e318-40ad-d2e4-6eaed493f782"
      },
      "execution_count": 100,
      "outputs": [
        {
          "output_type": "stream",
          "name": "stdout",
          "text": [
            "enter your marks: 59.9\n",
            "59.9\n",
            "<class 'float'>\n"
          ]
        }
      ]
    },
    {
      "cell_type": "code",
      "source": [
        "# arthimetic operators"
      ],
      "metadata": {
        "id": "bKZH0ge2sjTF"
      },
      "execution_count": 101,
      "outputs": []
    },
    {
      "cell_type": "code",
      "source": [
        "a = 10\n",
        "b = 20\n",
        "a, b = 10, 20"
      ],
      "metadata": {
        "id": "J4R7OL3UvWtG"
      },
      "execution_count": 102,
      "outputs": []
    },
    {
      "cell_type": "code",
      "source": [
        "add = a+b\n",
        "sub = a-b\n",
        "mul = a*b\n",
        "div = a/b\n",
        "floor_div = a//b\n",
        "mod = a%b      # reminder\n",
        "power = a**2"
      ],
      "metadata": {
        "id": "ZrBCqLZPvs4u"
      },
      "execution_count": 103,
      "outputs": []
    },
    {
      "cell_type": "code",
      "source": [
        "print(add, sub, mul, div, floor_div, mod, power)"
      ],
      "metadata": {
        "colab": {
          "base_uri": "https://localhost:8080/"
        },
        "id": "zZVmPfE0v8TQ",
        "outputId": "e8358260-199b-4909-df6f-9cc458c185ef"
      },
      "execution_count": 104,
      "outputs": [
        {
          "output_type": "stream",
          "name": "stdout",
          "text": [
            "30 -10 200 0.5 0 10 100\n"
          ]
        }
      ]
    },
    {
      "cell_type": "code",
      "source": [
        "print(f' add: {add}\\n sub: {sub}\\n mul: {mul}\\n div: {div}\\n floor_div: {floor_div}\\n mod: {mod}\\n power: {power}')"
      ],
      "metadata": {
        "colab": {
          "base_uri": "https://localhost:8080/"
        },
        "id": "IFQDFojOwEOh",
        "outputId": "3299f67c-0286-4fa7-e0b3-a5b3a3a73b63"
      },
      "execution_count": 105,
      "outputs": [
        {
          "output_type": "stream",
          "name": "stdout",
          "text": [
            " add: 30\n",
            " sub: -10\n",
            " mul: 200\n",
            " div: 0.5\n",
            " floor_div: 0\n",
            " mod: 10\n",
            " power: 100\n"
          ]
        }
      ]
    },
    {
      "cell_type": "code",
      "source": [
        "a = 10    # * operator can be used for writing multiple times.\n",
        "b = '10'\n",
        "print(a*b)"
      ],
      "metadata": {
        "colab": {
          "base_uri": "https://localhost:8080/"
        },
        "id": "7-GlpqoEwWL8",
        "outputId": "93c77336-37c0-4f03-d20f-6e5c2ae7b66e"
      },
      "execution_count": 106,
      "outputs": [
        {
          "output_type": "stream",
          "name": "stdout",
          "text": [
            "10101010101010101010\n"
          ]
        }
      ]
    },
    {
      "cell_type": "code",
      "source": [
        "a = '12.2'     # + operator can be use for concatination\n",
        "b = '12'\n",
        "print(a+b)"
      ],
      "metadata": {
        "colab": {
          "base_uri": "https://localhost:8080/"
        },
        "id": "gDDZw28KxXXi",
        "outputId": "40179687-7662-474b-e581-ee0fc0514b50"
      },
      "execution_count": 107,
      "outputs": [
        {
          "output_type": "stream",
          "name": "stdout",
          "text": [
            "12.212\n"
          ]
        }
      ]
    },
    {
      "cell_type": "markdown",
      "source": [
        "# Data Structures\n",
        "## List Tuple Set Dictionary"
      ],
      "metadata": {
        "id": "E45yh5StyoMZ"
      }
    },
    {
      "cell_type": "markdown",
      "source": [
        "### Creating a list type of data structures, [], list(), values are stored as comma seperated."
      ],
      "metadata": {
        "id": "x6WuK_cWy_Ps"
      }
    },
    {
      "cell_type": "code",
      "source": [
        "alist = []\n",
        "print(alist)\n",
        "print(type(alist))"
      ],
      "metadata": {
        "colab": {
          "base_uri": "https://localhost:8080/"
        },
        "id": "ajw0NtLWx3BC",
        "outputId": "74180e29-5e1b-44c2-adac-7ba658daa4e3"
      },
      "execution_count": 108,
      "outputs": [
        {
          "output_type": "stream",
          "name": "stdout",
          "text": [
            "[]\n",
            "<class 'list'>\n"
          ]
        }
      ]
    },
    {
      "cell_type": "code",
      "source": [
        "Alist = list()\n",
        "print(Alist)\n",
        "print(type(Alist))"
      ],
      "metadata": {
        "colab": {
          "base_uri": "https://localhost:8080/"
        },
        "id": "sF1UuI5hze1r",
        "outputId": "c8cd8067-96d0-4fc9-b681-d540f641c8f6"
      },
      "execution_count": 109,
      "outputs": [
        {
          "output_type": "stream",
          "name": "stdout",
          "text": [
            "[]\n",
            "<class 'list'>\n"
          ]
        }
      ]
    },
    {
      "cell_type": "code",
      "source": [
        "blist = [10,15,19,18,20,30]\n",
        "print(blist)\n",
        "print(type(blist))"
      ],
      "metadata": {
        "colab": {
          "base_uri": "https://localhost:8080/"
        },
        "id": "EgOGjuy2zi7Z",
        "outputId": "c0d3b279-4bb1-4449-a13b-afbca3562c13"
      },
      "execution_count": 110,
      "outputs": [
        {
          "output_type": "stream",
          "name": "stdout",
          "text": [
            "[10, 15, 19, 18, 20, 30]\n",
            "<class 'list'>\n"
          ]
        }
      ]
    },
    {
      "cell_type": "code",
      "source": [
        "clist = [10,19.6, 'name', True, None]\n",
        "print(clist)\n",
        "print(type(clist))"
      ],
      "metadata": {
        "colab": {
          "base_uri": "https://localhost:8080/"
        },
        "id": "JSrvHO8hzyw7",
        "outputId": "b01f6a8c-431e-4f36-95a0-26881bc608cd"
      },
      "execution_count": 111,
      "outputs": [
        {
          "output_type": "stream",
          "name": "stdout",
          "text": [
            "[10, 19.6, 'name', True, None]\n",
            "<class 'list'>\n"
          ]
        }
      ]
    },
    {
      "cell_type": "code",
      "source": [
        "blist * 3  # multiples 3 times"
      ],
      "metadata": {
        "colab": {
          "base_uri": "https://localhost:8080/"
        },
        "id": "kkzUfk2n0QXG",
        "outputId": "e462cb8e-f6b3-4856-866e-96b1dc39fb84"
      },
      "execution_count": 112,
      "outputs": [
        {
          "output_type": "execute_result",
          "data": {
            "text/plain": [
              "[10, 15, 19, 18, 20, 30, 10, 15, 19, 18, 20, 30, 10, 15, 19, 18, 20, 30]"
            ]
          },
          "metadata": {},
          "execution_count": 112
        }
      ]
    },
    {
      "cell_type": "code",
      "source": [
        "blist + clist  # concatination"
      ],
      "metadata": {
        "colab": {
          "base_uri": "https://localhost:8080/"
        },
        "id": "NuRmeKqu0p4c",
        "outputId": "fe51b948-3347-4c50-c01d-cbf3c2b229a7"
      },
      "execution_count": 113,
      "outputs": [
        {
          "output_type": "execute_result",
          "data": {
            "text/plain": [
              "[10, 15, 19, 18, 20, 30, 10, 19.6, 'name', True, None]"
            ]
          },
          "metadata": {},
          "execution_count": 113
        }
      ]
    },
    {
      "cell_type": "code",
      "source": [
        "20 in blist, 23 in blist"
      ],
      "metadata": {
        "colab": {
          "base_uri": "https://localhost:8080/"
        },
        "id": "4SVTpRoT0tkG",
        "outputId": "955105d1-2aca-4d9c-99a5-5fe9ef599f0d"
      },
      "execution_count": 114,
      "outputs": [
        {
          "output_type": "execute_result",
          "data": {
            "text/plain": [
              "(True, False)"
            ]
          },
          "metadata": {},
          "execution_count": 114
        }
      ]
    },
    {
      "cell_type": "code",
      "source": [
        "23 not in blist"
      ],
      "metadata": {
        "colab": {
          "base_uri": "https://localhost:8080/"
        },
        "id": "L2SnAEIs0yop",
        "outputId": "134dc57f-a007-4399-86ff-eeb145438ca8"
      },
      "execution_count": 115,
      "outputs": [
        {
          "output_type": "execute_result",
          "data": {
            "text/plain": [
              "True"
            ]
          },
          "metadata": {},
          "execution_count": 115
        }
      ]
    },
    {
      "cell_type": "code",
      "source": [
        "type(blist)"
      ],
      "metadata": {
        "colab": {
          "base_uri": "https://localhost:8080/"
        },
        "id": "eSbd88XS00ua",
        "outputId": "09f45a95-bfa9-4be1-c29e-450311ed50c4"
      },
      "execution_count": 116,
      "outputs": [
        {
          "output_type": "execute_result",
          "data": {
            "text/plain": [
              "list"
            ]
          },
          "metadata": {},
          "execution_count": 116
        }
      ]
    },
    {
      "cell_type": "code",
      "source": [
        "type(blist) is list, type(blist) is not list   # membership operator"
      ],
      "metadata": {
        "colab": {
          "base_uri": "https://localhost:8080/"
        },
        "id": "u7LBJJP403MM",
        "outputId": "c769acab-9e9d-4e4c-9095-6f14a6fda452"
      },
      "execution_count": 117,
      "outputs": [
        {
          "output_type": "execute_result",
          "data": {
            "text/plain": [
              "(True, False)"
            ]
          },
          "metadata": {},
          "execution_count": 117
        }
      ]
    },
    {
      "cell_type": "code",
      "source": [
        "# builtin function for list type of data"
      ],
      "metadata": {
        "id": "loSBfTKa1HBL"
      },
      "execution_count": 118,
      "outputs": []
    },
    {
      "cell_type": "code",
      "source": [
        "age = [25,27,28,29,30,45,86,52]"
      ],
      "metadata": {
        "id": "PYP0uYp51tXa"
      },
      "execution_count": 119,
      "outputs": []
    },
    {
      "cell_type": "code",
      "source": [
        "# to add a new value to a list\n",
        "age.append(100)"
      ],
      "metadata": {
        "id": "PtKtQFsi11gZ"
      },
      "execution_count": 120,
      "outputs": []
    },
    {
      "cell_type": "code",
      "source": [
        "age"
      ],
      "metadata": {
        "colab": {
          "base_uri": "https://localhost:8080/"
        },
        "id": "rfmj-YiM18s0",
        "outputId": "f4188195-a24a-48ff-e360-8baf93872793"
      },
      "execution_count": 121,
      "outputs": [
        {
          "output_type": "execute_result",
          "data": {
            "text/plain": [
              "[25, 27, 28, 29, 30, 45, 86, 52, 100]"
            ]
          },
          "metadata": {},
          "execution_count": 121
        }
      ]
    },
    {
      "cell_type": "code",
      "source": [
        "age.append([26,29])\n",
        "age"
      ],
      "metadata": {
        "colab": {
          "base_uri": "https://localhost:8080/"
        },
        "id": "VCM7ERiy19i3",
        "outputId": "b3f231a6-cd22-4c6c-ce90-dce00b22f14a"
      },
      "execution_count": 122,
      "outputs": [
        {
          "output_type": "execute_result",
          "data": {
            "text/plain": [
              "[25, 27, 28, 29, 30, 45, 86, 52, 100, [26, 29]]"
            ]
          },
          "metadata": {},
          "execution_count": 122
        }
      ]
    },
    {
      "cell_type": "code",
      "source": [
        "age.extend([24,25])    # multiple values\n",
        "age"
      ],
      "metadata": {
        "colab": {
          "base_uri": "https://localhost:8080/"
        },
        "id": "TwPeDTtw2JEe",
        "outputId": "6e6f1d3b-3a8f-48e3-d0d8-3b2ae51f2ac3"
      },
      "execution_count": 123,
      "outputs": [
        {
          "output_type": "execute_result",
          "data": {
            "text/plain": [
              "[25, 27, 28, 29, 30, 45, 86, 52, 100, [26, 29], 24, 25]"
            ]
          },
          "metadata": {},
          "execution_count": 123
        }
      ]
    },
    {
      "cell_type": "code",
      "source": [
        "age.insert(0,10)        # inserting a value\n",
        "age"
      ],
      "metadata": {
        "colab": {
          "base_uri": "https://localhost:8080/"
        },
        "id": "38DUqnnb3dxE",
        "outputId": "d57b6b59-90b8-4b07-cee2-bc4fb796a8cf"
      },
      "execution_count": 124,
      "outputs": [
        {
          "output_type": "execute_result",
          "data": {
            "text/plain": [
              "[10, 25, 27, 28, 29, 30, 45, 86, 52, 100, [26, 29], 24, 25]"
            ]
          },
          "metadata": {},
          "execution_count": 124
        }
      ]
    },
    {
      "cell_type": "code",
      "source": [
        "age.remove([26, 29])      # removing   a value\n",
        "age"
      ],
      "metadata": {
        "colab": {
          "base_uri": "https://localhost:8080/"
        },
        "id": "VpgpU_dh3-0Z",
        "outputId": "16bc60a1-b074-460e-b224-704095693028"
      },
      "execution_count": 125,
      "outputs": [
        {
          "output_type": "execute_result",
          "data": {
            "text/plain": [
              "[10, 25, 27, 28, 29, 30, 45, 86, 52, 100, 24, 25]"
            ]
          },
          "metadata": {},
          "execution_count": 125
        }
      ]
    },
    {
      "cell_type": "code",
      "source": [
        "age.insert(10,26)\n",
        "age"
      ],
      "metadata": {
        "colab": {
          "base_uri": "https://localhost:8080/"
        },
        "id": "NXhADtdl4GcV",
        "outputId": "8f68ed09-e288-4b17-d16c-765106014c50"
      },
      "execution_count": 126,
      "outputs": [
        {
          "output_type": "execute_result",
          "data": {
            "text/plain": [
              "[10, 25, 27, 28, 29, 30, 45, 86, 52, 100, 26, 24, 25]"
            ]
          },
          "metadata": {},
          "execution_count": 126
        }
      ]
    },
    {
      "cell_type": "code",
      "source": [
        "# pop()  removes last value\n",
        "age.pop()"
      ],
      "metadata": {
        "colab": {
          "base_uri": "https://localhost:8080/"
        },
        "id": "5982hbfR4Uvq",
        "outputId": "8f43e599-0c7d-4aee-9d71-dc8197c9e333"
      },
      "execution_count": 127,
      "outputs": [
        {
          "output_type": "execute_result",
          "data": {
            "text/plain": [
              "25"
            ]
          },
          "metadata": {},
          "execution_count": 127
        }
      ]
    },
    {
      "cell_type": "code",
      "source": [
        "age.pop(0)"
      ],
      "metadata": {
        "colab": {
          "base_uri": "https://localhost:8080/"
        },
        "id": "V-7u-eLj4v6O",
        "outputId": "84c8bb19-62be-4d48-dfcd-4e6bab249f7a"
      },
      "execution_count": 128,
      "outputs": [
        {
          "output_type": "execute_result",
          "data": {
            "text/plain": [
              "10"
            ]
          },
          "metadata": {},
          "execution_count": 128
        }
      ]
    },
    {
      "cell_type": "code",
      "source": [
        "age.remove(86)\n",
        "age"
      ],
      "metadata": {
        "colab": {
          "base_uri": "https://localhost:8080/"
        },
        "id": "15Sx75cW40ev",
        "outputId": "1e5eff30-a25f-471a-c18b-9251a19087d8"
      },
      "execution_count": 129,
      "outputs": [
        {
          "output_type": "execute_result",
          "data": {
            "text/plain": [
              "[25, 27, 28, 29, 30, 45, 52, 100, 26, 24]"
            ]
          },
          "metadata": {},
          "execution_count": 129
        }
      ]
    },
    {
      "cell_type": "code",
      "source": [
        "age.clear()\n",
        "age"
      ],
      "metadata": {
        "colab": {
          "base_uri": "https://localhost:8080/"
        },
        "id": "HO6u1S-h5Tmb",
        "outputId": "34a93e1d-9006-4e72-bdde-76d5adce6e70"
      },
      "execution_count": 130,
      "outputs": [
        {
          "output_type": "execute_result",
          "data": {
            "text/plain": [
              "[]"
            ]
          },
          "metadata": {},
          "execution_count": 130
        }
      ]
    },
    {
      "cell_type": "code",
      "source": [
        "age = [25, 27, 28, 29, 30, 45, 52, 100, 24, 25]\n"
      ],
      "metadata": {
        "id": "iN5PJHDY53yJ"
      },
      "execution_count": 131,
      "outputs": []
    },
    {
      "cell_type": "code",
      "source": [
        "Age = age.copy()"
      ],
      "metadata": {
        "id": "rB6tEa1a576M"
      },
      "execution_count": 145,
      "outputs": []
    },
    {
      "cell_type": "code",
      "source": [
        "Age"
      ],
      "metadata": {
        "colab": {
          "base_uri": "https://localhost:8080/"
        },
        "id": "ABwzlpl85_Be",
        "outputId": "54a121ee-52a9-458b-f8e5-2721112304f3"
      },
      "execution_count": 146,
      "outputs": [
        {
          "output_type": "execute_result",
          "data": {
            "text/plain": [
              "[100, 52, 45, 30, 29, 28, 27, 25, 25, 24]"
            ]
          },
          "metadata": {},
          "execution_count": 146
        }
      ]
    },
    {
      "cell_type": "code",
      "source": [
        "Age.reverse()"
      ],
      "metadata": {
        "id": "PYqAiUSK5_80"
      },
      "execution_count": 147,
      "outputs": []
    },
    {
      "cell_type": "code",
      "source": [
        "Age"
      ],
      "metadata": {
        "colab": {
          "base_uri": "https://localhost:8080/"
        },
        "id": "67XhUkU_6DnV",
        "outputId": "28df3ac6-1f00-4695-c3b6-fc67e644bb3e"
      },
      "execution_count": 148,
      "outputs": [
        {
          "output_type": "execute_result",
          "data": {
            "text/plain": [
              "[24, 25, 25, 27, 28, 29, 30, 45, 52, 100]"
            ]
          },
          "metadata": {},
          "execution_count": 148
        }
      ]
    },
    {
      "cell_type": "code",
      "source": [
        "Age[::-1]"
      ],
      "metadata": {
        "colab": {
          "base_uri": "https://localhost:8080/"
        },
        "id": "iosL9o-b6Egu",
        "outputId": "8e58d1fe-54a5-4ba6-aa4c-94458f8c79f8"
      },
      "execution_count": 149,
      "outputs": [
        {
          "output_type": "execute_result",
          "data": {
            "text/plain": [
              "[100, 52, 45, 30, 29, 28, 27, 25, 25, 24]"
            ]
          },
          "metadata": {},
          "execution_count": 149
        }
      ]
    },
    {
      "cell_type": "code",
      "source": [
        "Age.sort()  # ascending order"
      ],
      "metadata": {
        "id": "x52B_Oj76Loq"
      },
      "execution_count": 150,
      "outputs": []
    },
    {
      "cell_type": "code",
      "source": [
        "Age"
      ],
      "metadata": {
        "colab": {
          "base_uri": "https://localhost:8080/"
        },
        "id": "sYLu1rUs6OgE",
        "outputId": "7438f03c-3be8-4213-ce76-c4886c216151"
      },
      "execution_count": 151,
      "outputs": [
        {
          "output_type": "execute_result",
          "data": {
            "text/plain": [
              "[24, 25, 25, 27, 28, 29, 30, 45, 52, 100]"
            ]
          },
          "metadata": {},
          "execution_count": 151
        }
      ]
    },
    {
      "cell_type": "code",
      "source": [
        "Age.sort(reverse=True)  # dexcending order"
      ],
      "metadata": {
        "id": "KMEODROv6PGM"
      },
      "execution_count": 152,
      "outputs": []
    },
    {
      "cell_type": "code",
      "source": [
        "Age"
      ],
      "metadata": {
        "colab": {
          "base_uri": "https://localhost:8080/"
        },
        "id": "QQ1sgWvh6Rw6",
        "outputId": "130c7371-fb4f-42e4-94ef-51bccd3eaff4"
      },
      "execution_count": 153,
      "outputs": [
        {
          "output_type": "execute_result",
          "data": {
            "text/plain": [
              "[100, 52, 45, 30, 29, 28, 27, 25, 25, 24]"
            ]
          },
          "metadata": {},
          "execution_count": 153
        }
      ]
    },
    {
      "cell_type": "code",
      "source": [
        "Age.index(45)"
      ],
      "metadata": {
        "colab": {
          "base_uri": "https://localhost:8080/"
        },
        "id": "p37v8f_b6VpT",
        "outputId": "17b8aff6-229f-481d-c15a-fc144884856e"
      },
      "execution_count": 154,
      "outputs": [
        {
          "output_type": "execute_result",
          "data": {
            "text/plain": [
              "2"
            ]
          },
          "metadata": {},
          "execution_count": 154
        }
      ]
    },
    {
      "cell_type": "code",
      "source": [
        "Age[5:0:-1]"
      ],
      "metadata": {
        "id": "uAAZ72g466rC",
        "colab": {
          "base_uri": "https://localhost:8080/"
        },
        "outputId": "21afb5be-c47d-4120-9be5-c2a56804d45e"
      },
      "execution_count": 155,
      "outputs": [
        {
          "output_type": "execute_result",
          "data": {
            "text/plain": [
              "[28, 29, 30, 45, 52]"
            ]
          },
          "metadata": {},
          "execution_count": 155
        }
      ]
    },
    {
      "cell_type": "code",
      "source": [
        "Age"
      ],
      "metadata": {
        "colab": {
          "base_uri": "https://localhost:8080/"
        },
        "id": "YHL005QzMUbi",
        "outputId": "89d787b8-52f0-48de-affc-4f9bceeb1c06"
      },
      "execution_count": 156,
      "outputs": [
        {
          "output_type": "execute_result",
          "data": {
            "text/plain": [
              "[100, 52, 45, 30, 29, 28, 27, 25, 25, 24]"
            ]
          },
          "metadata": {},
          "execution_count": 156
        }
      ]
    },
    {
      "cell_type": "code",
      "source": [
        "Age[0:6:2]"
      ],
      "metadata": {
        "colab": {
          "base_uri": "https://localhost:8080/"
        },
        "id": "CxbJLy1BMVCI",
        "outputId": "219a5b9e-cfc2-488a-be5e-a5bcdfd7fda7"
      },
      "execution_count": 157,
      "outputs": [
        {
          "output_type": "execute_result",
          "data": {
            "text/plain": [
              "[100, 45, 29]"
            ]
          },
          "metadata": {},
          "execution_count": 157
        }
      ]
    },
    {
      "cell_type": "code",
      "source": [
        "Age[2]"
      ],
      "metadata": {
        "colab": {
          "base_uri": "https://localhost:8080/"
        },
        "id": "TjWlgGuhMZXE",
        "outputId": "22686d2e-22ab-4e2e-d2d3-6f8f9c2c1b24"
      },
      "execution_count": 158,
      "outputs": [
        {
          "output_type": "execute_result",
          "data": {
            "text/plain": [
              "45"
            ]
          },
          "metadata": {},
          "execution_count": 158
        }
      ]
    },
    {
      "cell_type": "code",
      "source": [
        "Age[2] = 50"
      ],
      "metadata": {
        "id": "nCFOc1bbMdHo"
      },
      "execution_count": 159,
      "outputs": []
    },
    {
      "cell_type": "code",
      "source": [
        "Age"
      ],
      "metadata": {
        "colab": {
          "base_uri": "https://localhost:8080/"
        },
        "id": "D0-M_Q1jMgLs",
        "outputId": "7727a36a-b47d-442e-eef1-e817e772ba99"
      },
      "execution_count": 160,
      "outputs": [
        {
          "output_type": "execute_result",
          "data": {
            "text/plain": [
              "[100, 52, 50, 30, 29, 28, 27, 25, 25, 24]"
            ]
          },
          "metadata": {},
          "execution_count": 160
        }
      ]
    },
    {
      "cell_type": "code",
      "source": [
        "# multiple list"
      ],
      "metadata": {
        "id": "qkIIEuWQMgpr"
      },
      "execution_count": 161,
      "outputs": []
    },
    {
      "cell_type": "code",
      "source": [
        "mul_list = [10,20,30]"
      ],
      "metadata": {
        "id": "A0TtNQpPMpdu"
      },
      "execution_count": 162,
      "outputs": []
    },
    {
      "cell_type": "code",
      "source": [
        "import numpy as np\n",
        "\n",
        "mul_list = np.array(mul_list)"
      ],
      "metadata": {
        "id": "QHZnJ-eVM44l"
      },
      "execution_count": 163,
      "outputs": []
    },
    {
      "cell_type": "code",
      "source": [
        "mul_list.shape"
      ],
      "metadata": {
        "colab": {
          "base_uri": "https://localhost:8080/"
        },
        "id": "WVoNbqtUM8iW",
        "outputId": "8eb06bf7-1933-4087-a65d-24ac2b7cfefa"
      },
      "execution_count": 164,
      "outputs": [
        {
          "output_type": "execute_result",
          "data": {
            "text/plain": [
              "(3,)"
            ]
          },
          "metadata": {},
          "execution_count": 164
        }
      ]
    },
    {
      "cell_type": "code",
      "source": [
        "mul_list.ndim"
      ],
      "metadata": {
        "colab": {
          "base_uri": "https://localhost:8080/"
        },
        "id": "HN6lfTTVNakv",
        "outputId": "f6fa2024-59e5-4d04-de50-e3d5d2c255ae"
      },
      "execution_count": 165,
      "outputs": [
        {
          "output_type": "execute_result",
          "data": {
            "text/plain": [
              "1"
            ]
          },
          "metadata": {},
          "execution_count": 165
        }
      ]
    },
    {
      "cell_type": "code",
      "source": [
        "mul_list1 = np.array([[10,20,30],[10,20,30]])"
      ],
      "metadata": {
        "id": "PY5o-F3xNdx7"
      },
      "execution_count": 166,
      "outputs": []
    },
    {
      "cell_type": "code",
      "source": [
        "mul_list1.shape"
      ],
      "metadata": {
        "colab": {
          "base_uri": "https://localhost:8080/"
        },
        "id": "ED83VHBuNtQo",
        "outputId": "46ab0351-67b9-498f-ccab-f1a333623331"
      },
      "execution_count": 167,
      "outputs": [
        {
          "output_type": "execute_result",
          "data": {
            "text/plain": [
              "(2, 3)"
            ]
          },
          "metadata": {},
          "execution_count": 167
        }
      ]
    },
    {
      "cell_type": "code",
      "source": [
        "mul_list1.ndim"
      ],
      "metadata": {
        "colab": {
          "base_uri": "https://localhost:8080/"
        },
        "id": "6WNX8EBlNufV",
        "outputId": "c1633f05-b9b7-4317-a2df-a91ec72206d8"
      },
      "execution_count": 168,
      "outputs": [
        {
          "output_type": "execute_result",
          "data": {
            "text/plain": [
              "2"
            ]
          },
          "metadata": {},
          "execution_count": 168
        }
      ]
    },
    {
      "cell_type": "code",
      "source": [
        "mul_list2 = np.array([[[[10,20,30],\n",
        "                      [10,20,30]]]])"
      ],
      "metadata": {
        "id": "naNNkdcvNwz4"
      },
      "execution_count": 169,
      "outputs": []
    },
    {
      "cell_type": "code",
      "source": [
        "mul_list2.shape"
      ],
      "metadata": {
        "colab": {
          "base_uri": "https://localhost:8080/"
        },
        "id": "awDc5SetOyfU",
        "outputId": "aa79ccd7-3501-4630-f2bb-871bec7d721a"
      },
      "execution_count": 170,
      "outputs": [
        {
          "output_type": "execute_result",
          "data": {
            "text/plain": [
              "(1, 1, 2, 3)"
            ]
          },
          "metadata": {},
          "execution_count": 170
        }
      ]
    },
    {
      "cell_type": "code",
      "source": [
        "mul_list2.ndim"
      ],
      "metadata": {
        "colab": {
          "base_uri": "https://localhost:8080/"
        },
        "id": "9sRrF-3CO1T2",
        "outputId": "c25c1a71-7645-49e0-d133-e57eb9b3861c"
      },
      "execution_count": 171,
      "outputs": [
        {
          "output_type": "execute_result",
          "data": {
            "text/plain": [
              "4"
            ]
          },
          "metadata": {},
          "execution_count": 171
        }
      ]
    },
    {
      "cell_type": "code",
      "source": [
        "mul_list2[0][0][0][1] = 30"
      ],
      "metadata": {
        "id": "GNuvG57KO2zK"
      },
      "execution_count": 172,
      "outputs": []
    },
    {
      "cell_type": "code",
      "source": [
        "mul_list2"
      ],
      "metadata": {
        "colab": {
          "base_uri": "https://localhost:8080/"
        },
        "id": "fQe2kz6DPTLS",
        "outputId": "2c8b4076-8be6-4b9f-c365-0b330b6049a1"
      },
      "execution_count": 173,
      "outputs": [
        {
          "output_type": "execute_result",
          "data": {
            "text/plain": [
              "array([[[[10, 30, 30],\n",
              "         [10, 20, 30]]]])"
            ]
          },
          "metadata": {},
          "execution_count": 173
        }
      ]
    },
    {
      "cell_type": "code",
      "source": [
        "mul_list3 = [[12,30,60],[1,2,3,[4,5,6],[5,6,9,[4,8,9,[0,0,0]]]]]"
      ],
      "metadata": {
        "id": "UZRShEXwQwhU"
      },
      "execution_count": 174,
      "outputs": []
    },
    {
      "cell_type": "code",
      "source": [
        "mul_list3[1][4][3][3]"
      ],
      "metadata": {
        "colab": {
          "base_uri": "https://localhost:8080/"
        },
        "id": "jG1_1mVRRDCE",
        "outputId": "c5601cc5-1ffc-4553-827e-ba01024de7e3"
      },
      "execution_count": 175,
      "outputs": [
        {
          "output_type": "execute_result",
          "data": {
            "text/plain": [
              "[0, 0, 0]"
            ]
          },
          "metadata": {},
          "execution_count": 175
        }
      ]
    },
    {
      "cell_type": "code",
      "source": [
        "mul_list3[1][4][1] = 7     # 6 ----> 7"
      ],
      "metadata": {
        "id": "9dPP3RTPRGMU"
      },
      "execution_count": 176,
      "outputs": []
    },
    {
      "cell_type": "code",
      "source": [
        "mul_list3"
      ],
      "metadata": {
        "colab": {
          "base_uri": "https://localhost:8080/"
        },
        "id": "5M7gvMr1TxeA",
        "outputId": "d495afda-fbd1-4c2c-f968-dc5a6a931bab"
      },
      "execution_count": 177,
      "outputs": [
        {
          "output_type": "execute_result",
          "data": {
            "text/plain": [
              "[[12, 30, 60], [1, 2, 3, [4, 5, 6], [5, 7, 9, [4, 8, 9, [0, 0, 0]]]]]"
            ]
          },
          "metadata": {},
          "execution_count": 177
        }
      ]
    },
    {
      "cell_type": "code",
      "source": [
        "# python builtin function"
      ],
      "metadata": {
        "id": "22JIhjURUQsN"
      },
      "execution_count": 178,
      "outputs": []
    },
    {
      "cell_type": "code",
      "source": [
        "min(), max(), sum(), len(), abs()"
      ],
      "metadata": {
        "id": "hAhuIlq-Uxa4"
      },
      "execution_count": null,
      "outputs": []
    },
    {
      "cell_type": "code",
      "source": [
        "marks = [56,58,59,93,63,77]"
      ],
      "metadata": {
        "id": "28ugNFu3U4_4"
      },
      "execution_count": 179,
      "outputs": []
    },
    {
      "cell_type": "code",
      "source": [
        "min(marks), max(marks), sum(marks), len(marks), abs(-90)"
      ],
      "metadata": {
        "colab": {
          "base_uri": "https://localhost:8080/"
        },
        "id": "kwFDx5J0ZNkB",
        "outputId": "d3ca5e38-5326-4a35-e459-7beb01326ea3"
      },
      "execution_count": 180,
      "outputs": [
        {
          "output_type": "execute_result",
          "data": {
            "text/plain": [
              "(56, 93, 406, 6, 90)"
            ]
          },
          "metadata": {},
          "execution_count": 180
        }
      ]
    },
    {
      "cell_type": "code",
      "source": [
        "avg_marks = sum(marks)/len(marks)\n",
        "avg_marks"
      ],
      "metadata": {
        "colab": {
          "base_uri": "https://localhost:8080/"
        },
        "id": "65QLRhPQZSQq",
        "outputId": "d2a71c7f-336a-49ce-da62-bac530de7c7e"
      },
      "execution_count": 181,
      "outputs": [
        {
          "output_type": "execute_result",
          "data": {
            "text/plain": [
              "67.66666666666667"
            ]
          },
          "metadata": {},
          "execution_count": 181
        }
      ]
    },
    {
      "cell_type": "code",
      "source": [
        "round(avg_marks,3)"
      ],
      "metadata": {
        "colab": {
          "base_uri": "https://localhost:8080/"
        },
        "id": "eUIafoaiZjHN",
        "outputId": "f28b479a-0959-4934-e793-84b335855241"
      },
      "execution_count": 182,
      "outputs": [
        {
          "output_type": "execute_result",
          "data": {
            "text/plain": [
              "67.667"
            ]
          },
          "metadata": {},
          "execution_count": 182
        }
      ]
    },
    {
      "cell_type": "code",
      "source": [
        "student_age = [28, 29, 30, 45, 86, 52,23, [26,29], 24, 25]"
      ],
      "metadata": {
        "id": "iPJrjx8gZpPp"
      },
      "execution_count": 183,
      "outputs": []
    },
    {
      "cell_type": "code",
      "source": [
        "student_age.extend([26,29])"
      ],
      "metadata": {
        "id": "dgB4UBKQauqj"
      },
      "execution_count": 184,
      "outputs": []
    },
    {
      "cell_type": "code",
      "source": [
        "student_age.remove([26, 29])"
      ],
      "metadata": {
        "id": "otXP-d3Sa0m7"
      },
      "execution_count": 185,
      "outputs": []
    },
    {
      "cell_type": "code",
      "source": [
        "student_avg = sum(student_age)/len(student_age)\n",
        "student_avg"
      ],
      "metadata": {
        "colab": {
          "base_uri": "https://localhost:8080/"
        },
        "id": "l2DrzojZaaZ_",
        "outputId": "c7ac7dec-9787-449c-dc31-47f67fcb7d4e"
      },
      "execution_count": 186,
      "outputs": [
        {
          "output_type": "execute_result",
          "data": {
            "text/plain": [
              "36.09090909090909"
            ]
          },
          "metadata": {},
          "execution_count": 186
        }
      ]
    },
    {
      "cell_type": "code",
      "source": [
        "# convert the student name in upper case\n",
        "student_name = ['Prajwal','juhaib','aryan','ram']"
      ],
      "metadata": {
        "id": "oWvbMJLnaefk"
      },
      "execution_count": 187,
      "outputs": []
    },
    {
      "cell_type": "code",
      "source": [
        "# convert the student name in upper case\n",
        "# student_name = ['Prajwal','juhaib','aryan','ram']\n",
        "# student_name_upper = [name.upper() for name in student_name]\n",
        "# print(student_name_upper)"
      ],
      "metadata": {
        "id": "j7_RhqSjbbaT"
      },
      "execution_count": 188,
      "outputs": []
    },
    {
      "cell_type": "code",
      "source": [
        "student_name[0].upper(), student_name[1].upper(), student_name[2].upper(), student_name[3].upper()"
      ],
      "metadata": {
        "colab": {
          "base_uri": "https://localhost:8080/"
        },
        "id": "B5pf4SLZbXfJ",
        "outputId": "a3a3ad9e-bb74-44f3-e6f3-e14629dedb05"
      },
      "execution_count": 189,
      "outputs": [
        {
          "output_type": "execute_result",
          "data": {
            "text/plain": [
              "('PRAJWAL', 'JUHAIB', 'ARYAN', 'RAM')"
            ]
          },
          "metadata": {},
          "execution_count": 189
        }
      ]
    },
    {
      "cell_type": "code",
      "source": [
        "#        Tuple : immutable type data structure.\n",
        "# cann't update the tuple data\n",
        "# cann't assign a new value\n",
        "# cann't delete a value from a tuple."
      ],
      "metadata": {
        "id": "n3alSsfUcabh"
      },
      "execution_count": 191,
      "outputs": []
    },
    {
      "cell_type": "code",
      "source": [
        "# Create tuple data\n",
        "t = tuple()\n",
        "T = 10,20,30,40\n",
        "y = (10,20,30)"
      ],
      "metadata": {
        "id": "08UOkbcec2bz"
      },
      "execution_count": 192,
      "outputs": []
    },
    {
      "cell_type": "code",
      "source": [
        "print(type(t))\n",
        "print(type(T))\n",
        "print(type(y))"
      ],
      "metadata": {
        "colab": {
          "base_uri": "https://localhost:8080/"
        },
        "id": "JiBLV8b3dY48",
        "outputId": "9be2f611-04ab-488c-da4a-955dd0e4455f"
      },
      "execution_count": 193,
      "outputs": [
        {
          "output_type": "stream",
          "name": "stdout",
          "text": [
            "<class 'tuple'>\n",
            "<class 'tuple'>\n",
            "<class 'tuple'>\n"
          ]
        }
      ]
    },
    {
      "cell_type": "code",
      "source": [
        "y[0]"
      ],
      "metadata": {
        "colab": {
          "base_uri": "https://localhost:8080/"
        },
        "id": "8vbv2AKQdiTT",
        "outputId": "a5ebea18-aa76-40f2-bd4b-0019044c2eee"
      },
      "execution_count": 194,
      "outputs": [
        {
          "output_type": "execute_result",
          "data": {
            "text/plain": [
              "10"
            ]
          },
          "metadata": {},
          "execution_count": 194
        }
      ]
    },
    {
      "cell_type": "code",
      "source": [
        "T.count(10), T.index(10)"
      ],
      "metadata": {
        "colab": {
          "base_uri": "https://localhost:8080/"
        },
        "id": "BXcHwfpgdtVb",
        "outputId": "dd50bff1-1450-4a3b-a518-efc4947233fd"
      },
      "execution_count": 195,
      "outputs": [
        {
          "output_type": "execute_result",
          "data": {
            "text/plain": [
              "(1, 0)"
            ]
          },
          "metadata": {},
          "execution_count": 195
        }
      ]
    },
    {
      "cell_type": "code",
      "source": [
        "# Converting to list"
      ],
      "metadata": {
        "id": "RVHS9PTDd4JN"
      },
      "execution_count": 199,
      "outputs": []
    },
    {
      "cell_type": "code",
      "source": [
        "List = list(T)\n",
        "List.append(80)\n",
        "print(T)\n",
        "print(type(T))"
      ],
      "metadata": {
        "colab": {
          "base_uri": "https://localhost:8080/"
        },
        "id": "EVvSlvZ2d_i5",
        "outputId": "1decf168-7458-417f-9200-b02dbc234869"
      },
      "execution_count": 200,
      "outputs": [
        {
          "output_type": "stream",
          "name": "stdout",
          "text": [
            "(10, 20, 30, 40)\n",
            "<class 'tuple'>\n"
          ]
        }
      ]
    },
    {
      "cell_type": "code",
      "source": [
        "List"
      ],
      "metadata": {
        "colab": {
          "base_uri": "https://localhost:8080/"
        },
        "id": "bZ9h5IvZePSg",
        "outputId": "91b2bbbf-b955-4126-fcae-2e0c627c5696"
      },
      "execution_count": 201,
      "outputs": [
        {
          "output_type": "execute_result",
          "data": {
            "text/plain": [
              "[10, 20, 30, 40, 80]"
            ]
          },
          "metadata": {},
          "execution_count": 201
        }
      ]
    },
    {
      "cell_type": "code",
      "source": [
        "T = tuple(List)\n",
        "print(T)\n",
        "print(type(T))"
      ],
      "metadata": {
        "colab": {
          "base_uri": "https://localhost:8080/"
        },
        "id": "Bl1mcMcmeahg",
        "outputId": "3dd28c71-b4a4-43ac-a74b-9d1d5b2b1c03"
      },
      "execution_count": 202,
      "outputs": [
        {
          "output_type": "stream",
          "name": "stdout",
          "text": [
            "(10, 20, 30, 40, 80)\n",
            "<class 'tuple'>\n"
          ]
        }
      ]
    },
    {
      "cell_type": "code",
      "source": [
        "# Set type of data structure\n",
        "# default unique + ascending order\n",
        "# the data is not on basis of indexing"
      ],
      "metadata": {
        "id": "pjfZUXFWehYG"
      },
      "execution_count": 203,
      "outputs": []
    },
    {
      "cell_type": "code",
      "source": [
        "# Create a set type of data\n",
        "S = {10, 20, 30}\n",
        "R = set()\n",
        "print(S)\n",
        "print(R)\n",
        "print(type(S)), print(type(R))"
      ],
      "metadata": {
        "colab": {
          "base_uri": "https://localhost:8080/"
        },
        "id": "ECLc_m-Ke_1c",
        "outputId": "15dbdf7e-2111-47cd-f0fd-1930539345cb"
      },
      "execution_count": 204,
      "outputs": [
        {
          "output_type": "stream",
          "name": "stdout",
          "text": [
            "{10, 20, 30}\n",
            "set()\n",
            "<class 'set'>\n",
            "<class 'set'>\n"
          ]
        },
        {
          "output_type": "execute_result",
          "data": {
            "text/plain": [
              "(None, None)"
            ]
          },
          "metadata": {},
          "execution_count": 204
        }
      ]
    },
    {
      "cell_type": "code",
      "source": [
        "set1 = {10,20,34,50,59,88,78,98,23,30,10,20,30}\n",
        "set1"
      ],
      "metadata": {
        "colab": {
          "base_uri": "https://localhost:8080/"
        },
        "id": "zN73vsYzf5fA",
        "outputId": "98cea8ea-ff5c-4edb-8cae-82f9bb90bc76"
      },
      "execution_count": 205,
      "outputs": [
        {
          "output_type": "execute_result",
          "data": {
            "text/plain": [
              "{10, 20, 23, 30, 34, 50, 59, 78, 88, 98}"
            ]
          },
          "metadata": {},
          "execution_count": 205
        }
      ]
    },
    {
      "cell_type": "code",
      "source": [
        "set2 = {10,20,30,50,60,10,20}\n",
        "set2"
      ],
      "metadata": {
        "colab": {
          "base_uri": "https://localhost:8080/"
        },
        "id": "0BVOsXpGf87P",
        "outputId": "8c4903d2-44a2-43e0-cfb4-8816158f9b0c"
      },
      "execution_count": 206,
      "outputs": [
        {
          "output_type": "execute_result",
          "data": {
            "text/plain": [
              "{10, 20, 30, 50, 60}"
            ]
          },
          "metadata": {},
          "execution_count": 206
        }
      ]
    },
    {
      "cell_type": "code",
      "source": [
        "set1, set2"
      ],
      "metadata": {
        "colab": {
          "base_uri": "https://localhost:8080/"
        },
        "id": "86wYQX1vgGFs",
        "outputId": "29c207ab-d146-4556-ff32-c19fafcf81e0"
      },
      "execution_count": 207,
      "outputs": [
        {
          "output_type": "execute_result",
          "data": {
            "text/plain": [
              "({10, 20, 23, 30, 34, 50, 59, 78, 88, 98}, {10, 20, 30, 50, 60})"
            ]
          },
          "metadata": {},
          "execution_count": 207
        }
      ]
    },
    {
      "cell_type": "code",
      "source": [
        "set1.add(19)\n",
        "set1"
      ],
      "metadata": {
        "colab": {
          "base_uri": "https://localhost:8080/"
        },
        "id": "PN1_saU4gqZl",
        "outputId": "9c6e76c1-659a-4fb2-a694-d58a882c76a9"
      },
      "execution_count": 208,
      "outputs": [
        {
          "output_type": "execute_result",
          "data": {
            "text/plain": [
              "{10, 19, 20, 23, 30, 34, 50, 59, 78, 88, 98}"
            ]
          },
          "metadata": {},
          "execution_count": 208
        }
      ]
    },
    {
      "cell_type": "code",
      "source": [
        "set1.update({104,105})\n",
        "set1"
      ],
      "metadata": {
        "colab": {
          "base_uri": "https://localhost:8080/"
        },
        "id": "_ikfXiIpgtdc",
        "outputId": "28b0771a-59fc-4b3f-a2a5-773aa2c25445"
      },
      "execution_count": 209,
      "outputs": [
        {
          "output_type": "execute_result",
          "data": {
            "text/plain": [
              "{10, 19, 20, 23, 30, 34, 50, 59, 78, 88, 98, 104, 105}"
            ]
          },
          "metadata": {},
          "execution_count": 209
        }
      ]
    },
    {
      "cell_type": "code",
      "source": [
        "set1.pop()"
      ],
      "metadata": {
        "colab": {
          "base_uri": "https://localhost:8080/"
        },
        "id": "v9-nhbElhPnA",
        "outputId": "169e306e-5b49-445f-8709-0e3ab23ae079"
      },
      "execution_count": 210,
      "outputs": [
        {
          "output_type": "execute_result",
          "data": {
            "text/plain": [
              "34"
            ]
          },
          "metadata": {},
          "execution_count": 210
        }
      ]
    },
    {
      "cell_type": "code",
      "source": [
        "set1.remove(59)"
      ],
      "metadata": {
        "id": "DVukmGpFha52"
      },
      "execution_count": 211,
      "outputs": []
    },
    {
      "cell_type": "code",
      "source": [
        "set1"
      ],
      "metadata": {
        "colab": {
          "base_uri": "https://localhost:8080/"
        },
        "id": "TVGNgsTehdow",
        "outputId": "b2aafc95-6636-4ae1-d4bb-3028f4b8661b"
      },
      "execution_count": 212,
      "outputs": [
        {
          "output_type": "execute_result",
          "data": {
            "text/plain": [
              "{10, 19, 20, 23, 30, 50, 78, 88, 98, 104, 105}"
            ]
          },
          "metadata": {},
          "execution_count": 212
        }
      ]
    },
    {
      "cell_type": "code",
      "source": [
        "name1 = {'prajwal','juhaib','aryan','ram','pyarellall','aryan','ram','pyarellall'}\n",
        "name2 = {'aryan','ram','pyarellall','binit','venkatesh','tej','rajshri','tanuja'}"
      ],
      "metadata": {
        "id": "JxvyevySh6Q5"
      },
      "execution_count": 213,
      "outputs": []
    },
    {
      "cell_type": "code",
      "source": [
        "name1, name2"
      ],
      "metadata": {
        "colab": {
          "base_uri": "https://localhost:8080/"
        },
        "id": "7pAcHfvfjQfi",
        "outputId": "e5d084d8-26ba-40b6-fa10-00abd22efa9e"
      },
      "execution_count": 214,
      "outputs": [
        {
          "output_type": "execute_result",
          "data": {
            "text/plain": [
              "({'aryan', 'juhaib', 'prajwal', 'pyarellall', 'ram'},\n",
              " {'aryan',\n",
              "  'binit',\n",
              "  'pyarellall',\n",
              "  'rajshri',\n",
              "  'ram',\n",
              "  'tanuja',\n",
              "  'tej',\n",
              "  'venkatesh'})"
            ]
          },
          "metadata": {},
          "execution_count": 214
        }
      ]
    },
    {
      "cell_type": "code",
      "source": [
        "name1.union(name2)"
      ],
      "metadata": {
        "colab": {
          "base_uri": "https://localhost:8080/"
        },
        "id": "dp03f2Uxje_g",
        "outputId": "22776d65-3583-4205-c1ca-6cf1d0ae97bb"
      },
      "execution_count": 215,
      "outputs": [
        {
          "output_type": "execute_result",
          "data": {
            "text/plain": [
              "{'aryan',\n",
              " 'binit',\n",
              " 'juhaib',\n",
              " 'prajwal',\n",
              " 'pyarellall',\n",
              " 'rajshri',\n",
              " 'ram',\n",
              " 'tanuja',\n",
              " 'tej',\n",
              " 'venkatesh'}"
            ]
          },
          "metadata": {},
          "execution_count": 215
        }
      ]
    },
    {
      "cell_type": "code",
      "source": [
        "name1.difference(name2)"
      ],
      "metadata": {
        "colab": {
          "base_uri": "https://localhost:8080/"
        },
        "id": "Y4UOWUIej7ci",
        "outputId": "c873222b-b354-42ee-b264-840aa0f32017"
      },
      "execution_count": 216,
      "outputs": [
        {
          "output_type": "execute_result",
          "data": {
            "text/plain": [
              "{'juhaib', 'prajwal'}"
            ]
          },
          "metadata": {},
          "execution_count": 216
        }
      ]
    },
    {
      "cell_type": "code",
      "source": [
        "name2.difference(name1)"
      ],
      "metadata": {
        "colab": {
          "base_uri": "https://localhost:8080/"
        },
        "id": "-fY4OL5Gk34F",
        "outputId": "90470afe-c5e9-4c06-a218-4428ac21c4eb"
      },
      "execution_count": 217,
      "outputs": [
        {
          "output_type": "execute_result",
          "data": {
            "text/plain": [
              "{'binit', 'rajshri', 'tanuja', 'tej', 'venkatesh'}"
            ]
          },
          "metadata": {},
          "execution_count": 217
        }
      ]
    },
    {
      "cell_type": "code",
      "source": [
        "name1.intersection(name2)"
      ],
      "metadata": {
        "colab": {
          "base_uri": "https://localhost:8080/"
        },
        "id": "LqEZCTZekuZ0",
        "outputId": "366160a5-0f20-4295-f742-7c8814b6fef2"
      },
      "execution_count": 218,
      "outputs": [
        {
          "output_type": "execute_result",
          "data": {
            "text/plain": [
              "{'aryan', 'pyarellall', 'ram'}"
            ]
          },
          "metadata": {},
          "execution_count": 218
        }
      ]
    },
    {
      "cell_type": "code",
      "source": [
        "name2.intersection(name1)"
      ],
      "metadata": {
        "colab": {
          "base_uri": "https://localhost:8080/"
        },
        "id": "WFVDjxQQlG7F",
        "outputId": "d945d9ca-c435-4339-9807-aaa1bb18c769"
      },
      "execution_count": 219,
      "outputs": [
        {
          "output_type": "execute_result",
          "data": {
            "text/plain": [
              "{'aryan', 'pyarellall', 'ram'}"
            ]
          },
          "metadata": {},
          "execution_count": 219
        }
      ]
    },
    {
      "cell_type": "code",
      "source": [
        "name1.symmetric_difference(name2)"
      ],
      "metadata": {
        "colab": {
          "base_uri": "https://localhost:8080/"
        },
        "id": "Zl675TDilNKW",
        "outputId": "5d6801a7-e80a-47a9-96ba-6be0b817a264"
      },
      "execution_count": 220,
      "outputs": [
        {
          "output_type": "execute_result",
          "data": {
            "text/plain": [
              "{'binit', 'juhaib', 'prajwal', 'rajshri', 'tanuja', 'tej', 'venkatesh'}"
            ]
          },
          "metadata": {},
          "execution_count": 220
        }
      ]
    },
    {
      "cell_type": "code",
      "source": [
        "name1.difference_update(name2)"
      ],
      "metadata": {
        "id": "K72Uzt8qljJ1"
      },
      "execution_count": 221,
      "outputs": []
    },
    {
      "cell_type": "code",
      "source": [
        "name1, name2"
      ],
      "metadata": {
        "colab": {
          "base_uri": "https://localhost:8080/"
        },
        "id": "_FDxEheTno0O",
        "outputId": "7e15abed-ac05-4bac-ad34-c87698c92f84"
      },
      "execution_count": 222,
      "outputs": [
        {
          "output_type": "execute_result",
          "data": {
            "text/plain": [
              "({'juhaib', 'prajwal'},\n",
              " {'aryan',\n",
              "  'binit',\n",
              "  'pyarellall',\n",
              "  'rajshri',\n",
              "  'ram',\n",
              "  'tanuja',\n",
              "  'tej',\n",
              "  'venkatesh'})"
            ]
          },
          "metadata": {},
          "execution_count": 222
        }
      ]
    },
    {
      "cell_type": "code",
      "source": [
        "name1.intersection(name2)"
      ],
      "metadata": {
        "colab": {
          "base_uri": "https://localhost:8080/"
        },
        "id": "rHL03dvwnxoP",
        "outputId": "915a69e6-0987-4bb8-e36b-8ae8d497f785"
      },
      "execution_count": 223,
      "outputs": [
        {
          "output_type": "execute_result",
          "data": {
            "text/plain": [
              "set()"
            ]
          },
          "metadata": {},
          "execution_count": 223
        }
      ]
    },
    {
      "cell_type": "code",
      "source": [
        "name1.intersection_update(name2)"
      ],
      "metadata": {
        "id": "z2c1SxaMoClD"
      },
      "execution_count": 224,
      "outputs": []
    },
    {
      "cell_type": "code",
      "source": [
        "name1, name2"
      ],
      "metadata": {
        "colab": {
          "base_uri": "https://localhost:8080/"
        },
        "id": "Gitf6VmfoEnW",
        "outputId": "f66e7b93-8b68-42e9-ea1d-17ac01d59f09"
      },
      "execution_count": 225,
      "outputs": [
        {
          "output_type": "execute_result",
          "data": {
            "text/plain": [
              "(set(),\n",
              " {'aryan',\n",
              "  'binit',\n",
              "  'pyarellall',\n",
              "  'rajshri',\n",
              "  'ram',\n",
              "  'tanuja',\n",
              "  'tej',\n",
              "  'venkatesh'})"
            ]
          },
          "metadata": {},
          "execution_count": 225
        }
      ]
    },
    {
      "cell_type": "code",
      "source": [
        "name1.symmetric_difference(name2)"
      ],
      "metadata": {
        "colab": {
          "base_uri": "https://localhost:8080/"
        },
        "id": "3wVDMwPEoGtq",
        "outputId": "7fc37acb-4ebe-4c97-cf83-974d8973852c"
      },
      "execution_count": 226,
      "outputs": [
        {
          "output_type": "execute_result",
          "data": {
            "text/plain": [
              "{'aryan',\n",
              " 'binit',\n",
              " 'pyarellall',\n",
              " 'rajshri',\n",
              " 'ram',\n",
              " 'tanuja',\n",
              " 'tej',\n",
              " 'venkatesh'}"
            ]
          },
          "metadata": {},
          "execution_count": 226
        }
      ]
    },
    {
      "cell_type": "code",
      "source": [
        "name1.symmetric_difference_update(name2)"
      ],
      "metadata": {
        "id": "Jmg7i8sYoPbL"
      },
      "execution_count": 227,
      "outputs": []
    },
    {
      "cell_type": "code",
      "source": [
        "A = {1,2,3,4,5,6,7,8,9,10}\n",
        "B = {1,2,3,4,8,9,10}"
      ],
      "metadata": {
        "id": "c_u4bYF9oTZG"
      },
      "execution_count": 228,
      "outputs": []
    },
    {
      "cell_type": "code",
      "source": [
        "B.issubset(A), A.issuperset(B)"
      ],
      "metadata": {
        "colab": {
          "base_uri": "https://localhost:8080/"
        },
        "id": "nYgFQkRspxde",
        "outputId": "08542462-cd7e-4cb1-83ca-cb2cd92a0b15"
      },
      "execution_count": 229,
      "outputs": [
        {
          "output_type": "execute_result",
          "data": {
            "text/plain": [
              "(True, True)"
            ]
          },
          "metadata": {},
          "execution_count": 229
        }
      ]
    },
    {
      "cell_type": "code",
      "source": [
        "B.issuperset(A), A.issubset(B)"
      ],
      "metadata": {
        "colab": {
          "base_uri": "https://localhost:8080/"
        },
        "id": "APC8RXPhp2bX",
        "outputId": "1aeef4eb-729d-4376-fa0f-12665fea7f70"
      },
      "execution_count": 230,
      "outputs": [
        {
          "output_type": "execute_result",
          "data": {
            "text/plain": [
              "(False, False)"
            ]
          },
          "metadata": {},
          "execution_count": 230
        }
      ]
    },
    {
      "cell_type": "markdown",
      "source": [
        "# Disctionary"
      ],
      "metadata": {
        "id": "LzCyzqbcqBKO"
      }
    },
    {
      "cell_type": "code",
      "source": [
        "# Dictionary: (Key: Value) pairs, comma seperated.\n",
        "#  {}, {'key': values}"
      ],
      "metadata": {
        "id": "qRk2w9e2p8A4"
      },
      "execution_count": null,
      "outputs": []
    },
    {
      "cell_type": "code",
      "source": [
        "Dict1 = {}\n",
        "type(Dict1)"
      ],
      "metadata": {
        "colab": {
          "base_uri": "https://localhost:8080/"
        },
        "id": "bQ-2Y1NaqYAE",
        "outputId": "a7a9ae41-7b62-465a-ac07-e8341264267e"
      },
      "execution_count": 231,
      "outputs": [
        {
          "output_type": "execute_result",
          "data": {
            "text/plain": [
              "dict"
            ]
          },
          "metadata": {},
          "execution_count": 231
        }
      ]
    },
    {
      "cell_type": "code",
      "source": [
        "Dict1 = {'key1' : 1,\n",
        "         'key2' : 2,\n",
        "         'key3' : 3,\n",
        "         'key4' : 4}\n",
        "type(Dict1)"
      ],
      "metadata": {
        "colab": {
          "base_uri": "https://localhost:8080/"
        },
        "id": "wKy2lUf9qvy5",
        "outputId": "deacf8d6-eb13-4bd2-9dc5-686bd2b1b963"
      },
      "execution_count": 232,
      "outputs": [
        {
          "output_type": "execute_result",
          "data": {
            "text/plain": [
              "dict"
            ]
          },
          "metadata": {},
          "execution_count": 232
        }
      ]
    },
    {
      "cell_type": "code",
      "source": [
        "Dict2 = {1 : 10,\n",
        "         2 : 'excelr',\n",
        "         3 : True,\n",
        "         4 : 20.3}\n",
        "type(Dict2)"
      ],
      "metadata": {
        "colab": {
          "base_uri": "https://localhost:8080/"
        },
        "id": "nTekckBIrpf9",
        "outputId": "899cc1d7-7a6e-442e-f5cd-f067f79a3c3f"
      },
      "execution_count": 233,
      "outputs": [
        {
          "output_type": "execute_result",
          "data": {
            "text/plain": [
              "dict"
            ]
          },
          "metadata": {},
          "execution_count": 233
        }
      ]
    },
    {
      "cell_type": "code",
      "source": [
        "Dict1['key1'], Dict1.get('key1')"
      ],
      "metadata": {
        "colab": {
          "base_uri": "https://localhost:8080/"
        },
        "id": "jY-ypekgr5dg",
        "outputId": "5e4f5c79-947c-4bfc-cc74-9720ad00d498"
      },
      "execution_count": 234,
      "outputs": [
        {
          "output_type": "execute_result",
          "data": {
            "text/plain": [
              "(1, 1)"
            ]
          },
          "metadata": {},
          "execution_count": 234
        }
      ]
    },
    {
      "cell_type": "code",
      "source": [
        "Dict1.keys()"
      ],
      "metadata": {
        "colab": {
          "base_uri": "https://localhost:8080/"
        },
        "id": "PXa0f-Ixs2FQ",
        "outputId": "d8a79d33-be66-4f66-a9bd-c46de73a14d9"
      },
      "execution_count": 235,
      "outputs": [
        {
          "output_type": "execute_result",
          "data": {
            "text/plain": [
              "dict_keys(['key1', 'key2', 'key3', 'key4'])"
            ]
          },
          "metadata": {},
          "execution_count": 235
        }
      ]
    },
    {
      "cell_type": "code",
      "source": [
        "Dict1.values()"
      ],
      "metadata": {
        "colab": {
          "base_uri": "https://localhost:8080/"
        },
        "id": "jorwDKxptDs-",
        "outputId": "bfc4d0dc-f4d1-4b08-93cc-18c16821bae7"
      },
      "execution_count": 236,
      "outputs": [
        {
          "output_type": "execute_result",
          "data": {
            "text/plain": [
              "dict_values([1, 2, 3, 4])"
            ]
          },
          "metadata": {},
          "execution_count": 236
        }
      ]
    },
    {
      "cell_type": "code",
      "source": [
        "Dict1.items()"
      ],
      "metadata": {
        "id": "xlbsbuSitH7m",
        "outputId": "9485a974-841e-4b2f-8f9c-eb92d113db89",
        "colab": {
          "base_uri": "https://localhost:8080/"
        }
      },
      "execution_count": 237,
      "outputs": [
        {
          "output_type": "execute_result",
          "data": {
            "text/plain": [
              "dict_items([('key1', 1), ('key2', 2), ('key3', 3), ('key4', 4)])"
            ]
          },
          "metadata": {},
          "execution_count": 237
        }
      ]
    },
    {
      "cell_type": "code",
      "source": [
        "Dict1['key1']"
      ],
      "metadata": {
        "id": "Mfg98gzotL-O",
        "colab": {
          "base_uri": "https://localhost:8080/"
        },
        "outputId": "595f6560-bb3d-4803-afc1-a4a368b0bd24"
      },
      "execution_count": 238,
      "outputs": [
        {
          "output_type": "execute_result",
          "data": {
            "text/plain": [
              "1"
            ]
          },
          "metadata": {},
          "execution_count": 238
        }
      ]
    },
    {
      "cell_type": "code",
      "source": [
        "Dict1.pop('key1')"
      ],
      "metadata": {
        "colab": {
          "base_uri": "https://localhost:8080/"
        },
        "id": "odWVRIbU-4Sn",
        "outputId": "0a726b42-f599-44ae-9e36-bec1563b4219"
      },
      "execution_count": 239,
      "outputs": [
        {
          "output_type": "execute_result",
          "data": {
            "text/plain": [
              "1"
            ]
          },
          "metadata": {},
          "execution_count": 239
        }
      ]
    },
    {
      "cell_type": "code",
      "source": [
        "Dict1"
      ],
      "metadata": {
        "colab": {
          "base_uri": "https://localhost:8080/"
        },
        "id": "haAay9JJ_CbW",
        "outputId": "8e6a9be8-b352-4f9c-9ee6-faff0ebc29b1"
      },
      "execution_count": 240,
      "outputs": [
        {
          "output_type": "execute_result",
          "data": {
            "text/plain": [
              "{'key2': 2, 'key3': 3, 'key4': 4}"
            ]
          },
          "metadata": {},
          "execution_count": 240
        }
      ]
    },
    {
      "cell_type": "code",
      "source": [
        "Dict1.popitem()"
      ],
      "metadata": {
        "colab": {
          "base_uri": "https://localhost:8080/"
        },
        "id": "alMe3tLl_aDt",
        "outputId": "cc9fa6c5-4f61-41d3-803c-fc20e2fe1246"
      },
      "execution_count": 241,
      "outputs": [
        {
          "output_type": "execute_result",
          "data": {
            "text/plain": [
              "('key4', 4)"
            ]
          },
          "metadata": {},
          "execution_count": 241
        }
      ]
    },
    {
      "cell_type": "code",
      "source": [
        "Dict1.update({'key': 1})"
      ],
      "metadata": {
        "id": "aY7XyG9T_dQ_"
      },
      "execution_count": 242,
      "outputs": []
    },
    {
      "cell_type": "code",
      "source": [
        "Dict1"
      ],
      "metadata": {
        "colab": {
          "base_uri": "https://localhost:8080/"
        },
        "id": "IB-AT4OG_j0i",
        "outputId": "642b90ee-7c50-46a0-b27e-b8020d803298"
      },
      "execution_count": 243,
      "outputs": [
        {
          "output_type": "execute_result",
          "data": {
            "text/plain": [
              "{'key2': 2, 'key3': 3, 'key': 1}"
            ]
          },
          "metadata": {},
          "execution_count": 243
        }
      ]
    },
    {
      "cell_type": "code",
      "source": [
        "student_info = {'name': 'Prajwal',\n",
        "                'age' : 26,\n",
        "                'course': ['DS','DA','AWS'],\n",
        "                'marks': [80,90,60]}"
      ],
      "metadata": {
        "id": "YnE7EHBX_mVN"
      },
      "execution_count": 251,
      "outputs": []
    },
    {
      "cell_type": "code",
      "source": [
        "type(student_info)"
      ],
      "metadata": {
        "colab": {
          "base_uri": "https://localhost:8080/"
        },
        "id": "VmwKD4nlLTd2",
        "outputId": "985416b7-d351-489e-c1da-57e55a06a5c7"
      },
      "execution_count": 252,
      "outputs": [
        {
          "output_type": "execute_result",
          "data": {
            "text/plain": [
              "dict"
            ]
          },
          "metadata": {},
          "execution_count": 252
        }
      ]
    },
    {
      "cell_type": "code",
      "source": [
        "student_info['name']"
      ],
      "metadata": {
        "colab": {
          "base_uri": "https://localhost:8080/",
          "height": 35
        },
        "id": "ufaUDBP1LVuj",
        "outputId": "70df05ff-9f87-40e7-f860-648d438470d2"
      },
      "execution_count": 253,
      "outputs": [
        {
          "output_type": "execute_result",
          "data": {
            "text/plain": [
              "'Prajwal'"
            ],
            "application/vnd.google.colaboratory.intrinsic+json": {
              "type": "string"
            }
          },
          "metadata": {},
          "execution_count": 253
        }
      ]
    },
    {
      "cell_type": "code",
      "source": [
        "student_info['name'] = 'Ram'"
      ],
      "metadata": {
        "id": "aQNe64QXLaf2"
      },
      "execution_count": 254,
      "outputs": []
    },
    {
      "cell_type": "code",
      "source": [
        "student_info"
      ],
      "metadata": {
        "colab": {
          "base_uri": "https://localhost:8080/"
        },
        "id": "Z-W6V87qLlAx",
        "outputId": "16598c52-1188-48f3-8e35-4ffbfe13d48f"
      },
      "execution_count": 255,
      "outputs": [
        {
          "output_type": "execute_result",
          "data": {
            "text/plain": [
              "{'name': 'Ram',\n",
              " 'age': 26,\n",
              " 'course': ['DS', 'DA', 'AWS'],\n",
              " 'marks': [80, 90, 60]}"
            ]
          },
          "metadata": {},
          "execution_count": 255
        }
      ]
    },
    {
      "cell_type": "code",
      "source": [
        "student_info['course']"
      ],
      "metadata": {
        "colab": {
          "base_uri": "https://localhost:8080/"
        },
        "id": "gG8eOs3bLmi6",
        "outputId": "3d63b07f-3939-4924-ab50-796b4deaef25"
      },
      "execution_count": 256,
      "outputs": [
        {
          "output_type": "execute_result",
          "data": {
            "text/plain": [
              "['DS', 'DA', 'AWS']"
            ]
          },
          "metadata": {},
          "execution_count": 256
        }
      ]
    },
    {
      "cell_type": "code",
      "source": [
        "student_info['course'][2] = 'ML'"
      ],
      "metadata": {
        "id": "8fJ01ltILsyV"
      },
      "execution_count": 259,
      "outputs": []
    },
    {
      "cell_type": "code",
      "source": [
        "student_info"
      ],
      "metadata": {
        "colab": {
          "base_uri": "https://localhost:8080/"
        },
        "id": "ANyxNQjqL2q5",
        "outputId": "9c2f469f-bc2e-421f-ddfe-be3e13a79f88"
      },
      "execution_count": 260,
      "outputs": [
        {
          "output_type": "execute_result",
          "data": {
            "text/plain": [
              "{'name': 'Ram', 'age': 26, 'course': ['DS', 'DA', 'ML'], 'marks': [80, 90, 60]}"
            ]
          },
          "metadata": {},
          "execution_count": 260
        }
      ]
    },
    {
      "cell_type": "code",
      "source": [
        "student_info['course'].append('AWS')"
      ],
      "metadata": {
        "id": "Cdre7MGIL7EH"
      },
      "execution_count": 261,
      "outputs": []
    },
    {
      "cell_type": "code",
      "source": [
        "student_info"
      ],
      "metadata": {
        "colab": {
          "base_uri": "https://localhost:8080/"
        },
        "id": "73hN2iMjMo0z",
        "outputId": "9886a677-795d-4712-931b-9e8bea639db9"
      },
      "execution_count": 262,
      "outputs": [
        {
          "output_type": "execute_result",
          "data": {
            "text/plain": [
              "{'name': 'Ram',\n",
              " 'age': 26,\n",
              " 'course': ['DS', 'DA', 'ML', 'AWS'],\n",
              " 'marks': [80, 90, 60]}"
            ]
          },
          "metadata": {},
          "execution_count": 262
        }
      ]
    },
    {
      "cell_type": "code",
      "source": [
        "student_info['marks'].append(85)"
      ],
      "metadata": {
        "id": "9C8H0Ok0Mq4W"
      },
      "execution_count": 268,
      "outputs": []
    },
    {
      "cell_type": "code",
      "source": [
        "student_info"
      ],
      "metadata": {
        "colab": {
          "base_uri": "https://localhost:8080/"
        },
        "id": "LxmwMH41Mtte",
        "outputId": "2ca52081-4645-4d8f-dd23-c9670e4ee70c"
      },
      "execution_count": 269,
      "outputs": [
        {
          "output_type": "execute_result",
          "data": {
            "text/plain": [
              "{'name': 'Ram',\n",
              " 'age': 26,\n",
              " 'course': ['DS', 'DA', 'ML', 'AWS'],\n",
              " 'marks': [80, 90, 60, 90, 85]}"
            ]
          },
          "metadata": {},
          "execution_count": 269
        }
      ]
    },
    {
      "cell_type": "markdown",
      "source": [
        "# Calculate the average marks"
      ],
      "metadata": {
        "id": "hunB3hzxOyfL"
      }
    },
    {
      "cell_type": "code",
      "source": [
        "student_info"
      ],
      "metadata": {
        "colab": {
          "base_uri": "https://localhost:8080/"
        },
        "id": "BTdLDSwQObd-",
        "outputId": "7f28899c-a935-4a3f-f657-919a6e28932e"
      },
      "execution_count": 278,
      "outputs": [
        {
          "output_type": "execute_result",
          "data": {
            "text/plain": [
              "{'name': 'Ram',\n",
              " 'age': 26,\n",
              " 'course': ['DS', 'DA', 'ML', 'AWS'],\n",
              " 'marks': [80, 60, 90, 85]}"
            ]
          },
          "metadata": {},
          "execution_count": 278
        }
      ]
    },
    {
      "cell_type": "code",
      "source": [
        "student_info['marks'].remove(90)"
      ],
      "metadata": {
        "id": "_KpemDpzNnAb"
      },
      "execution_count": 275,
      "outputs": []
    },
    {
      "cell_type": "code",
      "source": [
        "student_avg_marks = sum(student_info['marks'])/len(student_info['marks'])"
      ],
      "metadata": {
        "id": "2HRTPlV-MzIr"
      },
      "execution_count": 276,
      "outputs": []
    },
    {
      "cell_type": "code",
      "source": [
        "student_avg_marks"
      ],
      "metadata": {
        "colab": {
          "base_uri": "https://localhost:8080/"
        },
        "id": "X323hLh8NFVA",
        "outputId": "353027b1-502b-4bf7-9852-6c69a0cd4907"
      },
      "execution_count": 277,
      "outputs": [
        {
          "output_type": "execute_result",
          "data": {
            "text/plain": [
              "78.75"
            ]
          },
          "metadata": {},
          "execution_count": 277
        }
      ]
    },
    {
      "cell_type": "code",
      "source": [
        "students_details = [{'name': 'Ram',\n",
        "                    'age' : 30,\n",
        "                    'course': ['DS', 'Stat', 'AWS'],\n",
        "                    'marks': [80, 90, 60]},\n",
        "\n",
        "                   {'name': 'Sam',\n",
        "                    'age' : 37,\n",
        "                    'course': ['DS', 'Stat', 'AWS'],\n",
        "                    'marks': [80, 95, 69]}\n",
        "                   ]"
      ],
      "metadata": {
        "id": "RoqwQZBzOndN"
      },
      "execution_count": 280,
      "outputs": []
    },
    {
      "cell_type": "code",
      "source": [
        "students = {'st1' : {'name': 'Ram',\n",
        "                    'age' : 30,\n",
        "                    'course': ['DS', 'Stat', 'AWS'],\n",
        "                    'marks': [80, 90, 60]},\n",
        "\n",
        "            'st2' : {'name': 'Sam',\n",
        "                    'age' : 37,\n",
        "                    'course': ['DS', 'Stat', 'AWS'],\n",
        "                    'marks': [80, 95, 69]}\n",
        "            }"
      ],
      "metadata": {
        "id": "wHecqD2MQ0xu"
      },
      "execution_count": 281,
      "outputs": []
    },
    {
      "cell_type": "code",
      "source": [
        "students['st1']['name']"
      ],
      "metadata": {
        "colab": {
          "base_uri": "https://localhost:8080/",
          "height": 35
        },
        "id": "HbHJmhy4RPwt",
        "outputId": "208c85c7-e8b4-497d-9b5c-5566e2ee1608"
      },
      "execution_count": 283,
      "outputs": [
        {
          "output_type": "execute_result",
          "data": {
            "text/plain": [
              "'Ram'"
            ],
            "application/vnd.google.colaboratory.intrinsic+json": {
              "type": "string"
            }
          },
          "metadata": {},
          "execution_count": 283
        }
      ]
    },
    {
      "cell_type": "code",
      "source": [],
      "metadata": {
        "id": "ChT9aBm1RS7R"
      },
      "execution_count": null,
      "outputs": []
    }
  ]
}