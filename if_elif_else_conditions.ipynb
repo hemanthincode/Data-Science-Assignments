{
  "nbformat": 4,
  "nbformat_minor": 0,
  "metadata": {
    "colab": {
      "provenance": []
    },
    "kernelspec": {
      "name": "python3",
      "display_name": "Python 3"
    },
    "language_info": {
      "name": "python"
    }
  },
  "cells": [
    {
      "cell_type": "code",
      "execution_count": null,
      "metadata": {
        "colab": {
          "base_uri": "https://localhost:8080/"
        },
        "id": "wihvXy_5O67U",
        "outputId": "d38f35db-c659-4ee9-9776-72d8d84e0d1f"
      },
      "outputs": [
        {
          "name": "stdout",
          "output_type": "stream",
          "text": [
            "enter a number:4567\n"
          ]
        }
      ],
      "source": [
        "x = input('enter a number:')"
      ]
    },
    {
      "cell_type": "code",
      "source": [
        "\n",
        "type(x)"
      ],
      "metadata": {
        "colab": {
          "base_uri": "https://localhost:8080/"
        },
        "id": "qmQaw_AMPJbb",
        "outputId": "7f133b5a-1150-410a-d63a-11c3e9b22265"
      },
      "execution_count": null,
      "outputs": [
        {
          "output_type": "execute_result",
          "data": {
            "text/plain": [
              "str"
            ]
          },
          "metadata": {},
          "execution_count": 2
        }
      ]
    },
    {
      "cell_type": "code",
      "source": [
        "x = int(x)"
      ],
      "metadata": {
        "id": "F3oCZ2v2PWmN"
      },
      "execution_count": null,
      "outputs": []
    },
    {
      "cell_type": "code",
      "source": [
        "type(x)"
      ],
      "metadata": {
        "colab": {
          "base_uri": "https://localhost:8080/"
        },
        "id": "JrhFEx4oPkXW",
        "outputId": "ed2b9b9c-5383-423d-aeaf-d4b7a0684a92"
      },
      "execution_count": null,
      "outputs": [
        {
          "output_type": "execute_result",
          "data": {
            "text/plain": [
              "int"
            ]
          },
          "metadata": {},
          "execution_count": 4
        }
      ]
    },
    {
      "cell_type": "code",
      "source": [
        "a = float(input('enter a number'))"
      ],
      "metadata": {
        "colab": {
          "base_uri": "https://localhost:8080/"
        },
        "id": "qWrYSqrFPldj",
        "outputId": "06976fc7-3a22-4bce-930f-87035753dfb6"
      },
      "execution_count": null,
      "outputs": [
        {
          "name": "stdout",
          "output_type": "stream",
          "text": [
            "enter a number2345.9\n"
          ]
        }
      ]
    },
    {
      "cell_type": "code",
      "source": [
        "type(a)"
      ],
      "metadata": {
        "colab": {
          "base_uri": "https://localhost:8080/"
        },
        "id": "f-yH2AIfPzJb",
        "outputId": "74039bd0-cc61-403f-b8f4-44cda80900c8"
      },
      "execution_count": null,
      "outputs": [
        {
          "output_type": "execute_result",
          "data": {
            "text/plain": [
              "float"
            ]
          },
          "metadata": {},
          "execution_count": 6
        }
      ]
    },
    {
      "cell_type": "code",
      "source": [
        "a = int(input('enter a number a :'))\n",
        "b = int(input('enter a number b :'))\n",
        "if a>b:\n",
        "  print('a is greater than b')\n",
        "  print(a)\n",
        "else:\n",
        "  print('b is greater than a')\n",
        "  print(b)"
      ],
      "metadata": {
        "colab": {
          "base_uri": "https://localhost:8080/"
        },
        "id": "t61smJLxP-xn",
        "outputId": "e65d2d2f-d735-4b2e-fed9-da02e19f5ff1"
      },
      "execution_count": null,
      "outputs": [
        {
          "output_type": "stream",
          "name": "stdout",
          "text": [
            "enter a number a :12345\n",
            "enter a number b :234\n",
            "a is greater than b\n",
            "12345\n"
          ]
        }
      ]
    },
    {
      "cell_type": "code",
      "source": [
        "a = input('enter a number')\n",
        "b = input('enter a number')\n",
        "if a==b:\n",
        "  print('equal')\n",
        "elif a>b:\n",
        "  print('a is greater to b')\n",
        "else:\n",
        "  print('b is greater than a')"
      ],
      "metadata": {
        "colab": {
          "base_uri": "https://localhost:8080/"
        },
        "id": "2jh7ScQwSYVF",
        "outputId": "0cc97c1b-91b2-4bbe-ad06-9d1462f80c8f"
      },
      "execution_count": null,
      "outputs": [
        {
          "output_type": "stream",
          "name": "stdout",
          "text": [
            "enter a number10\n",
            "enter a number10\n",
            "equal\n"
          ]
        }
      ]
    },
    {
      "cell_type": "code",
      "source": [
        "a = int(input('enter marks: '))\n",
        "if a >= 85:\n",
        "  print('A grade')\n",
        "elif (a < 85) and (a >= 80):\n",
        "  print('B grade')\n",
        "elif a < 80 and a>=75:\n",
        "  print('B- grade')\n",
        "else:\n",
        "  print('Below Average')"
      ],
      "metadata": {
        "colab": {
          "base_uri": "https://localhost:8080/"
        },
        "id": "AeeNXmR_VcBA",
        "outputId": "59d489ea-8ec4-49ea-873a-12b4660a84e8"
      },
      "execution_count": null,
      "outputs": [
        {
          "output_type": "stream",
          "name": "stdout",
          "text": [
            "enter marks: 72\n",
            "Below Average\n"
          ]
        }
      ]
    },
    {
      "cell_type": "code",
      "source": [
        "a = 12\n",
        "if a>10:\n",
        "  print('a > 10')\n",
        "elif not(a>10):\n",
        "  print('Else part')"
      ],
      "metadata": {
        "colab": {
          "base_uri": "https://localhost:8080/"
        },
        "id": "Hn8lXn07XoUN",
        "outputId": "8549a724-1ae3-4459-81c3-23408a7d25f1"
      },
      "execution_count": null,
      "outputs": [
        {
          "output_type": "stream",
          "name": "stdout",
          "text": [
            "a > 10\n"
          ]
        }
      ]
    },
    {
      "cell_type": "code",
      "source": [
        "a = int(input())\n",
        "if a>10:\n",
        "  print('>10')\n",
        "  if a > 20:\n",
        "    print('>20')\n",
        "  else:\n",
        "    print('<=20')\n",
        "print('outside of all')"
      ],
      "metadata": {
        "colab": {
          "base_uri": "https://localhost:8080/"
        },
        "id": "0kupOmWQYo9X",
        "outputId": "cdb8f3fc-4012-4c05-a8b0-c0249fd23dee"
      },
      "execution_count": null,
      "outputs": [
        {
          "output_type": "stream",
          "name": "stdout",
          "text": [
            "23\n",
            ">10\n",
            ">20\n",
            "outside of all\n"
          ]
        }
      ]
    },
    {
      "cell_type": "code",
      "source": [
        "for i in range(5):\n",
        "  print(i)"
      ],
      "metadata": {
        "id": "ERaEniH1cBG2",
        "colab": {
          "base_uri": "https://localhost:8080/"
        },
        "outputId": "ac09acd8-3736-4327-d188-3f615effe295"
      },
      "execution_count": null,
      "outputs": [
        {
          "output_type": "stream",
          "name": "stdout",
          "text": [
            "0\n",
            "1\n",
            "2\n",
            "3\n",
            "4\n"
          ]
        }
      ]
    },
    {
      "cell_type": "code",
      "source": [
        "bank = 'SBI'\n",
        "atm = 6302\n",
        "amount = 500000\n",
        "\n",
        "if bank == 'SBI':\n",
        "  pin = int(input('Enter your pin'))\n",
        "  if atm == pin:\n",
        "    amount_to_withdraw = int(input('Enter amount'))\n",
        "    if amount_to_withdraw > 0 and amount_to_withdraw <= amount:\n",
        "      print('withdrawal successful!')\n",
        "    elif amount_to_withdraw <= 0:\n",
        "      print('amount should be greater than 0')\n",
        "    else :\n",
        "      print('amount you can withdraw upto $500000 only')\n",
        "  else:\n",
        "    print('incorrect pin')\n",
        "else:\n",
        "  print('invalid bank')"
      ],
      "metadata": {
        "colab": {
          "base_uri": "https://localhost:8080/"
        },
        "id": "aSt-KpO684sZ",
        "outputId": "a66c323a-7ac3-4577-9559-c5a6a2ac4761"
      },
      "execution_count": null,
      "outputs": [
        {
          "output_type": "stream",
          "name": "stdout",
          "text": [
            "Enter your pin6302\n",
            "Enter amount2000\n",
            "withdrawal successful!\n"
          ]
        }
      ]
    },
    {
      "cell_type": "markdown",
      "source": [
        "# 1. Even or Odd: Write a program that takes an integer input from the user and prints whether it's even or odd.\n"
      ],
      "metadata": {
        "id": "mg8wijinCRln"
      }
    },
    {
      "cell_type": "code",
      "source": [
        "num = int(input('Enter your number: '))\n",
        "if num %2==0:\n",
        "  print(num,'is Even number')\n",
        "else:\n",
        "  print(num,'is Odd number')"
      ],
      "metadata": {
        "colab": {
          "base_uri": "https://localhost:8080/"
        },
        "id": "Gdp93dbkCTy-",
        "outputId": "957ca2c8-1619-487b-8875-7b791b0bace1"
      },
      "execution_count": null,
      "outputs": [
        {
          "output_type": "stream",
          "name": "stdout",
          "text": [
            "Enter your number: 7788\n",
            "7788 is Even number\n"
          ]
        }
      ]
    },
    {
      "cell_type": "markdown",
      "source": [
        "## 2. Grade Calculator: Write a program that takes a numerical grade as input and prints the corresponding letter grade based on the following scale: A: 90-100, B: 80-89, C: 70-79, D: 60-69, F: 0-59."
      ],
      "metadata": {
        "id": "u6qHrWjtDGwK"
      }
    },
    {
      "cell_type": "code",
      "source": [
        "grade = int(input('enter marks: '))\n",
        "\n",
        "if grade >= 90:\n",
        "  print('A')\n",
        "elif grade >=80:\n",
        "  print('B')\n",
        "elif grade >=70:\n",
        "  print('C')\n",
        "elif grade >= 60:\n",
        "  print('D')\n",
        "else:\n",
        "  print('F')"
      ],
      "metadata": {
        "id": "q96vUfgCAyQj",
        "colab": {
          "base_uri": "https://localhost:8080/"
        },
        "outputId": "abfb26bb-71bb-43d1-cf47-c017d0024f00"
      },
      "execution_count": null,
      "outputs": [
        {
          "output_type": "stream",
          "name": "stdout",
          "text": [
            "enter marks: 89\n",
            "B\n"
          ]
        }
      ]
    },
    {
      "cell_type": "markdown",
      "source": [
        "## 3. Leap Year Checker: Write a program that takes a year as input and prints whether it's a leap year or not. A leap year is either divisible by 400 or divisible by 4 but not by 100."
      ],
      "metadata": {
        "id": "3TYy4lEWGnxV"
      }
    },
    {
      "cell_type": "code",
      "source": [
        "year = int(input('Enter year: '))\n",
        "\n",
        "if (year % 400 == 0) or (year % 4 == 0 and year % 100 != 0):\n",
        "  print(year,'it is a leap year.')\n",
        "else:\n",
        "  print(year,'not a leap year.')"
      ],
      "metadata": {
        "id": "ZXpOQUaPFLS-",
        "colab": {
          "base_uri": "https://localhost:8080/"
        },
        "outputId": "502dccb8-c0a5-4bd5-c7a1-4cb891bf5d7d"
      },
      "execution_count": null,
      "outputs": [
        {
          "output_type": "stream",
          "name": "stdout",
          "text": [
            "Enter year: 2080\n",
            "2080 it is a leap year.\n"
          ]
        }
      ]
    },
    {
      "cell_type": "markdown",
      "source": [
        "## 4. Age Classifier: Write a program that takes an age as input and prints whether the person is a baby (0-1), toddler (1-3), child (4-12), teenager (13-19), adult (20-64), or senior (65+)."
      ],
      "metadata": {
        "id": "RvCWemJkKS9B"
      }
    },
    {
      "cell_type": "code",
      "source": [
        "age = int(input('Enter your age: '))\n",
        "\n",
        "if age <= 1:\n",
        "  print('baby')\n",
        "elif age <= 3:\n",
        "  print('toddler')\n",
        "elif age <= 12:\n",
        "  print('child')\n",
        "elif age <= 19:\n",
        "  print('teenager')\n",
        "elif age <= 64:\n",
        "  print('adult')\n",
        "else:\n",
        "  print('senior')"
      ],
      "metadata": {
        "colab": {
          "base_uri": "https://localhost:8080/"
        },
        "id": "mdOedUWPKKK3",
        "outputId": "2621e119-294d-4922-e416-9443dba86fb0"
      },
      "execution_count": null,
      "outputs": [
        {
          "output_type": "stream",
          "name": "stdout",
          "text": [
            "Enter your age: 23\n",
            "adult\n"
          ]
        }
      ]
    },
    {
      "cell_type": "markdown",
      "source": [
        "## 5. Triangle Classifier: Write a program that takes three sides of a triangle as input and prints whether it's equilateral (all sides are equal), isosceles (two sides are equal), or scalene (no sides are equal)."
      ],
      "metadata": {
        "id": "Bu8ueAjyMX3O"
      }
    },
    {
      "cell_type": "code",
      "source": [
        "a = int(input('Enter first side of a triangle: '))\n",
        "b = int(input('Enter first side of a triangle: '))\n",
        "c = int(input('Enter first side of a triangle: '))\n",
        "\n",
        "if a == b == c:\n",
        "  print('equilateral')\n",
        "elif a == b or b == c or c == a:\n",
        "  print('isosceles')\n",
        "else:\n",
        "  print('scalene')"
      ],
      "metadata": {
        "colab": {
          "base_uri": "https://localhost:8080/"
        },
        "id": "pm4j9ssyN9N2",
        "outputId": "696de893-0634-437a-a64e-ba4268c54cf8"
      },
      "execution_count": null,
      "outputs": [
        {
          "output_type": "stream",
          "name": "stdout",
          "text": [
            "Enter first side of a triangle: 1234\n",
            "Enter first side of a triangle: 1234\n",
            "Enter first side of a triangle: 2344\n",
            "isosceles\n"
          ]
        }
      ]
    },
    {
      "cell_type": "markdown",
      "source": [
        "## 6. Write a program to determine the price of a movie ticket based on the age of the person. The price varies as follows:Age 0-3: Free, Age 4-12: $10, Age 13-59: $15, Age 60 and above: $12"
      ],
      "metadata": {
        "id": "qfFqnXoZPU9_"
      }
    },
    {
      "cell_type": "code",
      "source": [
        "age = int(input('Enter your age: '))\n",
        "\n",
        "if age <= 3:\n",
        "  print('Free')\n",
        "elif age <= 12:\n",
        "  print('$10')\n",
        "elif age <= 59:\n",
        "  print('$15')\n",
        "else:\n",
        "  print('$12')"
      ],
      "metadata": {
        "colab": {
          "base_uri": "https://localhost:8080/"
        },
        "id": "ysD47bdUOpSG",
        "outputId": "7b04e43a-de58-4aa6-fd27-9d7d88ca6d67"
      },
      "execution_count": null,
      "outputs": [
        {
          "output_type": "stream",
          "name": "stdout",
          "text": [
            "Enter your age: 123\n",
            "$12\n"
          ]
        }
      ]
    },
    {
      "cell_type": "markdown",
      "source": [
        "### 7. Write a program that calculates the Body Mass Index (BMI) of a person based on their height (in meters) and weight (in kilograms). Then, classify the BMI according to the following categories:\n",
        "\n",
        "Underweight: BMI less than 18.5,\n",
        "Normal weight: BMI between 18.5 and 24.9,\n",
        "Overweight: BMI between 25 and 29.9,\n",
        "Obesity: BMI 30 or greater."
      ],
      "metadata": {
        "id": "JuRfWZJXSGCy"
      }
    },
    {
      "cell_type": "code",
      "source": [
        "BMI = int(input('Enter BMI: '))\n",
        "\n",
        "if BMI <= 18.5:\n",
        "  print('Underweight')\n",
        "elif BMI > 18.5 and BMI < 24.9:\n",
        "  print('Normal weight')\n",
        "elif BMI > 25 and BMI <=29.9:\n",
        "  print('Overweight')\n",
        "else:\n",
        "  print('Obesity')"
      ],
      "metadata": {
        "colab": {
          "base_uri": "https://localhost:8080/"
        },
        "id": "f-Y9yDwVRT5u",
        "outputId": "299bef94-526e-4212-ad62-f5d5ca4a563e"
      },
      "execution_count": null,
      "outputs": [
        {
          "output_type": "stream",
          "name": "stdout",
          "text": [
            "Enter BMI: 23\n",
            "Normal weight\n"
          ]
        }
      ]
    },
    {
      "cell_type": "code",
      "source": [],
      "metadata": {
        "id": "1KTZ10ctTgL9"
      },
      "execution_count": null,
      "outputs": []
    }
  ]
}