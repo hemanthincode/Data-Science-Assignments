{
  "nbformat": 4,
  "nbformat_minor": 0,
  "metadata": {
    "colab": {
      "provenance": []
    },
    "kernelspec": {
      "name": "python3",
      "display_name": "Python 3"
    },
    "language_info": {
      "name": "python"
    }
  },
  "cells": [
    {
      "cell_type": "code",
      "execution_count": null,
      "metadata": {
        "id": "4dc-qGWRiRaP"
      },
      "outputs": [],
      "source": [
        "%matplotlib inline\n",
        "import numpy as np\n",
        "import matplotlib.pyplot as plt\n",
        "import pandas as pd\n",
        "import scipy.stats as stats\n",
        "import random"
      ]
    },
    {
      "cell_type": "code",
      "source": [
        "np.random.seed(10)\n",
        "population_ages1 = stats.poisson.rvs(loc=18, mu=35, size=150000)\n",
        "population_ages2 = stats.poisson.rvs(loc=18, mu=10, size=100000)"
      ],
      "metadata": {
        "id": "-E7ysawFikWk"
      },
      "execution_count": null,
      "outputs": []
    },
    {
      "cell_type": "code",
      "source": [
        "population_ages = np.concatenate((population_ages1, population_ages2))\n",
        "print(len(population_ages))\n",
        "min(population_ages), max(population_ages)"
      ],
      "metadata": {
        "colab": {
          "base_uri": "https://localhost:8080/"
        },
        "id": "DwuJvmZOkHMe",
        "outputId": "d0cfd2d3-0ac1-4142-c61a-b7cdee91b5b5"
      },
      "execution_count": null,
      "outputs": [
        {
          "output_type": "stream",
          "name": "stdout",
          "text": [
            "250000\n"
          ]
        },
        {
          "output_type": "execute_result",
          "data": {
            "text/plain": [
              "(18, 81)"
            ]
          },
          "metadata": {},
          "execution_count": 4
        }
      ]
    },
    {
      "cell_type": "code",
      "source": [
        "print('mu: ',population_ages.mean())\n",
        "print('median: ', np.median(population_ages))\n",
        "print('std: ', population_ages.std())"
      ],
      "metadata": {
        "colab": {
          "base_uri": "https://localhost:8080/"
        },
        "id": "YMA8SAGokXdz",
        "outputId": "8c3b6468-4d97-4d61-dd40-941a308d95bb"
      },
      "execution_count": null,
      "outputs": [
        {
          "output_type": "stream",
          "name": "stdout",
          "text": [
            "mu:  43.002372\n",
            "median:  47.0\n",
            "std:  13.229146547438953\n"
          ]
        }
      ]
    },
    {
      "cell_type": "code",
      "source": [
        "np.random.seed(6)\n",
        "sample1 = np.random.choice(a=population_ages, size=5000)\n",
        "\n",
        "print('x_bar: ',sample1.mean())\n",
        "print('mu: ',population_ages.mean())\n",
        "print(population_ages.mean() - sample1.mean())"
      ],
      "metadata": {
        "colab": {
          "base_uri": "https://localhost:8080/"
        },
        "id": "K1ncDDLFn2JP",
        "outputId": "50e2b42b-8134-4774-d5c4-03f7189220bf"
      },
      "execution_count": null,
      "outputs": [
        {
          "output_type": "stream",
          "name": "stdout",
          "text": [
            "x_bar:  42.847\n",
            "mu:  43.002372\n",
            "0.15537199999999984\n"
          ]
        }
      ]
    },
    {
      "cell_type": "code",
      "source": [
        "np.random.seed(10)\n",
        "\n",
        "point_estimation = []\n",
        "\n",
        "for i in range(200):\n",
        "    sample = np.random.choice(a=population_ages, size=500)\n",
        "    point_estimation.append(sample.mean())\n",
        "\n",
        "print(len(point_estimation))"
      ],
      "metadata": {
        "colab": {
          "base_uri": "https://localhost:8080/"
        },
        "id": "jiGaBfdPnuhv",
        "outputId": "2efa41b8-b7cf-46a8-fd47-2ef24e4ae169"
      },
      "execution_count": null,
      "outputs": [
        {
          "output_type": "stream",
          "name": "stdout",
          "text": [
            "200\n"
          ]
        }
      ]
    },
    {
      "cell_type": "code",
      "source": [
        "min(point_estimation), max(point_estimation)"
      ],
      "metadata": {
        "colab": {
          "base_uri": "https://localhost:8080/"
        },
        "id": "pKL_UngmqqZk",
        "outputId": "7c285013-fc61-4cbb-8768-6441c0a18e28"
      },
      "execution_count": null,
      "outputs": [
        {
          "output_type": "execute_result",
          "data": {
            "text/plain": [
              "(41.554, 44.702)"
            ]
          },
          "metadata": {},
          "execution_count": 14
        }
      ]
    },
    {
      "cell_type": "code",
      "source": [
        "# Density plot for sample means/ point estimaties.\n",
        "pd.DataFrame(point_estimation).plot(kind='density', xlim=(41,45))"
      ],
      "metadata": {
        "colab": {
          "base_uri": "https://localhost:8080/",
          "height": 447
        },
        "id": "Z5C_8vn-qvme",
        "outputId": "bda800e9-ec9b-4e38-c9e9-fe2d157071bd"
      },
      "execution_count": null,
      "outputs": [
        {
          "output_type": "execute_result",
          "data": {
            "text/plain": [
              "<Axes: ylabel='Density'>"
            ]
          },
          "metadata": {},
          "execution_count": 16
        },
        {
          "output_type": "display_data",
          "data": {
            "text/plain": [
              "<Figure size 640x480 with 1 Axes>"
            ],
            "image/png": "[encoded data removed]"
          },
          "metadata": {}
        }
      ]
    },
    {
      "cell_type": "code",
      "source": [
        "# Histogram for population data\n",
        "pd.DataFrame(population_ages).hist(bins=58, range=(17.5, 75.5))\n",
        "print(stats.skew(population_ages))"
      ],
      "metadata": {
        "colab": {
          "base_uri": "https://localhost:8080/",
          "height": 469
        },
        "id": "od1MAVZAq85_",
        "outputId": "92666c7b-4c35-48f1-c198-74d3c276a89e"
      },
      "execution_count": null,
      "outputs": [
        {
          "output_type": "stream",
          "name": "stdout",
          "text": [
            "-0.12008483603917186\n"
          ]
        },
        {
          "output_type": "display_data",
          "data": {
            "text/plain": [
              "<Figure size 640x480 with 1 Axes>"
            ],
            "image/png": "[encoded data removed]"
          },
          "metadata": {}
        }
      ]
    },
    {
      "cell_type": "code",
      "source": [
        "# Histogram for sample data\n",
        "pd.DataFrame(sample1).hist(bins=58, range=(17.5, 75.5))\n",
        "print(stats.skew(sample1))"
      ],
      "metadata": {
        "colab": {
          "base_uri": "https://localhost:8080/",
          "height": 469
        },
        "id": "YPPOe69Irrqy",
        "outputId": "e7c68e72-7bc6-4ac0-e918-3cbdd5048cb4"
      },
      "execution_count": null,
      "outputs": [
        {
          "output_type": "stream",
          "name": "stdout",
          "text": [
            "-0.07594784926404424\n"
          ]
        },
        {
          "output_type": "display_data",
          "data": {
            "text/plain": [
              "<Figure size 640x480 with 1 Axes>"
            ],
            "image/png": "[encoded data removed]"
          },
          "metadata": {}
        }
      ]
    },
    {
      "cell_type": "markdown",
      "source": [
        "## Calculate 95% confidence for our mean point estimation"
      ],
      "metadata": {
        "id": "FN_3juAjuL7H"
      }
    },
    {
      "cell_type": "code",
      "source": [
        "# population mean and S.D\n",
        "np.random.seed(10)\n",
        "print('population mean estimation:', population_ages.mean())\n",
        "pop_stdev = population_ages.std()\n",
        "\n",
        "# sample data and sample mean\n",
        "sample_size = 5000\n",
        "sample = np.random.choice(a=population_ages, size=sample_size)\n",
        "print('sample mean:', sample.mean())\n",
        "\n",
        "# Get the z-critical value*\n",
        "z_critical = stats.norm.cdf(x = 0.95)\n",
        "print('z-critical value:',z_critical)\n",
        "\n",
        "# confidence Interval for 95% confidence level.\n",
        "margin_of_error = z_critical * (pop_stdev / np.sqrt(sample_size))\n",
        "\n",
        "\n",
        "confidence_interval = (sample.mean() - margin_of_error,\n",
        "                       sample.mean() + margin_of_error)\n",
        "print('confidence interval:', confidence_interval)"
      ],
      "metadata": {
        "colab": {
          "base_uri": "https://localhost:8080/"
        },
        "id": "bpcHwPw_sAfY",
        "outputId": "d6add31a-fa80-465b-a8da-c620f9df984a"
      },
      "execution_count": null,
      "outputs": [
        {
          "output_type": "stream",
          "name": "stdout",
          "text": [
            "population mean estimation: 43.002372\n",
            "sample mean: 42.8514\n",
            "z-critical value: 0.8289438736915182\n",
            "confidence interval: (42.69631422969717, 43.006485770302824)\n"
          ]
        }
      ]
    },
    {
      "cell_type": "code",
      "source": [
        "np.random.seed(12)\n",
        "sample_size = 1000\n",
        "\n",
        "CI_intervals = []\n",
        "sample_means = []\n",
        "\n",
        "for sample in range(25):\n",
        "  sample = np.random.choice(a=population_ages, size=sample_size)\n",
        "  sample_mean = round(sample.mean(),2)\n",
        "  sample_means.append(sample.mean())\n",
        "  z_critical = stats.norm.cdf(x = 0.95)\n",
        "  pop_stdev = population_ages.std()\n",
        "  margin_of_error = z_critical * (pop_stdev / np.sqrt(sample_size))\n",
        "  confidence_interval = (round(sample_mean - margin_of_error, 2),\n",
        "                       round(sample_mean + margin_of_error, 2))\n",
        "  CI_intervals.append(confidence_interval)\n",
        "\n",
        "print(CI_intervals)"
      ],
      "metadata": {
        "colab": {
          "base_uri": "https://localhost:8080/"
        },
        "id": "qo_qzOML0bAy",
        "outputId": "a132a5ff-f397-41b1-e662-db733f131300"
      },
      "execution_count": null,
      "outputs": [
        {
          "output_type": "stream",
          "name": "stdout",
          "text": [
            "[(42.91, 43.61), (42.83, 43.53), (43.16, 43.86), (42.59, 43.29), (42.31, 43.01), (43.21, 43.91), (42.61, 43.31), (42.23, 42.93), (42.0, 42.7), (43.01, 43.71), (43.05, 43.75), (42.96, 43.66), (42.2, 42.9), (42.81, 43.51), (43.11, 43.81), (42.61, 43.31), (42.27, 42.97), (42.7, 43.4), (42.72, 43.42), (42.56, 43.26), (42.16, 42.86), (42.56, 43.26), (43.87, 44.57), (42.43, 43.13), (42.9, 43.6)]\n"
          ]
        }
      ]
    },
    {
      "cell_type": "code",
      "source": [
        "sample_mean_CI = pd.DataFrame({'CI_intervals':CI_intervals, 'Sample_mean':sample_means})\n",
        "print(sample_mean_CI)"
      ],
      "metadata": {
        "colab": {
          "base_uri": "https://localhost:8080/"
        },
        "id": "klA7Nzffv913",
        "outputId": "043dacd8-d91b-4703-dde8-9bbd314ef63c"
      },
      "execution_count": null,
      "outputs": [
        {
          "output_type": "stream",
          "name": "stdout",
          "text": [
            "      CI_intervals  Sample_mean\n",
            "0   (42.91, 43.61)       43.258\n",
            "1   (42.83, 43.53)       43.175\n",
            "2   (43.16, 43.86)       43.510\n",
            "3   (42.59, 43.29)       42.941\n",
            "4   (42.31, 43.01)       42.661\n",
            "5   (43.21, 43.91)       43.559\n",
            "6   (42.61, 43.31)       42.958\n",
            "7   (42.23, 42.93)       42.576\n",
            "8     (42.0, 42.7)       42.346\n",
            "9   (43.01, 43.71)       43.360\n",
            "10  (43.05, 43.75)       43.395\n",
            "11  (42.96, 43.66)       43.313\n",
            "12    (42.2, 42.9)       42.551\n",
            "13  (42.81, 43.51)       43.156\n",
            "14  (43.11, 43.81)       43.463\n",
            "15  (42.61, 43.31)       42.955\n",
            "16  (42.27, 42.97)       42.619\n",
            "17    (42.7, 43.4)       43.050\n",
            "18  (42.72, 43.42)       43.070\n",
            "19  (42.56, 43.26)       42.911\n",
            "20  (42.16, 42.86)       42.514\n",
            "21  (42.56, 43.26)       42.910\n",
            "22  (43.87, 44.57)       44.221\n",
            "23  (42.43, 43.13)       42.781\n",
            "24    (42.9, 43.6)       43.250\n"
          ]
        }
      ]
    },
    {
      "cell_type": "code",
      "source": [
        "sample_mean_CI['Sample_mean'].skew()"
      ],
      "metadata": {
        "colab": {
          "base_uri": "https://localhost:8080/"
        },
        "id": "XeIW3WlA0PtL",
        "outputId": "877548f3-f5a6-45a0-debd-77f2c19baffe"
      },
      "execution_count": null,
      "outputs": [
        {
          "output_type": "execute_result",
          "data": {
            "text/plain": [
              "0.6250738346243871"
            ]
          },
          "metadata": {},
          "execution_count": 23
        }
      ]
    },
    {
      "cell_type": "code",
      "source": [
        "sample_mean_CI['Sample_mean'].plot(kind='density')"
      ],
      "metadata": {
        "colab": {
          "base_uri": "https://localhost:8080/",
          "height": 447
        },
        "id": "w0bdmzRo1Hfc",
        "outputId": "2a68571b-d546-4d40-eb83-de5788509c05"
      },
      "execution_count": null,
      "outputs": [
        {
          "output_type": "execute_result",
          "data": {
            "text/plain": [
              "<Axes: ylabel='Density'>"
            ]
          },
          "metadata": {},
          "execution_count": 24
        },
        {
          "output_type": "display_data",
          "data": {
            "text/plain": [
              "<Figure size 640x480 with 1 Axes>"
            ],
            "image/png": "[encoded data removed]"
          },
          "metadata": {}
        }
      ]
    },
    {
      "cell_type": "markdown",
      "source": [
        "## T distribution confidence interval"
      ],
      "metadata": {
        "id": "fhdi9Z8F2J4t"
      }
    },
    {
      "cell_type": "code",
      "source": [
        "np.random.seed(10)\n",
        "sample_size = 25\n",
        "sample = np.random.choice(a=population_ages, size=sample_size)\n",
        "sample_mean = sample.mean()\n",
        "print('sample mean:', sample_mean)\n",
        "\n",
        "# Get the t-critical value*\n",
        "t_critical = stats.t.ppf(q = 0.975, df=24)\n",
        "print('t-critical value:',t_critical)\n",
        "\n",
        "sample_stdev = sample.std(ddof=1)\n",
        "sigma = sample_stdev / np.sqrt(sample_size)\n",
        "\n",
        "# confidence Interval for 95% confidence level.\n",
        "margin_of_error = t_critical * sigma\n",
        "confidence_interval = (sample_mean - margin_of_error,\n",
        "                       sample_mean + margin_of_error)\n",
        "print('confidence interval:', confidence_interval)"
      ],
      "metadata": {
        "colab": {
          "base_uri": "https://localhost:8080/"
        },
        "id": "8qS17HTd1Nt0",
        "outputId": "16faeb7d-a2f4-4c47-9db0-850e882a09ea"
      },
      "execution_count": null,
      "outputs": [
        {
          "output_type": "stream",
          "name": "stdout",
          "text": [
            "sample mean: 42.88\n",
            "t-critical value: 2.0638985616280205\n",
            "confidence interval: (37.65147508161371, 48.108524918386294)\n"
          ]
        }
      ]
    },
    {
      "cell_type": "code",
      "source": [
        "# confidence interval for t distribution using interval function.\n",
        "stats.t.interval(confidence = 0.95,    # Confidence level  (alpha)\n",
        "                 df=24,                 # Degrees of freedom\n",
        "                 loc=sample_mean,      # Sample mean\n",
        "                 scale=sigma)           # Standard Deviation Estimate"
      ],
      "metadata": {
        "colab": {
          "base_uri": "https://localhost:8080/"
        },
        "id": "X2OjtQ_p3hSR",
        "outputId": "da7449f7-4cf5-4262-f980-b8b5ba910b6f"
      },
      "execution_count": null,
      "outputs": [
        {
          "output_type": "execute_result",
          "data": {
            "text/plain": [
              "(37.65147508161371, 48.108524918386294)"
            ]
          },
          "metadata": {},
          "execution_count": 26
        }
      ]
    },
    {
      "cell_type": "code",
      "source": [
        "# Proportion data/ Qualitative data"
      ],
      "metadata": {
        "id": "2IhpA1tO4Plf"
      },
      "execution_count": null,
      "outputs": []
    },
    {
      "cell_type": "code",
      "source": [
        "import random\n",
        "\n",
        "random.seed(10)\n",
        "population_races = (['white']*100000) + (['black']*50000) + \\\n",
        "                   (['hispanic']*50000) + (['asian']*25000) + (['other']*25000)\n",
        "print(len(population_races))\n",
        "\n",
        "# sample data from population_races\n",
        "demo_sample = random.sample(population_races, 500)\n",
        "for race in set(demo_sample):\n",
        "  print(race +' proportion estimate:' )\n",
        "  print(demo_sample.count(race)/500)\n"
      ],
      "metadata": {
        "colab": {
          "base_uri": "https://localhost:8080/"
        },
        "id": "6ywZHS4-9poo",
        "outputId": "692924c1-8462-4512-cc03-0404c5ac6d43"
      },
      "execution_count": null,
      "outputs": [
        {
          "output_type": "stream",
          "name": "stdout",
          "text": [
            "250000\n",
            "black proportion estimate:\n",
            "0.24\n",
            "asian proportion estimate:\n",
            "0.104\n",
            "white proportion estimate:\n",
            "0.368\n",
            "hispanic proportion estimate:\n",
            "0.184\n",
            "other proportion estimate:\n",
            "0.104\n"
          ]
        }
      ]
    },
    {
      "cell_type": "code",
      "source": [
        "z_critical = stats.norm.ppf(0.975)\n",
        "p = 0.192\n",
        "n = 1000\n",
        "margin_of_error = z_critical * np.sqrt((p * (1 - p)) / n)\n",
        "\n",
        "# confidence interval\n",
        "confidence_interval = (p - margin_of_error,\n",
        "                       p + margin_of_error)\n",
        "print('confidence interval:', confidence_interval)"
      ],
      "metadata": {
        "colab": {
          "base_uri": "https://localhost:8080/"
        },
        "id": "hB0gk5Cj-nEx",
        "outputId": "0ba9f54a-c9cf-44d3-adce-966461e30301"
      },
      "execution_count": null,
      "outputs": [
        {
          "output_type": "stream",
          "name": "stdout",
          "text": [
            "confidence interval: (0.16758794241348748, 0.21641205758651252)\n"
          ]
        }
      ]
    },
    {
      "cell_type": "code",
      "source": [
        "stats.norm.interval(confidence=0.975,\n",
        "                    loc= 0.192,\n",
        "                    scale=np.sqrt((p * (1 - p)) / n))"
      ],
      "metadata": {
        "colab": {
          "base_uri": "https://localhost:8080/"
        },
        "id": "-VWR_WHq_fDE",
        "outputId": "ca3e9141-76c3-4f9c-b7f5-9b77107e7921"
      },
      "execution_count": null,
      "outputs": [
        {
          "output_type": "execute_result",
          "data": {
            "text/plain": [
              "(0.16408252146852653, 0.2199174785314735)"
            ]
          },
          "metadata": {},
          "execution_count": 34
        }
      ]
    },
    {
      "cell_type": "code",
      "source": [],
      "metadata": {
        "id": "Eqf07N6X_te9"
      },
      "execution_count": null,
      "outputs": []
    }
  ]
}